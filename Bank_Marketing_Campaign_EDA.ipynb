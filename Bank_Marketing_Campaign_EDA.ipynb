{
  "cells": [
    {
      "cell_type": "markdown",
      "metadata": {
        "id": "xccJaXBa80Y-"
      },
      "source": [
        "## InsightsBank Marketing EDA"
      ]
    },
    {
      "cell_type": "markdown",
      "metadata": {
        "id": "7Z1_u8GT80ZA"
      },
      "source": [
        "#### Problem Statement:"
      ]
    },
    {
      "cell_type": "markdown",
      "metadata": {
        "id": "MCIbN6V_80ZA"
      },
      "source": [
        "\n",
        "\n",
        "The bank provides financial services/products such as savings accounts, current accounts, debit cards, etc. to its customers. In order to increase its overall revenue, the bank conducts various marketing campaigns for its financial products such as credit cards, term deposits, loans, etc. These campaigns are intended for the bank’s existing customers. However, the marketing campaigns need to be cost-efficient so that the bank not only increases their overall revenues but also the total profit. Applying EDA on the given dataset to analyse the patterns and provide inferences/solutions for the future marketing campaign.\n",
        "\n",
        "The bank conducted a telemarketing campaign for one of its financial products ‘Term Deposits’ to help foster long-term relationships with existing customers. The dataset contains information about all the customers who were contacted during a particular year to open term deposit accounts.\n",
        "\n",
        "\n",
        "**What is the term Deposit?**\n",
        "\n",
        "Term deposits also called fixed deposits, are the cash investments made for a specific time period ranging from 1 month to 5 years for predetermined fixed interest rates. The fixed interest rates offered for term deposits are higher than the regular interest rates for savings accounts. The customers receive the total amount (investment plus the interest) at the end of the maturity period. Also, the money can only be withdrawn at the end of the maturity period. Withdrawing money before that will result in an added penalty associated, and the customer will not receive any interest returns.\n",
        "\n",
        "telemarketing campaign data set to infer knowledge that where bank has to put more effort to improve it's positive response rate."
      ]
    },
    {
      "cell_type": "markdown",
      "metadata": {
        "id": "4Etz4u8480ZB"
      },
      "source": [
        "#### Importing the libraries."
      ]
    },
    {
      "cell_type": "code",
      "execution_count": 5,
      "metadata": {
        "id": "9fZO9B5g80ZB"
      },
      "outputs": [],
      "source": [
        "#import the warnings\n",
        "import warnings\n",
        "warnings.filterwarnings(\"ignore\")\\\n",
        "\n"
      ]
    },
    {
      "cell_type": "code",
      "execution_count": 8,
      "metadata": {
        "id": "Zcw2_I1980ZB"
      },
      "outputs": [],
      "source": [
        "#import the useful libraries.\n",
        "import pandas as pd\n",
        "import numpy as np\n",
        "import matplotlib.pyplot as plt\n",
        "%matplotlib inline\n",
        "import seaborn as sns"
      ]
    },
    {
      "cell_type": "markdown",
      "metadata": {
        "id": "FixyLaJt80ZB"
      },
      "source": [
        "*italicized text*## Data Cleaning"
      ]
    },
    {
      "cell_type": "markdown",
      "metadata": {
        "id": "FBqNN-LH80ZB"
      },
      "source": [
        "### Data Types"
      ]
    },
    {
      "cell_type": "markdown",
      "metadata": {
        "id": "HG0U2bSR80ZC"
      },
      "source": [
        "There are multiple types of data types available in the data set. some of them are numerical type and some of categorical type.\n",
        "\n",
        "\n"
      ]
    },
    {
      "cell_type": "markdown",
      "metadata": {
        "id": "EcBEoZ8880ZC"
      },
      "source": [
        "#### Read in the Data set."
      ]
    },
    {
      "cell_type": "code",
      "execution_count": 9,
      "metadata": {
        "id": "A_yU-S6980ZC"
      },
      "outputs": [],
      "source": [
        "#read the data set of \"bank telemarketing campaign\" in bank.\n",
        "bank = pd.read_csv(\"/content/bank_marketing_updated_v1.csv\")"
      ]
    },
    {
      "cell_type": "code",
      "execution_count": 10,
      "metadata": {
        "id": "l5xpOXJt80ZC",
        "outputId": "40aea875-205e-45e4-af1f-dd45fd6fefed",
        "colab": {
          "base_uri": "https://localhost:8080/",
          "height": 313
        }
      },
      "outputs": [
        {
          "output_type": "execute_result",
          "data": {
            "text/plain": [
              "      banking marketing Unnamed: 1                    Unnamed: 2 Unnamed: 3  \\\n",
              "0  customer id and age.        NaN  Customer salary and balance.        NaN   \n",
              "1            customerid        age                        salary    balance   \n",
              "2                     1         58                        100000       2143   \n",
              "3                     2         44                         60000         29   \n",
              "4                     3         33                        120000          2   \n",
              "\n",
              "                                          Unnamed: 4              Unnamed: 5  \\\n",
              "0  Customer marital status and job with education...                     NaN   \n",
              "1                                            marital                  jobedu   \n",
              "2                                            married     management,tertiary   \n",
              "3                                             single    technician,secondary   \n",
              "4                                            married  entrepreneur,secondary   \n",
              "\n",
              "                                   Unnamed: 6 Unnamed: 7  \\\n",
              "0  particular customer before targeted or not        NaN   \n",
              "1                                    targeted    default   \n",
              "2                                         yes         no   \n",
              "3                                         yes         no   \n",
              "4                                         yes         no   \n",
              "\n",
              "                           Unnamed: 8 Unnamed: 9   Unnamed: 10 Unnamed: 11  \\\n",
              "0  Loan types: loans or housing loans        NaN  Contact type         NaN   \n",
              "1                             housing       loan       contact         day   \n",
              "2                                 yes         no       unknown           5   \n",
              "3                                 yes         no       unknown           5   \n",
              "4                                 yes        yes       unknown           5   \n",
              "\n",
              "        Unnamed: 12       Unnamed: 13 Unnamed: 14 Unnamed: 15 Unnamed: 16  \\\n",
              "0  month of contact  duration of call         NaN         NaN         NaN   \n",
              "1             month          duration    campaign       pdays    previous   \n",
              "2         may, 2017           261 sec           1          -1           0   \n",
              "3         may, 2017           151 sec           1          -1           0   \n",
              "4         may, 2017            76 sec           1          -1           0   \n",
              "\n",
              "                   Unnamed: 17                              Unnamed: 18  \n",
              "0  outcome of previous contact  response of customer after call happned  \n",
              "1                     poutcome                                 response  \n",
              "2                      unknown                                       no  \n",
              "3                      unknown                                       no  \n",
              "4                      unknown                                       no  "
            ],
            "text/html": [
              "\n",
              "  <div id=\"df-dff009d5-e0fc-496a-b00b-cdb1394c1bff\" class=\"colab-df-container\">\n",
              "    <div>\n",
              "<style scoped>\n",
              "    .dataframe tbody tr th:only-of-type {\n",
              "        vertical-align: middle;\n",
              "    }\n",
              "\n",
              "    .dataframe tbody tr th {\n",
              "        vertical-align: top;\n",
              "    }\n",
              "\n",
              "    .dataframe thead th {\n",
              "        text-align: right;\n",
              "    }\n",
              "</style>\n",
              "<table border=\"1\" class=\"dataframe\">\n",
              "  <thead>\n",
              "    <tr style=\"text-align: right;\">\n",
              "      <th></th>\n",
              "      <th>banking marketing</th>\n",
              "      <th>Unnamed: 1</th>\n",
              "      <th>Unnamed: 2</th>\n",
              "      <th>Unnamed: 3</th>\n",
              "      <th>Unnamed: 4</th>\n",
              "      <th>Unnamed: 5</th>\n",
              "      <th>Unnamed: 6</th>\n",
              "      <th>Unnamed: 7</th>\n",
              "      <th>Unnamed: 8</th>\n",
              "      <th>Unnamed: 9</th>\n",
              "      <th>Unnamed: 10</th>\n",
              "      <th>Unnamed: 11</th>\n",
              "      <th>Unnamed: 12</th>\n",
              "      <th>Unnamed: 13</th>\n",
              "      <th>Unnamed: 14</th>\n",
              "      <th>Unnamed: 15</th>\n",
              "      <th>Unnamed: 16</th>\n",
              "      <th>Unnamed: 17</th>\n",
              "      <th>Unnamed: 18</th>\n",
              "    </tr>\n",
              "  </thead>\n",
              "  <tbody>\n",
              "    <tr>\n",
              "      <th>0</th>\n",
              "      <td>customer id and age.</td>\n",
              "      <td>NaN</td>\n",
              "      <td>Customer salary and balance.</td>\n",
              "      <td>NaN</td>\n",
              "      <td>Customer marital status and job with education...</td>\n",
              "      <td>NaN</td>\n",
              "      <td>particular customer before targeted or not</td>\n",
              "      <td>NaN</td>\n",
              "      <td>Loan types: loans or housing loans</td>\n",
              "      <td>NaN</td>\n",
              "      <td>Contact type</td>\n",
              "      <td>NaN</td>\n",
              "      <td>month of contact</td>\n",
              "      <td>duration of call</td>\n",
              "      <td>NaN</td>\n",
              "      <td>NaN</td>\n",
              "      <td>NaN</td>\n",
              "      <td>outcome of previous contact</td>\n",
              "      <td>response of customer after call happned</td>\n",
              "    </tr>\n",
              "    <tr>\n",
              "      <th>1</th>\n",
              "      <td>customerid</td>\n",
              "      <td>age</td>\n",
              "      <td>salary</td>\n",
              "      <td>balance</td>\n",
              "      <td>marital</td>\n",
              "      <td>jobedu</td>\n",
              "      <td>targeted</td>\n",
              "      <td>default</td>\n",
              "      <td>housing</td>\n",
              "      <td>loan</td>\n",
              "      <td>contact</td>\n",
              "      <td>day</td>\n",
              "      <td>month</td>\n",
              "      <td>duration</td>\n",
              "      <td>campaign</td>\n",
              "      <td>pdays</td>\n",
              "      <td>previous</td>\n",
              "      <td>poutcome</td>\n",
              "      <td>response</td>\n",
              "    </tr>\n",
              "    <tr>\n",
              "      <th>2</th>\n",
              "      <td>1</td>\n",
              "      <td>58</td>\n",
              "      <td>100000</td>\n",
              "      <td>2143</td>\n",
              "      <td>married</td>\n",
              "      <td>management,tertiary</td>\n",
              "      <td>yes</td>\n",
              "      <td>no</td>\n",
              "      <td>yes</td>\n",
              "      <td>no</td>\n",
              "      <td>unknown</td>\n",
              "      <td>5</td>\n",
              "      <td>may, 2017</td>\n",
              "      <td>261 sec</td>\n",
              "      <td>1</td>\n",
              "      <td>-1</td>\n",
              "      <td>0</td>\n",
              "      <td>unknown</td>\n",
              "      <td>no</td>\n",
              "    </tr>\n",
              "    <tr>\n",
              "      <th>3</th>\n",
              "      <td>2</td>\n",
              "      <td>44</td>\n",
              "      <td>60000</td>\n",
              "      <td>29</td>\n",
              "      <td>single</td>\n",
              "      <td>technician,secondary</td>\n",
              "      <td>yes</td>\n",
              "      <td>no</td>\n",
              "      <td>yes</td>\n",
              "      <td>no</td>\n",
              "      <td>unknown</td>\n",
              "      <td>5</td>\n",
              "      <td>may, 2017</td>\n",
              "      <td>151 sec</td>\n",
              "      <td>1</td>\n",
              "      <td>-1</td>\n",
              "      <td>0</td>\n",
              "      <td>unknown</td>\n",
              "      <td>no</td>\n",
              "    </tr>\n",
              "    <tr>\n",
              "      <th>4</th>\n",
              "      <td>3</td>\n",
              "      <td>33</td>\n",
              "      <td>120000</td>\n",
              "      <td>2</td>\n",
              "      <td>married</td>\n",
              "      <td>entrepreneur,secondary</td>\n",
              "      <td>yes</td>\n",
              "      <td>no</td>\n",
              "      <td>yes</td>\n",
              "      <td>yes</td>\n",
              "      <td>unknown</td>\n",
              "      <td>5</td>\n",
              "      <td>may, 2017</td>\n",
              "      <td>76 sec</td>\n",
              "      <td>1</td>\n",
              "      <td>-1</td>\n",
              "      <td>0</td>\n",
              "      <td>unknown</td>\n",
              "      <td>no</td>\n",
              "    </tr>\n",
              "  </tbody>\n",
              "</table>\n",
              "</div>\n",
              "    <div class=\"colab-df-buttons\">\n",
              "\n",
              "  <div class=\"colab-df-container\">\n",
              "    <button class=\"colab-df-convert\" onclick=\"convertToInteractive('df-dff009d5-e0fc-496a-b00b-cdb1394c1bff')\"\n",
              "            title=\"Convert this dataframe to an interactive table.\"\n",
              "            style=\"display:none;\">\n",
              "\n",
              "  <svg xmlns=\"http://www.w3.org/2000/svg\" height=\"24px\" viewBox=\"0 -960 960 960\">\n",
              "    <path d=\"M120-120v-720h720v720H120Zm60-500h600v-160H180v160Zm220 220h160v-160H400v160Zm0 220h160v-160H400v160ZM180-400h160v-160H180v160Zm440 0h160v-160H620v160ZM180-180h160v-160H180v160Zm440 0h160v-160H620v160Z\"/>\n",
              "  </svg>\n",
              "    </button>\n",
              "\n",
              "  <style>\n",
              "    .colab-df-container {\n",
              "      display:flex;\n",
              "      gap: 12px;\n",
              "    }\n",
              "\n",
              "    .colab-df-convert {\n",
              "      background-color: #E8F0FE;\n",
              "      border: none;\n",
              "      border-radius: 50%;\n",
              "      cursor: pointer;\n",
              "      display: none;\n",
              "      fill: #1967D2;\n",
              "      height: 32px;\n",
              "      padding: 0 0 0 0;\n",
              "      width: 32px;\n",
              "    }\n",
              "\n",
              "    .colab-df-convert:hover {\n",
              "      background-color: #E2EBFA;\n",
              "      box-shadow: 0px 1px 2px rgba(60, 64, 67, 0.3), 0px 1px 3px 1px rgba(60, 64, 67, 0.15);\n",
              "      fill: #174EA6;\n",
              "    }\n",
              "\n",
              "    .colab-df-buttons div {\n",
              "      margin-bottom: 4px;\n",
              "    }\n",
              "\n",
              "    [theme=dark] .colab-df-convert {\n",
              "      background-color: #3B4455;\n",
              "      fill: #D2E3FC;\n",
              "    }\n",
              "\n",
              "    [theme=dark] .colab-df-convert:hover {\n",
              "      background-color: #434B5C;\n",
              "      box-shadow: 0px 1px 3px 1px rgba(0, 0, 0, 0.15);\n",
              "      filter: drop-shadow(0px 1px 2px rgba(0, 0, 0, 0.3));\n",
              "      fill: #FFFFFF;\n",
              "    }\n",
              "  </style>\n",
              "\n",
              "    <script>\n",
              "      const buttonEl =\n",
              "        document.querySelector('#df-dff009d5-e0fc-496a-b00b-cdb1394c1bff button.colab-df-convert');\n",
              "      buttonEl.style.display =\n",
              "        google.colab.kernel.accessAllowed ? 'block' : 'none';\n",
              "\n",
              "      async function convertToInteractive(key) {\n",
              "        const element = document.querySelector('#df-dff009d5-e0fc-496a-b00b-cdb1394c1bff');\n",
              "        const dataTable =\n",
              "          await google.colab.kernel.invokeFunction('convertToInteractive',\n",
              "                                                    [key], {});\n",
              "        if (!dataTable) return;\n",
              "\n",
              "        const docLinkHtml = 'Like what you see? Visit the ' +\n",
              "          '<a target=\"_blank\" href=https://colab.research.google.com/notebooks/data_table.ipynb>data table notebook</a>'\n",
              "          + ' to learn more about interactive tables.';\n",
              "        element.innerHTML = '';\n",
              "        dataTable['output_type'] = 'display_data';\n",
              "        await google.colab.output.renderOutput(dataTable, element);\n",
              "        const docLink = document.createElement('div');\n",
              "        docLink.innerHTML = docLinkHtml;\n",
              "        element.appendChild(docLink);\n",
              "      }\n",
              "    </script>\n",
              "  </div>\n",
              "\n",
              "\n",
              "<div id=\"df-a61d1535-eacf-4e60-9e3e-ef5586a18b9b\">\n",
              "  <button class=\"colab-df-quickchart\" onclick=\"quickchart('df-a61d1535-eacf-4e60-9e3e-ef5586a18b9b')\"\n",
              "            title=\"Suggest charts.\"\n",
              "            style=\"display:none;\">\n",
              "\n",
              "<svg xmlns=\"http://www.w3.org/2000/svg\" height=\"24px\"viewBox=\"0 0 24 24\"\n",
              "     width=\"24px\">\n",
              "    <g>\n",
              "        <path d=\"M19 3H5c-1.1 0-2 .9-2 2v14c0 1.1.9 2 2 2h14c1.1 0 2-.9 2-2V5c0-1.1-.9-2-2-2zM9 17H7v-7h2v7zm4 0h-2V7h2v10zm4 0h-2v-4h2v4z\"/>\n",
              "    </g>\n",
              "</svg>\n",
              "  </button>\n",
              "\n",
              "<style>\n",
              "  .colab-df-quickchart {\n",
              "    background-color: #E8F0FE;\n",
              "    border: none;\n",
              "    border-radius: 50%;\n",
              "    cursor: pointer;\n",
              "    display: none;\n",
              "    fill: #1967D2;\n",
              "    height: 32px;\n",
              "    padding: 0 0 0 0;\n",
              "    width: 32px;\n",
              "  }\n",
              "\n",
              "  .colab-df-quickchart:hover {\n",
              "    background-color: #E2EBFA;\n",
              "    box-shadow: 0px 1px 2px rgba(60, 64, 67, 0.3), 0px 1px 3px 1px rgba(60, 64, 67, 0.15);\n",
              "    fill: #174EA6;\n",
              "  }\n",
              "\n",
              "  [theme=dark] .colab-df-quickchart {\n",
              "    background-color: #3B4455;\n",
              "    fill: #D2E3FC;\n",
              "  }\n",
              "\n",
              "  [theme=dark] .colab-df-quickchart:hover {\n",
              "    background-color: #434B5C;\n",
              "    box-shadow: 0px 1px 3px 1px rgba(0, 0, 0, 0.15);\n",
              "    filter: drop-shadow(0px 1px 2px rgba(0, 0, 0, 0.3));\n",
              "    fill: #FFFFFF;\n",
              "  }\n",
              "</style>\n",
              "\n",
              "  <script>\n",
              "    async function quickchart(key) {\n",
              "      const charts = await google.colab.kernel.invokeFunction(\n",
              "          'suggestCharts', [key], {});\n",
              "    }\n",
              "    (() => {\n",
              "      let quickchartButtonEl =\n",
              "        document.querySelector('#df-a61d1535-eacf-4e60-9e3e-ef5586a18b9b button');\n",
              "      quickchartButtonEl.style.display =\n",
              "        google.colab.kernel.accessAllowed ? 'block' : 'none';\n",
              "    })();\n",
              "  </script>\n",
              "</div>\n",
              "    </div>\n",
              "  </div>\n"
            ]
          },
          "metadata": {},
          "execution_count": 10
        }
      ],
      "source": [
        "#Print the head of the data frame.\n",
        "bank.head()"
      ]
    },
    {
      "cell_type": "markdown",
      "metadata": {
        "id": "n3zB7qMz80ZC"
      },
      "source": [
        "### Fixing the Rows and Columns"
      ]
    },
    {
      "cell_type": "markdown",
      "metadata": {
        "id": "h585LPtw80ZD"
      },
      "source": [
        "Checklist for fixing rows:\n",
        "- **Delete summary rows**: Total and Subtotal rows\n",
        "- **Delete incorrect rows**: Header row and footer row\n",
        "- **Delete extra rows**: Column number, indicators, Blank rows, Page No.\n",
        "\n",
        "Checklist for fixing columns:\n",
        "- **Merge columns for creating unique identifiers**, merge the columns State and City into the column Full address.\n",
        "- **Split columns to get more data**: Split the Address column to get State and City columns to analyse each separately.\n",
        "- **Add column names**: Add column names if missing.\n",
        "- **Rename columns consistently**: Abbreviations, encoded columns.\n",
        "- **Delete columns**: Delete unnecessary columns.\n",
        "- **Align misaligned columns**: The data set may have shifted columns, which you need to align correctly.\n"
      ]
    },
    {
      "cell_type": "markdown",
      "metadata": {
        "id": "VB0Xgnar80ZD"
      },
      "source": [
        "#### Read the file without unnecessary headers."
      ]
    },
    {
      "cell_type": "code",
      "execution_count": 11,
      "metadata": {
        "id": "Vqf2sc9l80ZD"
      },
      "outputs": [],
      "source": [
        "#read the file in inp0 without first two rows as it is of no use.\n",
        "bank = pd.read_csv(\"bank_marketing_updated_v1.csv\" , skiprows = 2)"
      ]
    },
    {
      "cell_type": "code",
      "execution_count": null,
      "metadata": {
        "id": "YPiDEcZo80ZD",
        "outputId": "7947a7c7-ac2f-46a7-db6c-2f7d7854f003"
      },
      "outputs": [
        {
          "data": {
            "text/html": [
              "<div>\n",
              "<style scoped>\n",
              "    .dataframe tbody tr th:only-of-type {\n",
              "        vertical-align: middle;\n",
              "    }\n",
              "\n",
              "    .dataframe tbody tr th {\n",
              "        vertical-align: top;\n",
              "    }\n",
              "\n",
              "    .dataframe thead th {\n",
              "        text-align: right;\n",
              "    }\n",
              "</style>\n",
              "<table border=\"1\" class=\"dataframe\">\n",
              "  <thead>\n",
              "    <tr style=\"text-align: right;\">\n",
              "      <th></th>\n",
              "      <th>customerid</th>\n",
              "      <th>age</th>\n",
              "      <th>salary</th>\n",
              "      <th>balance</th>\n",
              "      <th>marital</th>\n",
              "      <th>jobedu</th>\n",
              "      <th>targeted</th>\n",
              "      <th>default</th>\n",
              "      <th>housing</th>\n",
              "      <th>loan</th>\n",
              "      <th>contact</th>\n",
              "      <th>day</th>\n",
              "      <th>month</th>\n",
              "      <th>duration</th>\n",
              "      <th>campaign</th>\n",
              "      <th>pdays</th>\n",
              "      <th>previous</th>\n",
              "      <th>poutcome</th>\n",
              "      <th>response</th>\n",
              "    </tr>\n",
              "  </thead>\n",
              "  <tbody>\n",
              "    <tr>\n",
              "      <th>0</th>\n",
              "      <td>1</td>\n",
              "      <td>58.0</td>\n",
              "      <td>100000</td>\n",
              "      <td>2143</td>\n",
              "      <td>married</td>\n",
              "      <td>management,tertiary</td>\n",
              "      <td>yes</td>\n",
              "      <td>no</td>\n",
              "      <td>yes</td>\n",
              "      <td>no</td>\n",
              "      <td>unknown</td>\n",
              "      <td>5</td>\n",
              "      <td>may, 2017</td>\n",
              "      <td>261 sec</td>\n",
              "      <td>1</td>\n",
              "      <td>-1</td>\n",
              "      <td>0</td>\n",
              "      <td>unknown</td>\n",
              "      <td>no</td>\n",
              "    </tr>\n",
              "    <tr>\n",
              "      <th>1</th>\n",
              "      <td>2</td>\n",
              "      <td>44.0</td>\n",
              "      <td>60000</td>\n",
              "      <td>29</td>\n",
              "      <td>single</td>\n",
              "      <td>technician,secondary</td>\n",
              "      <td>yes</td>\n",
              "      <td>no</td>\n",
              "      <td>yes</td>\n",
              "      <td>no</td>\n",
              "      <td>unknown</td>\n",
              "      <td>5</td>\n",
              "      <td>may, 2017</td>\n",
              "      <td>151 sec</td>\n",
              "      <td>1</td>\n",
              "      <td>-1</td>\n",
              "      <td>0</td>\n",
              "      <td>unknown</td>\n",
              "      <td>no</td>\n",
              "    </tr>\n",
              "    <tr>\n",
              "      <th>2</th>\n",
              "      <td>3</td>\n",
              "      <td>33.0</td>\n",
              "      <td>120000</td>\n",
              "      <td>2</td>\n",
              "      <td>married</td>\n",
              "      <td>entrepreneur,secondary</td>\n",
              "      <td>yes</td>\n",
              "      <td>no</td>\n",
              "      <td>yes</td>\n",
              "      <td>yes</td>\n",
              "      <td>unknown</td>\n",
              "      <td>5</td>\n",
              "      <td>may, 2017</td>\n",
              "      <td>76 sec</td>\n",
              "      <td>1</td>\n",
              "      <td>-1</td>\n",
              "      <td>0</td>\n",
              "      <td>unknown</td>\n",
              "      <td>no</td>\n",
              "    </tr>\n",
              "    <tr>\n",
              "      <th>3</th>\n",
              "      <td>4</td>\n",
              "      <td>47.0</td>\n",
              "      <td>20000</td>\n",
              "      <td>1506</td>\n",
              "      <td>married</td>\n",
              "      <td>blue-collar,unknown</td>\n",
              "      <td>no</td>\n",
              "      <td>no</td>\n",
              "      <td>yes</td>\n",
              "      <td>no</td>\n",
              "      <td>unknown</td>\n",
              "      <td>5</td>\n",
              "      <td>may, 2017</td>\n",
              "      <td>92 sec</td>\n",
              "      <td>1</td>\n",
              "      <td>-1</td>\n",
              "      <td>0</td>\n",
              "      <td>unknown</td>\n",
              "      <td>no</td>\n",
              "    </tr>\n",
              "    <tr>\n",
              "      <th>4</th>\n",
              "      <td>5</td>\n",
              "      <td>33.0</td>\n",
              "      <td>0</td>\n",
              "      <td>1</td>\n",
              "      <td>single</td>\n",
              "      <td>unknown,unknown</td>\n",
              "      <td>no</td>\n",
              "      <td>no</td>\n",
              "      <td>no</td>\n",
              "      <td>no</td>\n",
              "      <td>unknown</td>\n",
              "      <td>5</td>\n",
              "      <td>may, 2017</td>\n",
              "      <td>198 sec</td>\n",
              "      <td>1</td>\n",
              "      <td>-1</td>\n",
              "      <td>0</td>\n",
              "      <td>unknown</td>\n",
              "      <td>no</td>\n",
              "    </tr>\n",
              "  </tbody>\n",
              "</table>\n",
              "</div>"
            ],
            "text/plain": [
              "   customerid   age  salary  balance  marital                  jobedu  \\\n",
              "0           1  58.0  100000     2143  married     management,tertiary   \n",
              "1           2  44.0   60000       29   single    technician,secondary   \n",
              "2           3  33.0  120000        2  married  entrepreneur,secondary   \n",
              "3           4  47.0   20000     1506  married     blue-collar,unknown   \n",
              "4           5  33.0       0        1   single         unknown,unknown   \n",
              "\n",
              "  targeted default housing loan  contact  day      month duration  campaign  \\\n",
              "0      yes      no     yes   no  unknown    5  may, 2017  261 sec         1   \n",
              "1      yes      no     yes   no  unknown    5  may, 2017  151 sec         1   \n",
              "2      yes      no     yes  yes  unknown    5  may, 2017   76 sec         1   \n",
              "3       no      no     yes   no  unknown    5  may, 2017   92 sec         1   \n",
              "4       no      no      no   no  unknown    5  may, 2017  198 sec         1   \n",
              "\n",
              "   pdays  previous poutcome response  \n",
              "0     -1         0  unknown       no  \n",
              "1     -1         0  unknown       no  \n",
              "2     -1         0  unknown       no  \n",
              "3     -1         0  unknown       no  \n",
              "4     -1         0  unknown       no  "
            ]
          },
          "execution_count": 6,
          "metadata": {},
          "output_type": "execute_result"
        }
      ],
      "source": [
        "#print the head of the data frame.\n",
        "bank.head()"
      ]
    },
    {
      "cell_type": "code",
      "execution_count": 12,
      "metadata": {
        "id": "yJ__Q-7G80ZD",
        "outputId": "3820a909-353f-4c48-f832-9cc52226b369",
        "colab": {
          "base_uri": "https://localhost:8080/"
        }
      },
      "outputs": [
        {
          "output_type": "stream",
          "name": "stdout",
          "text": [
            "<class 'pandas.core.frame.DataFrame'>\n",
            "RangeIndex: 45211 entries, 0 to 45210\n",
            "Data columns (total 19 columns):\n",
            " #   Column      Non-Null Count  Dtype  \n",
            "---  ------      --------------  -----  \n",
            " 0   customerid  45211 non-null  int64  \n",
            " 1   age         45191 non-null  float64\n",
            " 2   salary      45211 non-null  int64  \n",
            " 3   balance     45211 non-null  int64  \n",
            " 4   marital     45211 non-null  object \n",
            " 5   jobedu      45211 non-null  object \n",
            " 6   targeted    45211 non-null  object \n",
            " 7   default     45211 non-null  object \n",
            " 8   housing     45211 non-null  object \n",
            " 9   loan        45211 non-null  object \n",
            " 10  contact     45211 non-null  object \n",
            " 11  day         45211 non-null  int64  \n",
            " 12  month       45161 non-null  object \n",
            " 13  duration    45211 non-null  object \n",
            " 14  campaign    45211 non-null  int64  \n",
            " 15  pdays       45211 non-null  int64  \n",
            " 16  previous    45211 non-null  int64  \n",
            " 17  poutcome    45211 non-null  object \n",
            " 18  response    45181 non-null  object \n",
            "dtypes: float64(1), int64(7), object(11)\n",
            "memory usage: 6.6+ MB\n"
          ]
        }
      ],
      "source": [
        "#print the information of variables to check their data types.\n",
        "bank.info()\n"
      ]
    },
    {
      "cell_type": "code",
      "execution_count": null,
      "metadata": {
        "id": "sEWFlt2f80ZD"
      },
      "outputs": [],
      "source": [
        "bank.dropna(subset = ['age'],inplace = True)"
      ]
    },
    {
      "cell_type": "code",
      "execution_count": 13,
      "metadata": {
        "id": "qwyq9I8580ZD",
        "outputId": "09328579-b19c-47e4-9b20-02871a6e32ad",
        "colab": {
          "base_uri": "https://localhost:8080/"
        }
      },
      "outputs": [
        {
          "output_type": "execute_result",
          "data": {
            "text/plain": [
              "0        58.0\n",
              "1        44.0\n",
              "2        33.0\n",
              "3        47.0\n",
              "4        33.0\n",
              "         ... \n",
              "45206    51.0\n",
              "45207    71.0\n",
              "45208    72.0\n",
              "45209    57.0\n",
              "45210    37.0\n",
              "Name: age, Length: 45211, dtype: float64"
            ]
          },
          "metadata": {},
          "execution_count": 13
        }
      ],
      "source": [
        "#convert the age variable data type from float to integer.\n",
        "bank.age = bank[\"age\"].astype('int',errors = 'ignore')\n",
        "bank.age"
      ]
    },
    {
      "cell_type": "code",
      "execution_count": 14,
      "metadata": {
        "id": "DihuIth780ZD",
        "outputId": "a21b68ab-ff51-45ce-c41d-5c43aeb3d7eb",
        "colab": {
          "base_uri": "https://localhost:8080/"
        }
      },
      "outputs": [
        {
          "output_type": "execute_result",
          "data": {
            "text/plain": [
              "40.93565090394105"
            ]
          },
          "metadata": {},
          "execution_count": 14
        }
      ],
      "source": [
        "#print the average age of customers.\n",
        "bank.age.mean()"
      ]
    },
    {
      "cell_type": "markdown",
      "metadata": {
        "id": "5L9aBAgM80ZD"
      },
      "source": [
        "#### Dropping customer id column."
      ]
    },
    {
      "cell_type": "code",
      "execution_count": 15,
      "metadata": {
        "id": "Juyq7Af980ZD",
        "outputId": "181ed085-991f-4bfc-adf4-265dc8b3c76b",
        "colab": {
          "base_uri": "https://localhost:8080/",
          "height": 313
        }
      },
      "outputs": [
        {
          "output_type": "execute_result",
          "data": {
            "text/plain": [
              "    age  salary  balance  marital                  jobedu targeted default  \\\n",
              "0  58.0  100000     2143  married     management,tertiary      yes      no   \n",
              "1  44.0   60000       29   single    technician,secondary      yes      no   \n",
              "2  33.0  120000        2  married  entrepreneur,secondary      yes      no   \n",
              "3  47.0   20000     1506  married     blue-collar,unknown       no      no   \n",
              "4  33.0       0        1   single         unknown,unknown       no      no   \n",
              "\n",
              "  housing loan  contact  day      month duration  campaign  pdays  previous  \\\n",
              "0     yes   no  unknown    5  may, 2017  261 sec         1     -1         0   \n",
              "1     yes   no  unknown    5  may, 2017  151 sec         1     -1         0   \n",
              "2     yes  yes  unknown    5  may, 2017   76 sec         1     -1         0   \n",
              "3     yes   no  unknown    5  may, 2017   92 sec         1     -1         0   \n",
              "4      no   no  unknown    5  may, 2017  198 sec         1     -1         0   \n",
              "\n",
              "  poutcome response  \n",
              "0  unknown       no  \n",
              "1  unknown       no  \n",
              "2  unknown       no  \n",
              "3  unknown       no  \n",
              "4  unknown       no  "
            ],
            "text/html": [
              "\n",
              "  <div id=\"df-55b8b96f-3d29-473b-bbdc-8a267df5b0e2\" class=\"colab-df-container\">\n",
              "    <div>\n",
              "<style scoped>\n",
              "    .dataframe tbody tr th:only-of-type {\n",
              "        vertical-align: middle;\n",
              "    }\n",
              "\n",
              "    .dataframe tbody tr th {\n",
              "        vertical-align: top;\n",
              "    }\n",
              "\n",
              "    .dataframe thead th {\n",
              "        text-align: right;\n",
              "    }\n",
              "</style>\n",
              "<table border=\"1\" class=\"dataframe\">\n",
              "  <thead>\n",
              "    <tr style=\"text-align: right;\">\n",
              "      <th></th>\n",
              "      <th>age</th>\n",
              "      <th>salary</th>\n",
              "      <th>balance</th>\n",
              "      <th>marital</th>\n",
              "      <th>jobedu</th>\n",
              "      <th>targeted</th>\n",
              "      <th>default</th>\n",
              "      <th>housing</th>\n",
              "      <th>loan</th>\n",
              "      <th>contact</th>\n",
              "      <th>day</th>\n",
              "      <th>month</th>\n",
              "      <th>duration</th>\n",
              "      <th>campaign</th>\n",
              "      <th>pdays</th>\n",
              "      <th>previous</th>\n",
              "      <th>poutcome</th>\n",
              "      <th>response</th>\n",
              "    </tr>\n",
              "  </thead>\n",
              "  <tbody>\n",
              "    <tr>\n",
              "      <th>0</th>\n",
              "      <td>58.0</td>\n",
              "      <td>100000</td>\n",
              "      <td>2143</td>\n",
              "      <td>married</td>\n",
              "      <td>management,tertiary</td>\n",
              "      <td>yes</td>\n",
              "      <td>no</td>\n",
              "      <td>yes</td>\n",
              "      <td>no</td>\n",
              "      <td>unknown</td>\n",
              "      <td>5</td>\n",
              "      <td>may, 2017</td>\n",
              "      <td>261 sec</td>\n",
              "      <td>1</td>\n",
              "      <td>-1</td>\n",
              "      <td>0</td>\n",
              "      <td>unknown</td>\n",
              "      <td>no</td>\n",
              "    </tr>\n",
              "    <tr>\n",
              "      <th>1</th>\n",
              "      <td>44.0</td>\n",
              "      <td>60000</td>\n",
              "      <td>29</td>\n",
              "      <td>single</td>\n",
              "      <td>technician,secondary</td>\n",
              "      <td>yes</td>\n",
              "      <td>no</td>\n",
              "      <td>yes</td>\n",
              "      <td>no</td>\n",
              "      <td>unknown</td>\n",
              "      <td>5</td>\n",
              "      <td>may, 2017</td>\n",
              "      <td>151 sec</td>\n",
              "      <td>1</td>\n",
              "      <td>-1</td>\n",
              "      <td>0</td>\n",
              "      <td>unknown</td>\n",
              "      <td>no</td>\n",
              "    </tr>\n",
              "    <tr>\n",
              "      <th>2</th>\n",
              "      <td>33.0</td>\n",
              "      <td>120000</td>\n",
              "      <td>2</td>\n",
              "      <td>married</td>\n",
              "      <td>entrepreneur,secondary</td>\n",
              "      <td>yes</td>\n",
              "      <td>no</td>\n",
              "      <td>yes</td>\n",
              "      <td>yes</td>\n",
              "      <td>unknown</td>\n",
              "      <td>5</td>\n",
              "      <td>may, 2017</td>\n",
              "      <td>76 sec</td>\n",
              "      <td>1</td>\n",
              "      <td>-1</td>\n",
              "      <td>0</td>\n",
              "      <td>unknown</td>\n",
              "      <td>no</td>\n",
              "    </tr>\n",
              "    <tr>\n",
              "      <th>3</th>\n",
              "      <td>47.0</td>\n",
              "      <td>20000</td>\n",
              "      <td>1506</td>\n",
              "      <td>married</td>\n",
              "      <td>blue-collar,unknown</td>\n",
              "      <td>no</td>\n",
              "      <td>no</td>\n",
              "      <td>yes</td>\n",
              "      <td>no</td>\n",
              "      <td>unknown</td>\n",
              "      <td>5</td>\n",
              "      <td>may, 2017</td>\n",
              "      <td>92 sec</td>\n",
              "      <td>1</td>\n",
              "      <td>-1</td>\n",
              "      <td>0</td>\n",
              "      <td>unknown</td>\n",
              "      <td>no</td>\n",
              "    </tr>\n",
              "    <tr>\n",
              "      <th>4</th>\n",
              "      <td>33.0</td>\n",
              "      <td>0</td>\n",
              "      <td>1</td>\n",
              "      <td>single</td>\n",
              "      <td>unknown,unknown</td>\n",
              "      <td>no</td>\n",
              "      <td>no</td>\n",
              "      <td>no</td>\n",
              "      <td>no</td>\n",
              "      <td>unknown</td>\n",
              "      <td>5</td>\n",
              "      <td>may, 2017</td>\n",
              "      <td>198 sec</td>\n",
              "      <td>1</td>\n",
              "      <td>-1</td>\n",
              "      <td>0</td>\n",
              "      <td>unknown</td>\n",
              "      <td>no</td>\n",
              "    </tr>\n",
              "  </tbody>\n",
              "</table>\n",
              "</div>\n",
              "    <div class=\"colab-df-buttons\">\n",
              "\n",
              "  <div class=\"colab-df-container\">\n",
              "    <button class=\"colab-df-convert\" onclick=\"convertToInteractive('df-55b8b96f-3d29-473b-bbdc-8a267df5b0e2')\"\n",
              "            title=\"Convert this dataframe to an interactive table.\"\n",
              "            style=\"display:none;\">\n",
              "\n",
              "  <svg xmlns=\"http://www.w3.org/2000/svg\" height=\"24px\" viewBox=\"0 -960 960 960\">\n",
              "    <path d=\"M120-120v-720h720v720H120Zm60-500h600v-160H180v160Zm220 220h160v-160H400v160Zm0 220h160v-160H400v160ZM180-400h160v-160H180v160Zm440 0h160v-160H620v160ZM180-180h160v-160H180v160Zm440 0h160v-160H620v160Z\"/>\n",
              "  </svg>\n",
              "    </button>\n",
              "\n",
              "  <style>\n",
              "    .colab-df-container {\n",
              "      display:flex;\n",
              "      gap: 12px;\n",
              "    }\n",
              "\n",
              "    .colab-df-convert {\n",
              "      background-color: #E8F0FE;\n",
              "      border: none;\n",
              "      border-radius: 50%;\n",
              "      cursor: pointer;\n",
              "      display: none;\n",
              "      fill: #1967D2;\n",
              "      height: 32px;\n",
              "      padding: 0 0 0 0;\n",
              "      width: 32px;\n",
              "    }\n",
              "\n",
              "    .colab-df-convert:hover {\n",
              "      background-color: #E2EBFA;\n",
              "      box-shadow: 0px 1px 2px rgba(60, 64, 67, 0.3), 0px 1px 3px 1px rgba(60, 64, 67, 0.15);\n",
              "      fill: #174EA6;\n",
              "    }\n",
              "\n",
              "    .colab-df-buttons div {\n",
              "      margin-bottom: 4px;\n",
              "    }\n",
              "\n",
              "    [theme=dark] .colab-df-convert {\n",
              "      background-color: #3B4455;\n",
              "      fill: #D2E3FC;\n",
              "    }\n",
              "\n",
              "    [theme=dark] .colab-df-convert:hover {\n",
              "      background-color: #434B5C;\n",
              "      box-shadow: 0px 1px 3px 1px rgba(0, 0, 0, 0.15);\n",
              "      filter: drop-shadow(0px 1px 2px rgba(0, 0, 0, 0.3));\n",
              "      fill: #FFFFFF;\n",
              "    }\n",
              "  </style>\n",
              "\n",
              "    <script>\n",
              "      const buttonEl =\n",
              "        document.querySelector('#df-55b8b96f-3d29-473b-bbdc-8a267df5b0e2 button.colab-df-convert');\n",
              "      buttonEl.style.display =\n",
              "        google.colab.kernel.accessAllowed ? 'block' : 'none';\n",
              "\n",
              "      async function convertToInteractive(key) {\n",
              "        const element = document.querySelector('#df-55b8b96f-3d29-473b-bbdc-8a267df5b0e2');\n",
              "        const dataTable =\n",
              "          await google.colab.kernel.invokeFunction('convertToInteractive',\n",
              "                                                    [key], {});\n",
              "        if (!dataTable) return;\n",
              "\n",
              "        const docLinkHtml = 'Like what you see? Visit the ' +\n",
              "          '<a target=\"_blank\" href=https://colab.research.google.com/notebooks/data_table.ipynb>data table notebook</a>'\n",
              "          + ' to learn more about interactive tables.';\n",
              "        element.innerHTML = '';\n",
              "        dataTable['output_type'] = 'display_data';\n",
              "        await google.colab.output.renderOutput(dataTable, element);\n",
              "        const docLink = document.createElement('div');\n",
              "        docLink.innerHTML = docLinkHtml;\n",
              "        element.appendChild(docLink);\n",
              "      }\n",
              "    </script>\n",
              "  </div>\n",
              "\n",
              "\n",
              "<div id=\"df-592565b5-8eb2-478d-a9d7-8b5360f778ff\">\n",
              "  <button class=\"colab-df-quickchart\" onclick=\"quickchart('df-592565b5-8eb2-478d-a9d7-8b5360f778ff')\"\n",
              "            title=\"Suggest charts.\"\n",
              "            style=\"display:none;\">\n",
              "\n",
              "<svg xmlns=\"http://www.w3.org/2000/svg\" height=\"24px\"viewBox=\"0 0 24 24\"\n",
              "     width=\"24px\">\n",
              "    <g>\n",
              "        <path d=\"M19 3H5c-1.1 0-2 .9-2 2v14c0 1.1.9 2 2 2h14c1.1 0 2-.9 2-2V5c0-1.1-.9-2-2-2zM9 17H7v-7h2v7zm4 0h-2V7h2v10zm4 0h-2v-4h2v4z\"/>\n",
              "    </g>\n",
              "</svg>\n",
              "  </button>\n",
              "\n",
              "<style>\n",
              "  .colab-df-quickchart {\n",
              "    background-color: #E8F0FE;\n",
              "    border: none;\n",
              "    border-radius: 50%;\n",
              "    cursor: pointer;\n",
              "    display: none;\n",
              "    fill: #1967D2;\n",
              "    height: 32px;\n",
              "    padding: 0 0 0 0;\n",
              "    width: 32px;\n",
              "  }\n",
              "\n",
              "  .colab-df-quickchart:hover {\n",
              "    background-color: #E2EBFA;\n",
              "    box-shadow: 0px 1px 2px rgba(60, 64, 67, 0.3), 0px 1px 3px 1px rgba(60, 64, 67, 0.15);\n",
              "    fill: #174EA6;\n",
              "  }\n",
              "\n",
              "  [theme=dark] .colab-df-quickchart {\n",
              "    background-color: #3B4455;\n",
              "    fill: #D2E3FC;\n",
              "  }\n",
              "\n",
              "  [theme=dark] .colab-df-quickchart:hover {\n",
              "    background-color: #434B5C;\n",
              "    box-shadow: 0px 1px 3px 1px rgba(0, 0, 0, 0.15);\n",
              "    filter: drop-shadow(0px 1px 2px rgba(0, 0, 0, 0.3));\n",
              "    fill: #FFFFFF;\n",
              "  }\n",
              "</style>\n",
              "\n",
              "  <script>\n",
              "    async function quickchart(key) {\n",
              "      const charts = await google.colab.kernel.invokeFunction(\n",
              "          'suggestCharts', [key], {});\n",
              "    }\n",
              "    (() => {\n",
              "      let quickchartButtonEl =\n",
              "        document.querySelector('#df-592565b5-8eb2-478d-a9d7-8b5360f778ff button');\n",
              "      quickchartButtonEl.style.display =\n",
              "        google.colab.kernel.accessAllowed ? 'block' : 'none';\n",
              "    })();\n",
              "  </script>\n",
              "</div>\n",
              "    </div>\n",
              "  </div>\n"
            ]
          },
          "metadata": {},
          "execution_count": 15
        }
      ],
      "source": [
        "#drop the customer id as it is of no use.\n",
        "bank.drop([\"customerid\"],axis = 1 , inplace = True)\n",
        "bank.head()"
      ]
    },
    {
      "cell_type": "markdown",
      "metadata": {
        "id": "jBQJCnnH80ZE"
      },
      "source": [
        "#### Dividing \"jobedu\" column into job and education categories."
      ]
    },
    {
      "cell_type": "code",
      "execution_count": 16,
      "metadata": {
        "id": "rF2JFytp80ZE"
      },
      "outputs": [],
      "source": [
        "#Extract job in newly created 'job' column from \"jobedu\" column.\n",
        "bank['job']= bank.jobedu.apply(lambda x : x.split(\",\")[0])"
      ]
    },
    {
      "cell_type": "code",
      "execution_count": 17,
      "metadata": {
        "id": "UlPRGACz80ZE",
        "outputId": "e0a33a55-ebef-453d-851c-8d97fd42437d",
        "colab": {
          "base_uri": "https://localhost:8080/",
          "height": 313
        }
      },
      "outputs": [
        {
          "output_type": "execute_result",
          "data": {
            "text/plain": [
              "    age  salary  balance  marital                  jobedu targeted default  \\\n",
              "0  58.0  100000     2143  married     management,tertiary      yes      no   \n",
              "1  44.0   60000       29   single    technician,secondary      yes      no   \n",
              "2  33.0  120000        2  married  entrepreneur,secondary      yes      no   \n",
              "3  47.0   20000     1506  married     blue-collar,unknown       no      no   \n",
              "4  33.0       0        1   single         unknown,unknown       no      no   \n",
              "\n",
              "  housing loan  contact  day      month duration  campaign  pdays  previous  \\\n",
              "0     yes   no  unknown    5  may, 2017  261 sec         1     -1         0   \n",
              "1     yes   no  unknown    5  may, 2017  151 sec         1     -1         0   \n",
              "2     yes  yes  unknown    5  may, 2017   76 sec         1     -1         0   \n",
              "3     yes   no  unknown    5  may, 2017   92 sec         1     -1         0   \n",
              "4      no   no  unknown    5  may, 2017  198 sec         1     -1         0   \n",
              "\n",
              "  poutcome response           job  education  \n",
              "0  unknown       no    management   tertiary  \n",
              "1  unknown       no    technician  secondary  \n",
              "2  unknown       no  entrepreneur  secondary  \n",
              "3  unknown       no   blue-collar    unknown  \n",
              "4  unknown       no       unknown    unknown  "
            ],
            "text/html": [
              "\n",
              "  <div id=\"df-921ea3bf-2015-475d-82cd-7d0fb17ac01b\" class=\"colab-df-container\">\n",
              "    <div>\n",
              "<style scoped>\n",
              "    .dataframe tbody tr th:only-of-type {\n",
              "        vertical-align: middle;\n",
              "    }\n",
              "\n",
              "    .dataframe tbody tr th {\n",
              "        vertical-align: top;\n",
              "    }\n",
              "\n",
              "    .dataframe thead th {\n",
              "        text-align: right;\n",
              "    }\n",
              "</style>\n",
              "<table border=\"1\" class=\"dataframe\">\n",
              "  <thead>\n",
              "    <tr style=\"text-align: right;\">\n",
              "      <th></th>\n",
              "      <th>age</th>\n",
              "      <th>salary</th>\n",
              "      <th>balance</th>\n",
              "      <th>marital</th>\n",
              "      <th>jobedu</th>\n",
              "      <th>targeted</th>\n",
              "      <th>default</th>\n",
              "      <th>housing</th>\n",
              "      <th>loan</th>\n",
              "      <th>contact</th>\n",
              "      <th>day</th>\n",
              "      <th>month</th>\n",
              "      <th>duration</th>\n",
              "      <th>campaign</th>\n",
              "      <th>pdays</th>\n",
              "      <th>previous</th>\n",
              "      <th>poutcome</th>\n",
              "      <th>response</th>\n",
              "      <th>job</th>\n",
              "      <th>education</th>\n",
              "    </tr>\n",
              "  </thead>\n",
              "  <tbody>\n",
              "    <tr>\n",
              "      <th>0</th>\n",
              "      <td>58.0</td>\n",
              "      <td>100000</td>\n",
              "      <td>2143</td>\n",
              "      <td>married</td>\n",
              "      <td>management,tertiary</td>\n",
              "      <td>yes</td>\n",
              "      <td>no</td>\n",
              "      <td>yes</td>\n",
              "      <td>no</td>\n",
              "      <td>unknown</td>\n",
              "      <td>5</td>\n",
              "      <td>may, 2017</td>\n",
              "      <td>261 sec</td>\n",
              "      <td>1</td>\n",
              "      <td>-1</td>\n",
              "      <td>0</td>\n",
              "      <td>unknown</td>\n",
              "      <td>no</td>\n",
              "      <td>management</td>\n",
              "      <td>tertiary</td>\n",
              "    </tr>\n",
              "    <tr>\n",
              "      <th>1</th>\n",
              "      <td>44.0</td>\n",
              "      <td>60000</td>\n",
              "      <td>29</td>\n",
              "      <td>single</td>\n",
              "      <td>technician,secondary</td>\n",
              "      <td>yes</td>\n",
              "      <td>no</td>\n",
              "      <td>yes</td>\n",
              "      <td>no</td>\n",
              "      <td>unknown</td>\n",
              "      <td>5</td>\n",
              "      <td>may, 2017</td>\n",
              "      <td>151 sec</td>\n",
              "      <td>1</td>\n",
              "      <td>-1</td>\n",
              "      <td>0</td>\n",
              "      <td>unknown</td>\n",
              "      <td>no</td>\n",
              "      <td>technician</td>\n",
              "      <td>secondary</td>\n",
              "    </tr>\n",
              "    <tr>\n",
              "      <th>2</th>\n",
              "      <td>33.0</td>\n",
              "      <td>120000</td>\n",
              "      <td>2</td>\n",
              "      <td>married</td>\n",
              "      <td>entrepreneur,secondary</td>\n",
              "      <td>yes</td>\n",
              "      <td>no</td>\n",
              "      <td>yes</td>\n",
              "      <td>yes</td>\n",
              "      <td>unknown</td>\n",
              "      <td>5</td>\n",
              "      <td>may, 2017</td>\n",
              "      <td>76 sec</td>\n",
              "      <td>1</td>\n",
              "      <td>-1</td>\n",
              "      <td>0</td>\n",
              "      <td>unknown</td>\n",
              "      <td>no</td>\n",
              "      <td>entrepreneur</td>\n",
              "      <td>secondary</td>\n",
              "    </tr>\n",
              "    <tr>\n",
              "      <th>3</th>\n",
              "      <td>47.0</td>\n",
              "      <td>20000</td>\n",
              "      <td>1506</td>\n",
              "      <td>married</td>\n",
              "      <td>blue-collar,unknown</td>\n",
              "      <td>no</td>\n",
              "      <td>no</td>\n",
              "      <td>yes</td>\n",
              "      <td>no</td>\n",
              "      <td>unknown</td>\n",
              "      <td>5</td>\n",
              "      <td>may, 2017</td>\n",
              "      <td>92 sec</td>\n",
              "      <td>1</td>\n",
              "      <td>-1</td>\n",
              "      <td>0</td>\n",
              "      <td>unknown</td>\n",
              "      <td>no</td>\n",
              "      <td>blue-collar</td>\n",
              "      <td>unknown</td>\n",
              "    </tr>\n",
              "    <tr>\n",
              "      <th>4</th>\n",
              "      <td>33.0</td>\n",
              "      <td>0</td>\n",
              "      <td>1</td>\n",
              "      <td>single</td>\n",
              "      <td>unknown,unknown</td>\n",
              "      <td>no</td>\n",
              "      <td>no</td>\n",
              "      <td>no</td>\n",
              "      <td>no</td>\n",
              "      <td>unknown</td>\n",
              "      <td>5</td>\n",
              "      <td>may, 2017</td>\n",
              "      <td>198 sec</td>\n",
              "      <td>1</td>\n",
              "      <td>-1</td>\n",
              "      <td>0</td>\n",
              "      <td>unknown</td>\n",
              "      <td>no</td>\n",
              "      <td>unknown</td>\n",
              "      <td>unknown</td>\n",
              "    </tr>\n",
              "  </tbody>\n",
              "</table>\n",
              "</div>\n",
              "    <div class=\"colab-df-buttons\">\n",
              "\n",
              "  <div class=\"colab-df-container\">\n",
              "    <button class=\"colab-df-convert\" onclick=\"convertToInteractive('df-921ea3bf-2015-475d-82cd-7d0fb17ac01b')\"\n",
              "            title=\"Convert this dataframe to an interactive table.\"\n",
              "            style=\"display:none;\">\n",
              "\n",
              "  <svg xmlns=\"http://www.w3.org/2000/svg\" height=\"24px\" viewBox=\"0 -960 960 960\">\n",
              "    <path d=\"M120-120v-720h720v720H120Zm60-500h600v-160H180v160Zm220 220h160v-160H400v160Zm0 220h160v-160H400v160ZM180-400h160v-160H180v160Zm440 0h160v-160H620v160ZM180-180h160v-160H180v160Zm440 0h160v-160H620v160Z\"/>\n",
              "  </svg>\n",
              "    </button>\n",
              "\n",
              "  <style>\n",
              "    .colab-df-container {\n",
              "      display:flex;\n",
              "      gap: 12px;\n",
              "    }\n",
              "\n",
              "    .colab-df-convert {\n",
              "      background-color: #E8F0FE;\n",
              "      border: none;\n",
              "      border-radius: 50%;\n",
              "      cursor: pointer;\n",
              "      display: none;\n",
              "      fill: #1967D2;\n",
              "      height: 32px;\n",
              "      padding: 0 0 0 0;\n",
              "      width: 32px;\n",
              "    }\n",
              "\n",
              "    .colab-df-convert:hover {\n",
              "      background-color: #E2EBFA;\n",
              "      box-shadow: 0px 1px 2px rgba(60, 64, 67, 0.3), 0px 1px 3px 1px rgba(60, 64, 67, 0.15);\n",
              "      fill: #174EA6;\n",
              "    }\n",
              "\n",
              "    .colab-df-buttons div {\n",
              "      margin-bottom: 4px;\n",
              "    }\n",
              "\n",
              "    [theme=dark] .colab-df-convert {\n",
              "      background-color: #3B4455;\n",
              "      fill: #D2E3FC;\n",
              "    }\n",
              "\n",
              "    [theme=dark] .colab-df-convert:hover {\n",
              "      background-color: #434B5C;\n",
              "      box-shadow: 0px 1px 3px 1px rgba(0, 0, 0, 0.15);\n",
              "      filter: drop-shadow(0px 1px 2px rgba(0, 0, 0, 0.3));\n",
              "      fill: #FFFFFF;\n",
              "    }\n",
              "  </style>\n",
              "\n",
              "    <script>\n",
              "      const buttonEl =\n",
              "        document.querySelector('#df-921ea3bf-2015-475d-82cd-7d0fb17ac01b button.colab-df-convert');\n",
              "      buttonEl.style.display =\n",
              "        google.colab.kernel.accessAllowed ? 'block' : 'none';\n",
              "\n",
              "      async function convertToInteractive(key) {\n",
              "        const element = document.querySelector('#df-921ea3bf-2015-475d-82cd-7d0fb17ac01b');\n",
              "        const dataTable =\n",
              "          await google.colab.kernel.invokeFunction('convertToInteractive',\n",
              "                                                    [key], {});\n",
              "        if (!dataTable) return;\n",
              "\n",
              "        const docLinkHtml = 'Like what you see? Visit the ' +\n",
              "          '<a target=\"_blank\" href=https://colab.research.google.com/notebooks/data_table.ipynb>data table notebook</a>'\n",
              "          + ' to learn more about interactive tables.';\n",
              "        element.innerHTML = '';\n",
              "        dataTable['output_type'] = 'display_data';\n",
              "        await google.colab.output.renderOutput(dataTable, element);\n",
              "        const docLink = document.createElement('div');\n",
              "        docLink.innerHTML = docLinkHtml;\n",
              "        element.appendChild(docLink);\n",
              "      }\n",
              "    </script>\n",
              "  </div>\n",
              "\n",
              "\n",
              "<div id=\"df-86b082d2-bd34-48e9-8f96-9c3d12a96c30\">\n",
              "  <button class=\"colab-df-quickchart\" onclick=\"quickchart('df-86b082d2-bd34-48e9-8f96-9c3d12a96c30')\"\n",
              "            title=\"Suggest charts.\"\n",
              "            style=\"display:none;\">\n",
              "\n",
              "<svg xmlns=\"http://www.w3.org/2000/svg\" height=\"24px\"viewBox=\"0 0 24 24\"\n",
              "     width=\"24px\">\n",
              "    <g>\n",
              "        <path d=\"M19 3H5c-1.1 0-2 .9-2 2v14c0 1.1.9 2 2 2h14c1.1 0 2-.9 2-2V5c0-1.1-.9-2-2-2zM9 17H7v-7h2v7zm4 0h-2V7h2v10zm4 0h-2v-4h2v4z\"/>\n",
              "    </g>\n",
              "</svg>\n",
              "  </button>\n",
              "\n",
              "<style>\n",
              "  .colab-df-quickchart {\n",
              "    background-color: #E8F0FE;\n",
              "    border: none;\n",
              "    border-radius: 50%;\n",
              "    cursor: pointer;\n",
              "    display: none;\n",
              "    fill: #1967D2;\n",
              "    height: 32px;\n",
              "    padding: 0 0 0 0;\n",
              "    width: 32px;\n",
              "  }\n",
              "\n",
              "  .colab-df-quickchart:hover {\n",
              "    background-color: #E2EBFA;\n",
              "    box-shadow: 0px 1px 2px rgba(60, 64, 67, 0.3), 0px 1px 3px 1px rgba(60, 64, 67, 0.15);\n",
              "    fill: #174EA6;\n",
              "  }\n",
              "\n",
              "  [theme=dark] .colab-df-quickchart {\n",
              "    background-color: #3B4455;\n",
              "    fill: #D2E3FC;\n",
              "  }\n",
              "\n",
              "  [theme=dark] .colab-df-quickchart:hover {\n",
              "    background-color: #434B5C;\n",
              "    box-shadow: 0px 1px 3px 1px rgba(0, 0, 0, 0.15);\n",
              "    filter: drop-shadow(0px 1px 2px rgba(0, 0, 0, 0.3));\n",
              "    fill: #FFFFFF;\n",
              "  }\n",
              "</style>\n",
              "\n",
              "  <script>\n",
              "    async function quickchart(key) {\n",
              "      const charts = await google.colab.kernel.invokeFunction(\n",
              "          'suggestCharts', [key], {});\n",
              "    }\n",
              "    (() => {\n",
              "      let quickchartButtonEl =\n",
              "        document.querySelector('#df-86b082d2-bd34-48e9-8f96-9c3d12a96c30 button');\n",
              "      quickchartButtonEl.style.display =\n",
              "        google.colab.kernel.accessAllowed ? 'block' : 'none';\n",
              "    })();\n",
              "  </script>\n",
              "</div>\n",
              "    </div>\n",
              "  </div>\n"
            ]
          },
          "metadata": {},
          "execution_count": 17
        }
      ],
      "source": [
        "#Extract education in newly created 'education' column from \"jobedu\" column.\n",
        "bank['education']= bank.jobedu.apply(lambda x : x.split(\",\")[1])\n",
        "bank.head()"
      ]
    },
    {
      "cell_type": "code",
      "execution_count": 18,
      "metadata": {
        "id": "OpoGEkvF80ZE",
        "outputId": "e6e31857-cf0b-48cc-81e7-2242ab136d31",
        "colab": {
          "base_uri": "https://localhost:8080/",
          "height": 313
        }
      },
      "outputs": [
        {
          "output_type": "execute_result",
          "data": {
            "text/plain": [
              "    age  salary  balance  marital targeted default housing loan  contact  day  \\\n",
              "0  58.0  100000     2143  married      yes      no     yes   no  unknown    5   \n",
              "1  44.0   60000       29   single      yes      no     yes   no  unknown    5   \n",
              "2  33.0  120000        2  married      yes      no     yes  yes  unknown    5   \n",
              "3  47.0   20000     1506  married       no      no     yes   no  unknown    5   \n",
              "4  33.0       0        1   single       no      no      no   no  unknown    5   \n",
              "\n",
              "       month duration  campaign  pdays  previous poutcome response  \\\n",
              "0  may, 2017  261 sec         1     -1         0  unknown       no   \n",
              "1  may, 2017  151 sec         1     -1         0  unknown       no   \n",
              "2  may, 2017   76 sec         1     -1         0  unknown       no   \n",
              "3  may, 2017   92 sec         1     -1         0  unknown       no   \n",
              "4  may, 2017  198 sec         1     -1         0  unknown       no   \n",
              "\n",
              "            job  education  \n",
              "0    management   tertiary  \n",
              "1    technician  secondary  \n",
              "2  entrepreneur  secondary  \n",
              "3   blue-collar    unknown  \n",
              "4       unknown    unknown  "
            ],
            "text/html": [
              "\n",
              "  <div id=\"df-b34dff51-95b1-4e8a-9985-e73e18f3fe14\" class=\"colab-df-container\">\n",
              "    <div>\n",
              "<style scoped>\n",
              "    .dataframe tbody tr th:only-of-type {\n",
              "        vertical-align: middle;\n",
              "    }\n",
              "\n",
              "    .dataframe tbody tr th {\n",
              "        vertical-align: top;\n",
              "    }\n",
              "\n",
              "    .dataframe thead th {\n",
              "        text-align: right;\n",
              "    }\n",
              "</style>\n",
              "<table border=\"1\" class=\"dataframe\">\n",
              "  <thead>\n",
              "    <tr style=\"text-align: right;\">\n",
              "      <th></th>\n",
              "      <th>age</th>\n",
              "      <th>salary</th>\n",
              "      <th>balance</th>\n",
              "      <th>marital</th>\n",
              "      <th>targeted</th>\n",
              "      <th>default</th>\n",
              "      <th>housing</th>\n",
              "      <th>loan</th>\n",
              "      <th>contact</th>\n",
              "      <th>day</th>\n",
              "      <th>month</th>\n",
              "      <th>duration</th>\n",
              "      <th>campaign</th>\n",
              "      <th>pdays</th>\n",
              "      <th>previous</th>\n",
              "      <th>poutcome</th>\n",
              "      <th>response</th>\n",
              "      <th>job</th>\n",
              "      <th>education</th>\n",
              "    </tr>\n",
              "  </thead>\n",
              "  <tbody>\n",
              "    <tr>\n",
              "      <th>0</th>\n",
              "      <td>58.0</td>\n",
              "      <td>100000</td>\n",
              "      <td>2143</td>\n",
              "      <td>married</td>\n",
              "      <td>yes</td>\n",
              "      <td>no</td>\n",
              "      <td>yes</td>\n",
              "      <td>no</td>\n",
              "      <td>unknown</td>\n",
              "      <td>5</td>\n",
              "      <td>may, 2017</td>\n",
              "      <td>261 sec</td>\n",
              "      <td>1</td>\n",
              "      <td>-1</td>\n",
              "      <td>0</td>\n",
              "      <td>unknown</td>\n",
              "      <td>no</td>\n",
              "      <td>management</td>\n",
              "      <td>tertiary</td>\n",
              "    </tr>\n",
              "    <tr>\n",
              "      <th>1</th>\n",
              "      <td>44.0</td>\n",
              "      <td>60000</td>\n",
              "      <td>29</td>\n",
              "      <td>single</td>\n",
              "      <td>yes</td>\n",
              "      <td>no</td>\n",
              "      <td>yes</td>\n",
              "      <td>no</td>\n",
              "      <td>unknown</td>\n",
              "      <td>5</td>\n",
              "      <td>may, 2017</td>\n",
              "      <td>151 sec</td>\n",
              "      <td>1</td>\n",
              "      <td>-1</td>\n",
              "      <td>0</td>\n",
              "      <td>unknown</td>\n",
              "      <td>no</td>\n",
              "      <td>technician</td>\n",
              "      <td>secondary</td>\n",
              "    </tr>\n",
              "    <tr>\n",
              "      <th>2</th>\n",
              "      <td>33.0</td>\n",
              "      <td>120000</td>\n",
              "      <td>2</td>\n",
              "      <td>married</td>\n",
              "      <td>yes</td>\n",
              "      <td>no</td>\n",
              "      <td>yes</td>\n",
              "      <td>yes</td>\n",
              "      <td>unknown</td>\n",
              "      <td>5</td>\n",
              "      <td>may, 2017</td>\n",
              "      <td>76 sec</td>\n",
              "      <td>1</td>\n",
              "      <td>-1</td>\n",
              "      <td>0</td>\n",
              "      <td>unknown</td>\n",
              "      <td>no</td>\n",
              "      <td>entrepreneur</td>\n",
              "      <td>secondary</td>\n",
              "    </tr>\n",
              "    <tr>\n",
              "      <th>3</th>\n",
              "      <td>47.0</td>\n",
              "      <td>20000</td>\n",
              "      <td>1506</td>\n",
              "      <td>married</td>\n",
              "      <td>no</td>\n",
              "      <td>no</td>\n",
              "      <td>yes</td>\n",
              "      <td>no</td>\n",
              "      <td>unknown</td>\n",
              "      <td>5</td>\n",
              "      <td>may, 2017</td>\n",
              "      <td>92 sec</td>\n",
              "      <td>1</td>\n",
              "      <td>-1</td>\n",
              "      <td>0</td>\n",
              "      <td>unknown</td>\n",
              "      <td>no</td>\n",
              "      <td>blue-collar</td>\n",
              "      <td>unknown</td>\n",
              "    </tr>\n",
              "    <tr>\n",
              "      <th>4</th>\n",
              "      <td>33.0</td>\n",
              "      <td>0</td>\n",
              "      <td>1</td>\n",
              "      <td>single</td>\n",
              "      <td>no</td>\n",
              "      <td>no</td>\n",
              "      <td>no</td>\n",
              "      <td>no</td>\n",
              "      <td>unknown</td>\n",
              "      <td>5</td>\n",
              "      <td>may, 2017</td>\n",
              "      <td>198 sec</td>\n",
              "      <td>1</td>\n",
              "      <td>-1</td>\n",
              "      <td>0</td>\n",
              "      <td>unknown</td>\n",
              "      <td>no</td>\n",
              "      <td>unknown</td>\n",
              "      <td>unknown</td>\n",
              "    </tr>\n",
              "  </tbody>\n",
              "</table>\n",
              "</div>\n",
              "    <div class=\"colab-df-buttons\">\n",
              "\n",
              "  <div class=\"colab-df-container\">\n",
              "    <button class=\"colab-df-convert\" onclick=\"convertToInteractive('df-b34dff51-95b1-4e8a-9985-e73e18f3fe14')\"\n",
              "            title=\"Convert this dataframe to an interactive table.\"\n",
              "            style=\"display:none;\">\n",
              "\n",
              "  <svg xmlns=\"http://www.w3.org/2000/svg\" height=\"24px\" viewBox=\"0 -960 960 960\">\n",
              "    <path d=\"M120-120v-720h720v720H120Zm60-500h600v-160H180v160Zm220 220h160v-160H400v160Zm0 220h160v-160H400v160ZM180-400h160v-160H180v160Zm440 0h160v-160H620v160ZM180-180h160v-160H180v160Zm440 0h160v-160H620v160Z\"/>\n",
              "  </svg>\n",
              "    </button>\n",
              "\n",
              "  <style>\n",
              "    .colab-df-container {\n",
              "      display:flex;\n",
              "      gap: 12px;\n",
              "    }\n",
              "\n",
              "    .colab-df-convert {\n",
              "      background-color: #E8F0FE;\n",
              "      border: none;\n",
              "      border-radius: 50%;\n",
              "      cursor: pointer;\n",
              "      display: none;\n",
              "      fill: #1967D2;\n",
              "      height: 32px;\n",
              "      padding: 0 0 0 0;\n",
              "      width: 32px;\n",
              "    }\n",
              "\n",
              "    .colab-df-convert:hover {\n",
              "      background-color: #E2EBFA;\n",
              "      box-shadow: 0px 1px 2px rgba(60, 64, 67, 0.3), 0px 1px 3px 1px rgba(60, 64, 67, 0.15);\n",
              "      fill: #174EA6;\n",
              "    }\n",
              "\n",
              "    .colab-df-buttons div {\n",
              "      margin-bottom: 4px;\n",
              "    }\n",
              "\n",
              "    [theme=dark] .colab-df-convert {\n",
              "      background-color: #3B4455;\n",
              "      fill: #D2E3FC;\n",
              "    }\n",
              "\n",
              "    [theme=dark] .colab-df-convert:hover {\n",
              "      background-color: #434B5C;\n",
              "      box-shadow: 0px 1px 3px 1px rgba(0, 0, 0, 0.15);\n",
              "      filter: drop-shadow(0px 1px 2px rgba(0, 0, 0, 0.3));\n",
              "      fill: #FFFFFF;\n",
              "    }\n",
              "  </style>\n",
              "\n",
              "    <script>\n",
              "      const buttonEl =\n",
              "        document.querySelector('#df-b34dff51-95b1-4e8a-9985-e73e18f3fe14 button.colab-df-convert');\n",
              "      buttonEl.style.display =\n",
              "        google.colab.kernel.accessAllowed ? 'block' : 'none';\n",
              "\n",
              "      async function convertToInteractive(key) {\n",
              "        const element = document.querySelector('#df-b34dff51-95b1-4e8a-9985-e73e18f3fe14');\n",
              "        const dataTable =\n",
              "          await google.colab.kernel.invokeFunction('convertToInteractive',\n",
              "                                                    [key], {});\n",
              "        if (!dataTable) return;\n",
              "\n",
              "        const docLinkHtml = 'Like what you see? Visit the ' +\n",
              "          '<a target=\"_blank\" href=https://colab.research.google.com/notebooks/data_table.ipynb>data table notebook</a>'\n",
              "          + ' to learn more about interactive tables.';\n",
              "        element.innerHTML = '';\n",
              "        dataTable['output_type'] = 'display_data';\n",
              "        await google.colab.output.renderOutput(dataTable, element);\n",
              "        const docLink = document.createElement('div');\n",
              "        docLink.innerHTML = docLinkHtml;\n",
              "        element.appendChild(docLink);\n",
              "      }\n",
              "    </script>\n",
              "  </div>\n",
              "\n",
              "\n",
              "<div id=\"df-d5c72eee-01ce-477b-961b-0196c23450c7\">\n",
              "  <button class=\"colab-df-quickchart\" onclick=\"quickchart('df-d5c72eee-01ce-477b-961b-0196c23450c7')\"\n",
              "            title=\"Suggest charts.\"\n",
              "            style=\"display:none;\">\n",
              "\n",
              "<svg xmlns=\"http://www.w3.org/2000/svg\" height=\"24px\"viewBox=\"0 0 24 24\"\n",
              "     width=\"24px\">\n",
              "    <g>\n",
              "        <path d=\"M19 3H5c-1.1 0-2 .9-2 2v14c0 1.1.9 2 2 2h14c1.1 0 2-.9 2-2V5c0-1.1-.9-2-2-2zM9 17H7v-7h2v7zm4 0h-2V7h2v10zm4 0h-2v-4h2v4z\"/>\n",
              "    </g>\n",
              "</svg>\n",
              "  </button>\n",
              "\n",
              "<style>\n",
              "  .colab-df-quickchart {\n",
              "    background-color: #E8F0FE;\n",
              "    border: none;\n",
              "    border-radius: 50%;\n",
              "    cursor: pointer;\n",
              "    display: none;\n",
              "    fill: #1967D2;\n",
              "    height: 32px;\n",
              "    padding: 0 0 0 0;\n",
              "    width: 32px;\n",
              "  }\n",
              "\n",
              "  .colab-df-quickchart:hover {\n",
              "    background-color: #E2EBFA;\n",
              "    box-shadow: 0px 1px 2px rgba(60, 64, 67, 0.3), 0px 1px 3px 1px rgba(60, 64, 67, 0.15);\n",
              "    fill: #174EA6;\n",
              "  }\n",
              "\n",
              "  [theme=dark] .colab-df-quickchart {\n",
              "    background-color: #3B4455;\n",
              "    fill: #D2E3FC;\n",
              "  }\n",
              "\n",
              "  [theme=dark] .colab-df-quickchart:hover {\n",
              "    background-color: #434B5C;\n",
              "    box-shadow: 0px 1px 3px 1px rgba(0, 0, 0, 0.15);\n",
              "    filter: drop-shadow(0px 1px 2px rgba(0, 0, 0, 0.3));\n",
              "    fill: #FFFFFF;\n",
              "  }\n",
              "</style>\n",
              "\n",
              "  <script>\n",
              "    async function quickchart(key) {\n",
              "      const charts = await google.colab.kernel.invokeFunction(\n",
              "          'suggestCharts', [key], {});\n",
              "    }\n",
              "    (() => {\n",
              "      let quickchartButtonEl =\n",
              "        document.querySelector('#df-d5c72eee-01ce-477b-961b-0196c23450c7 button');\n",
              "      quickchartButtonEl.style.display =\n",
              "        google.colab.kernel.accessAllowed ? 'block' : 'none';\n",
              "    })();\n",
              "  </script>\n",
              "</div>\n",
              "    </div>\n",
              "  </div>\n"
            ]
          },
          "metadata": {},
          "execution_count": 18
        }
      ],
      "source": [
        "#drop the \"jobedu\" column from the dataframe.\n",
        "bank.drop(\"jobedu\",axis =1 , inplace = True)\n",
        "bank.head()"
      ]
    },
    {
      "cell_type": "markdown",
      "metadata": {
        "id": "AOIRrwBC80ZE"
      },
      "source": [
        "#### Extract the value of month from the column \"month\""
      ]
    },
    {
      "cell_type": "code",
      "execution_count": 19,
      "metadata": {
        "scrolled": false,
        "id": "s1v22eLv80ZE"
      },
      "outputs": [],
      "source": [
        "# bank.month = bank.month.apply(lambda x : x.split(\",\")[0])   # here we got error"
      ]
    },
    {
      "cell_type": "markdown",
      "metadata": {
        "id": "RIys9uHJ80ZE"
      },
      "source": [
        "* Here got error because some values of date column in float data type\n",
        "* So u\n",
        "So I am going to check the float values in date column"
      ]
    },
    {
      "cell_type": "code",
      "execution_count": 20,
      "metadata": {
        "scrolled": true,
        "id": "z1pE0NdW80ZE",
        "outputId": "3b75f3a2-69cc-41df-c143-bd74fadfeee4",
        "colab": {
          "base_uri": "https://localhost:8080/",
          "height": 1000
        }
      },
      "outputs": [
        {
          "output_type": "execute_result",
          "data": {
            "text/plain": [
              "        age  salary  balance   marital targeted default housing loan  \\\n",
              "189    31.0  100000        0    single       no      no     yes   no   \n",
              "769    39.0   20000      245   married      yes      no     yes   no   \n",
              "860    33.0   55000      165   married      yes      no      no   no   \n",
              "1267   36.0   50000      114   married      yes      no     yes  yes   \n",
              "1685   34.0   20000      457   married      yes      no     yes   no   \n",
              "1899   49.0   16000      164  divorced      yes      no     yes   no   \n",
              "2433   26.0   60000     3825   married      yes      no     yes   no   \n",
              "2612   38.0   50000      446    single       no      no     yes   no   \n",
              "2747   48.0  120000     2550   married       no      no     yes   no   \n",
              "3556   41.0   20000       59   married      yes      no     yes   no   \n",
              "3890   56.0   55000     4391   married       no      no     yes   no   \n",
              "5311   22.0   20000        0    single      yes      no     yes   no   \n",
              "6265   32.0   50000       13    single      yes      no     yes   no   \n",
              "6396   24.0   70000        0   married      yes      no     yes   no   \n",
              "8433   38.0   60000    12926    single      yes      no     yes   no   \n",
              "8792   24.0   50000      262   married      yes      no     yes   no   \n",
              "10627  45.0   60000      533   married      yes      no     yes   no   \n",
              "11016  46.0   70000      741   married      yes      no      no   no   \n",
              "11284  44.0   16000     1059    single      yes      no      no   no   \n",
              "11394  54.0   60000      415   married      yes      no     yes   no   \n",
              "14502  35.0   70000      819   married      yes      no     yes   no   \n",
              "15795  38.0   20000      -41   married      yes      no     yes   no   \n",
              "16023  35.0   60000      328   married      yes      no     yes   no   \n",
              "16850  45.0   55000       25   married      yes      no      no  yes   \n",
              "17568  56.0   70000        0   married       no      no      no   no   \n",
              "18431  42.0   70000      247    single      yes      no     yes   no   \n",
              "18942  49.0   50000      949   married      yes      no      no   no   \n",
              "19118  38.0   50000     1980   married      yes      no      no   no   \n",
              "19769  36.0  100000      162   married      yes      no     yes   no   \n",
              "21777  56.0   16000      605   married      yes      no      no   no   \n",
              "21962  36.0   60000     1044    single      yes      no     yes   no   \n",
              "23897  46.0   20000      123   married      yes      no      no   no   \n",
              "25658  35.0   60000     8647   married      yes      no      no   no   \n",
              "27480  31.0  100000     3283    single       no      no      no   no   \n",
              "28693  26.0   16000      543   married      yes      no      no   no   \n",
              "30740  32.0  100000     2770    single       no      no      no   no   \n",
              "31551  54.0   55000      136   married      yes      no     yes   no   \n",
              "35773  52.0   20000       33   married       no      no      no   no   \n",
              "37194  36.0   20000     1969   married      yes      no     yes  yes   \n",
              "37819  34.0   20000      237   married      yes      no     yes   no   \n",
              "38158  34.0   60000     1317  divorced       no      no     yes   no   \n",
              "39188  30.0   60000      778    single      yes      no     yes   no   \n",
              "41090  35.0  100000     7218    single       no      no      no   no   \n",
              "41434  43.0  100000    13450   married      yes      no     yes   no   \n",
              "41606  25.0  100000      808    single       no      no      no   no   \n",
              "43001  35.0   60000      353    single       no      no      no   no   \n",
              "43021  52.0  100000     4675   married      yes      no      no   no   \n",
              "43323  54.0   70000        0  divorced      yes      no      no   no   \n",
              "44131  27.0  100000      843    single      yes      no      no   no   \n",
              "44732  23.0    4000      508    single       no      no      no   no   \n",
              "\n",
              "         contact  day month               duration  campaign  pdays  previous  \\\n",
              "189      unknown    5   NaN                562 sec         1     -1         0   \n",
              "769      unknown    7   NaN                148 sec         3     -1         0   \n",
              "860      unknown    7   NaN                111 sec         1     -1         0   \n",
              "1267     unknown    8   NaN                147 sec         1     -1         0   \n",
              "1685     unknown    9   NaN                266 sec         1     -1         0   \n",
              "1899     unknown    9   NaN               1080 sec         5     -1         0   \n",
              "2433     unknown   13   NaN                107 sec         1     -1         0   \n",
              "2612     unknown   13   NaN                386 sec         1     -1         0   \n",
              "2747     unknown   14   NaN                175 sec         3     -1         0   \n",
              "3556     unknown   15   NaN                 75 sec         8     -1         0   \n",
              "3890     unknown   16   NaN                291 sec         1     -1         0   \n",
              "5311     unknown   23   NaN                816 sec         2     -1         0   \n",
              "6265     unknown   27   NaN                 88 sec         2     -1         0   \n",
              "6396     unknown   27   NaN                299 sec         1     -1         0   \n",
              "8433     unknown    3   NaN                280 sec         1     -1         0   \n",
              "8792     unknown    4   NaN                 69 sec         3     -1         0   \n",
              "10627    unknown   16   NaN                332 sec         2     -1         0   \n",
              "11016    unknown   17   NaN                161 sec         3     -1         0   \n",
              "11284    unknown   18   NaN               2093 sec         1     -1         0   \n",
              "11394    unknown   19   NaN                 34 sec        31     -1         0   \n",
              "14502  telephone   14   NaN                1.7 min        14     -1         0   \n",
              "15795   cellular   21   NaN   1.13333333333333 min        10     -1         0   \n",
              "16023   cellular   22   NaN               10.9 min         2     -1         0   \n",
              "16850   cellular   25   NaN   1.91666666666667 min         3     -1         0   \n",
              "17568   cellular   29   NaN   1.38333333333333 min         2     -1         0   \n",
              "18431   cellular   31   NaN                1.9 min         2     -1         0   \n",
              "18942   cellular    4   NaN   1.51666666666667 min         1     -1         0   \n",
              "19118   cellular    5   NaN   2.93333333333333 min         2     -1         0   \n",
              "19769   cellular    8   NaN               1.25 min         2     -1         0   \n",
              "21777   cellular   19   NaN               3.45 min         6     -1         0   \n",
              "21962   cellular   20   NaN               0.25 min        19     -1         0   \n",
              "23897   cellular   29   NaN                2.8 min         2     -1         0   \n",
              "25658   cellular   19   NaN   2.33333333333333 min         2     -1         0   \n",
              "27480   cellular   21   NaN   6.28333333333333 min         1     -1         0   \n",
              "28693   cellular   30   NaN   2.81666666666667 min         3     -1         0   \n",
              "30740  telephone    6   NaN  0.733333333333333 min         9     -1         0   \n",
              "31551   cellular    3   NaN   5.86666666666667 min         1    332         2   \n",
              "35773  telephone    8   NaN   5.01666666666667 min         1     -1         0   \n",
              "37194   cellular   13   NaN               1.45 min         1     -1         0   \n",
              "37819   cellular   14   NaN   1.91666666666667 min         3     -1         0   \n",
              "38158   cellular   15   NaN   3.98333333333333 min         1     -1         0   \n",
              "39188   cellular   18   NaN  0.366666666666667 min         2    346         2   \n",
              "41090   cellular   14   NaN   3.73333333333333 min         3     -1         0   \n",
              "41434   cellular    4   NaN   2.13333333333333 min         1     -1         0   \n",
              "41606   cellular   18   NaN               4.45 min         2    114         2   \n",
              "43001   cellular   11   NaN   5.86666666666667 min         1    183         1   \n",
              "43021   cellular   12   NaN   3.01666666666667 min         3     -1         0   \n",
              "43323   cellular   18   NaN   6.03333333333333 min         1    290         3   \n",
              "44131   cellular   12   NaN               2.05 min         2    185         1   \n",
              "44732   cellular    8   NaN                3.5 min         1     92         1   \n",
              "\n",
              "      poutcome response            job  education  \n",
              "189    unknown       no     management   tertiary  \n",
              "769    unknown       no    blue-collar    primary  \n",
              "860    unknown       no        retired  secondary  \n",
              "1267   unknown       no         admin.  secondary  \n",
              "1685   unknown       no    blue-collar  secondary  \n",
              "1899   unknown       no      housemaid    primary  \n",
              "2433   unknown       no     technician   tertiary  \n",
              "2612   unknown       no         admin.    unknown  \n",
              "2747   unknown       no   entrepreneur    unknown  \n",
              "3556   unknown       no    blue-collar  secondary  \n",
              "3890   unknown       no        retired    unknown  \n",
              "5311   unknown       no    blue-collar  secondary  \n",
              "6265   unknown       no         admin.  secondary  \n",
              "6396   unknown       no       services   tertiary  \n",
              "8433   unknown       no     technician  secondary  \n",
              "8792   unknown       no         admin.  secondary  \n",
              "10627  unknown       no     technician   tertiary  \n",
              "11016  unknown       no       services    primary  \n",
              "11284  unknown      yes      housemaid    primary  \n",
              "11394  unknown       no     technician  secondary  \n",
              "14502  unknown       no       services  secondary  \n",
              "15795  unknown       no    blue-collar    primary  \n",
              "16023  unknown      yes     technician   tertiary  \n",
              "16850  unknown       no        retired    primary  \n",
              "17568  unknown       no       services    unknown  \n",
              "18431  unknown       no       services  secondary  \n",
              "18942  unknown       no         admin.  secondary  \n",
              "19118  unknown       no         admin.   tertiary  \n",
              "19769  unknown       no     management   tertiary  \n",
              "21777  unknown       no      housemaid    primary  \n",
              "21962  unknown       no     technician  secondary  \n",
              "23897  unknown       no    blue-collar    primary  \n",
              "25658  unknown       no  self-employed   tertiary  \n",
              "27480  unknown       no     management   tertiary  \n",
              "28693  unknown       no      housemaid   tertiary  \n",
              "30740  unknown       no     management   tertiary  \n",
              "31551  failure       no        retired    primary  \n",
              "35773  unknown       no    blue-collar    unknown  \n",
              "37194  unknown       no    blue-collar  secondary  \n",
              "37819  unknown       no    blue-collar  secondary  \n",
              "38158  unknown       no     technician   tertiary  \n",
              "39188  failure       no     technician  secondary  \n",
              "41090  unknown       no     management   tertiary  \n",
              "41434  unknown       no     management   tertiary  \n",
              "41606  failure      yes     management   tertiary  \n",
              "43001  success      yes  self-employed   tertiary  \n",
              "43021  unknown      yes     management   tertiary  \n",
              "43323  success      yes       services  secondary  \n",
              "44131  success       no     management  secondary  \n",
              "44732  failure       no        student   tertiary  "
            ],
            "text/html": [
              "\n",
              "  <div id=\"df-a0a6b63a-fd13-4727-98be-fdf3d00ab0cb\" class=\"colab-df-container\">\n",
              "    <div>\n",
              "<style scoped>\n",
              "    .dataframe tbody tr th:only-of-type {\n",
              "        vertical-align: middle;\n",
              "    }\n",
              "\n",
              "    .dataframe tbody tr th {\n",
              "        vertical-align: top;\n",
              "    }\n",
              "\n",
              "    .dataframe thead th {\n",
              "        text-align: right;\n",
              "    }\n",
              "</style>\n",
              "<table border=\"1\" class=\"dataframe\">\n",
              "  <thead>\n",
              "    <tr style=\"text-align: right;\">\n",
              "      <th></th>\n",
              "      <th>age</th>\n",
              "      <th>salary</th>\n",
              "      <th>balance</th>\n",
              "      <th>marital</th>\n",
              "      <th>targeted</th>\n",
              "      <th>default</th>\n",
              "      <th>housing</th>\n",
              "      <th>loan</th>\n",
              "      <th>contact</th>\n",
              "      <th>day</th>\n",
              "      <th>month</th>\n",
              "      <th>duration</th>\n",
              "      <th>campaign</th>\n",
              "      <th>pdays</th>\n",
              "      <th>previous</th>\n",
              "      <th>poutcome</th>\n",
              "      <th>response</th>\n",
              "      <th>job</th>\n",
              "      <th>education</th>\n",
              "    </tr>\n",
              "  </thead>\n",
              "  <tbody>\n",
              "    <tr>\n",
              "      <th>189</th>\n",
              "      <td>31.0</td>\n",
              "      <td>100000</td>\n",
              "      <td>0</td>\n",
              "      <td>single</td>\n",
              "      <td>no</td>\n",
              "      <td>no</td>\n",
              "      <td>yes</td>\n",
              "      <td>no</td>\n",
              "      <td>unknown</td>\n",
              "      <td>5</td>\n",
              "      <td>NaN</td>\n",
              "      <td>562 sec</td>\n",
              "      <td>1</td>\n",
              "      <td>-1</td>\n",
              "      <td>0</td>\n",
              "      <td>unknown</td>\n",
              "      <td>no</td>\n",
              "      <td>management</td>\n",
              "      <td>tertiary</td>\n",
              "    </tr>\n",
              "    <tr>\n",
              "      <th>769</th>\n",
              "      <td>39.0</td>\n",
              "      <td>20000</td>\n",
              "      <td>245</td>\n",
              "      <td>married</td>\n",
              "      <td>yes</td>\n",
              "      <td>no</td>\n",
              "      <td>yes</td>\n",
              "      <td>no</td>\n",
              "      <td>unknown</td>\n",
              "      <td>7</td>\n",
              "      <td>NaN</td>\n",
              "      <td>148 sec</td>\n",
              "      <td>3</td>\n",
              "      <td>-1</td>\n",
              "      <td>0</td>\n",
              "      <td>unknown</td>\n",
              "      <td>no</td>\n",
              "      <td>blue-collar</td>\n",
              "      <td>primary</td>\n",
              "    </tr>\n",
              "    <tr>\n",
              "      <th>860</th>\n",
              "      <td>33.0</td>\n",
              "      <td>55000</td>\n",
              "      <td>165</td>\n",
              "      <td>married</td>\n",
              "      <td>yes</td>\n",
              "      <td>no</td>\n",
              "      <td>no</td>\n",
              "      <td>no</td>\n",
              "      <td>unknown</td>\n",
              "      <td>7</td>\n",
              "      <td>NaN</td>\n",
              "      <td>111 sec</td>\n",
              "      <td>1</td>\n",
              "      <td>-1</td>\n",
              "      <td>0</td>\n",
              "      <td>unknown</td>\n",
              "      <td>no</td>\n",
              "      <td>retired</td>\n",
              "      <td>secondary</td>\n",
              "    </tr>\n",
              "    <tr>\n",
              "      <th>1267</th>\n",
              "      <td>36.0</td>\n",
              "      <td>50000</td>\n",
              "      <td>114</td>\n",
              "      <td>married</td>\n",
              "      <td>yes</td>\n",
              "      <td>no</td>\n",
              "      <td>yes</td>\n",
              "      <td>yes</td>\n",
              "      <td>unknown</td>\n",
              "      <td>8</td>\n",
              "      <td>NaN</td>\n",
              "      <td>147 sec</td>\n",
              "      <td>1</td>\n",
              "      <td>-1</td>\n",
              "      <td>0</td>\n",
              "      <td>unknown</td>\n",
              "      <td>no</td>\n",
              "      <td>admin.</td>\n",
              "      <td>secondary</td>\n",
              "    </tr>\n",
              "    <tr>\n",
              "      <th>1685</th>\n",
              "      <td>34.0</td>\n",
              "      <td>20000</td>\n",
              "      <td>457</td>\n",
              "      <td>married</td>\n",
              "      <td>yes</td>\n",
              "      <td>no</td>\n",
              "      <td>yes</td>\n",
              "      <td>no</td>\n",
              "      <td>unknown</td>\n",
              "      <td>9</td>\n",
              "      <td>NaN</td>\n",
              "      <td>266 sec</td>\n",
              "      <td>1</td>\n",
              "      <td>-1</td>\n",
              "      <td>0</td>\n",
              "      <td>unknown</td>\n",
              "      <td>no</td>\n",
              "      <td>blue-collar</td>\n",
              "      <td>secondary</td>\n",
              "    </tr>\n",
              "    <tr>\n",
              "      <th>1899</th>\n",
              "      <td>49.0</td>\n",
              "      <td>16000</td>\n",
              "      <td>164</td>\n",
              "      <td>divorced</td>\n",
              "      <td>yes</td>\n",
              "      <td>no</td>\n",
              "      <td>yes</td>\n",
              "      <td>no</td>\n",
              "      <td>unknown</td>\n",
              "      <td>9</td>\n",
              "      <td>NaN</td>\n",
              "      <td>1080 sec</td>\n",
              "      <td>5</td>\n",
              "      <td>-1</td>\n",
              "      <td>0</td>\n",
              "      <td>unknown</td>\n",
              "      <td>no</td>\n",
              "      <td>housemaid</td>\n",
              "      <td>primary</td>\n",
              "    </tr>\n",
              "    <tr>\n",
              "      <th>2433</th>\n",
              "      <td>26.0</td>\n",
              "      <td>60000</td>\n",
              "      <td>3825</td>\n",
              "      <td>married</td>\n",
              "      <td>yes</td>\n",
              "      <td>no</td>\n",
              "      <td>yes</td>\n",
              "      <td>no</td>\n",
              "      <td>unknown</td>\n",
              "      <td>13</td>\n",
              "      <td>NaN</td>\n",
              "      <td>107 sec</td>\n",
              "      <td>1</td>\n",
              "      <td>-1</td>\n",
              "      <td>0</td>\n",
              "      <td>unknown</td>\n",
              "      <td>no</td>\n",
              "      <td>technician</td>\n",
              "      <td>tertiary</td>\n",
              "    </tr>\n",
              "    <tr>\n",
              "      <th>2612</th>\n",
              "      <td>38.0</td>\n",
              "      <td>50000</td>\n",
              "      <td>446</td>\n",
              "      <td>single</td>\n",
              "      <td>no</td>\n",
              "      <td>no</td>\n",
              "      <td>yes</td>\n",
              "      <td>no</td>\n",
              "      <td>unknown</td>\n",
              "      <td>13</td>\n",
              "      <td>NaN</td>\n",
              "      <td>386 sec</td>\n",
              "      <td>1</td>\n",
              "      <td>-1</td>\n",
              "      <td>0</td>\n",
              "      <td>unknown</td>\n",
              "      <td>no</td>\n",
              "      <td>admin.</td>\n",
              "      <td>unknown</td>\n",
              "    </tr>\n",
              "    <tr>\n",
              "      <th>2747</th>\n",
              "      <td>48.0</td>\n",
              "      <td>120000</td>\n",
              "      <td>2550</td>\n",
              "      <td>married</td>\n",
              "      <td>no</td>\n",
              "      <td>no</td>\n",
              "      <td>yes</td>\n",
              "      <td>no</td>\n",
              "      <td>unknown</td>\n",
              "      <td>14</td>\n",
              "      <td>NaN</td>\n",
              "      <td>175 sec</td>\n",
              "      <td>3</td>\n",
              "      <td>-1</td>\n",
              "      <td>0</td>\n",
              "      <td>unknown</td>\n",
              "      <td>no</td>\n",
              "      <td>entrepreneur</td>\n",
              "      <td>unknown</td>\n",
              "    </tr>\n",
              "    <tr>\n",
              "      <th>3556</th>\n",
              "      <td>41.0</td>\n",
              "      <td>20000</td>\n",
              "      <td>59</td>\n",
              "      <td>married</td>\n",
              "      <td>yes</td>\n",
              "      <td>no</td>\n",
              "      <td>yes</td>\n",
              "      <td>no</td>\n",
              "      <td>unknown</td>\n",
              "      <td>15</td>\n",
              "      <td>NaN</td>\n",
              "      <td>75 sec</td>\n",
              "      <td>8</td>\n",
              "      <td>-1</td>\n",
              "      <td>0</td>\n",
              "      <td>unknown</td>\n",
              "      <td>no</td>\n",
              "      <td>blue-collar</td>\n",
              "      <td>secondary</td>\n",
              "    </tr>\n",
              "    <tr>\n",
              "      <th>3890</th>\n",
              "      <td>56.0</td>\n",
              "      <td>55000</td>\n",
              "      <td>4391</td>\n",
              "      <td>married</td>\n",
              "      <td>no</td>\n",
              "      <td>no</td>\n",
              "      <td>yes</td>\n",
              "      <td>no</td>\n",
              "      <td>unknown</td>\n",
              "      <td>16</td>\n",
              "      <td>NaN</td>\n",
              "      <td>291 sec</td>\n",
              "      <td>1</td>\n",
              "      <td>-1</td>\n",
              "      <td>0</td>\n",
              "      <td>unknown</td>\n",
              "      <td>no</td>\n",
              "      <td>retired</td>\n",
              "      <td>unknown</td>\n",
              "    </tr>\n",
              "    <tr>\n",
              "      <th>5311</th>\n",
              "      <td>22.0</td>\n",
              "      <td>20000</td>\n",
              "      <td>0</td>\n",
              "      <td>single</td>\n",
              "      <td>yes</td>\n",
              "      <td>no</td>\n",
              "      <td>yes</td>\n",
              "      <td>no</td>\n",
              "      <td>unknown</td>\n",
              "      <td>23</td>\n",
              "      <td>NaN</td>\n",
              "      <td>816 sec</td>\n",
              "      <td>2</td>\n",
              "      <td>-1</td>\n",
              "      <td>0</td>\n",
              "      <td>unknown</td>\n",
              "      <td>no</td>\n",
              "      <td>blue-collar</td>\n",
              "      <td>secondary</td>\n",
              "    </tr>\n",
              "    <tr>\n",
              "      <th>6265</th>\n",
              "      <td>32.0</td>\n",
              "      <td>50000</td>\n",
              "      <td>13</td>\n",
              "      <td>single</td>\n",
              "      <td>yes</td>\n",
              "      <td>no</td>\n",
              "      <td>yes</td>\n",
              "      <td>no</td>\n",
              "      <td>unknown</td>\n",
              "      <td>27</td>\n",
              "      <td>NaN</td>\n",
              "      <td>88 sec</td>\n",
              "      <td>2</td>\n",
              "      <td>-1</td>\n",
              "      <td>0</td>\n",
              "      <td>unknown</td>\n",
              "      <td>no</td>\n",
              "      <td>admin.</td>\n",
              "      <td>secondary</td>\n",
              "    </tr>\n",
              "    <tr>\n",
              "      <th>6396</th>\n",
              "      <td>24.0</td>\n",
              "      <td>70000</td>\n",
              "      <td>0</td>\n",
              "      <td>married</td>\n",
              "      <td>yes</td>\n",
              "      <td>no</td>\n",
              "      <td>yes</td>\n",
              "      <td>no</td>\n",
              "      <td>unknown</td>\n",
              "      <td>27</td>\n",
              "      <td>NaN</td>\n",
              "      <td>299 sec</td>\n",
              "      <td>1</td>\n",
              "      <td>-1</td>\n",
              "      <td>0</td>\n",
              "      <td>unknown</td>\n",
              "      <td>no</td>\n",
              "      <td>services</td>\n",
              "      <td>tertiary</td>\n",
              "    </tr>\n",
              "    <tr>\n",
              "      <th>8433</th>\n",
              "      <td>38.0</td>\n",
              "      <td>60000</td>\n",
              "      <td>12926</td>\n",
              "      <td>single</td>\n",
              "      <td>yes</td>\n",
              "      <td>no</td>\n",
              "      <td>yes</td>\n",
              "      <td>no</td>\n",
              "      <td>unknown</td>\n",
              "      <td>3</td>\n",
              "      <td>NaN</td>\n",
              "      <td>280 sec</td>\n",
              "      <td>1</td>\n",
              "      <td>-1</td>\n",
              "      <td>0</td>\n",
              "      <td>unknown</td>\n",
              "      <td>no</td>\n",
              "      <td>technician</td>\n",
              "      <td>secondary</td>\n",
              "    </tr>\n",
              "    <tr>\n",
              "      <th>8792</th>\n",
              "      <td>24.0</td>\n",
              "      <td>50000</td>\n",
              "      <td>262</td>\n",
              "      <td>married</td>\n",
              "      <td>yes</td>\n",
              "      <td>no</td>\n",
              "      <td>yes</td>\n",
              "      <td>no</td>\n",
              "      <td>unknown</td>\n",
              "      <td>4</td>\n",
              "      <td>NaN</td>\n",
              "      <td>69 sec</td>\n",
              "      <td>3</td>\n",
              "      <td>-1</td>\n",
              "      <td>0</td>\n",
              "      <td>unknown</td>\n",
              "      <td>no</td>\n",
              "      <td>admin.</td>\n",
              "      <td>secondary</td>\n",
              "    </tr>\n",
              "    <tr>\n",
              "      <th>10627</th>\n",
              "      <td>45.0</td>\n",
              "      <td>60000</td>\n",
              "      <td>533</td>\n",
              "      <td>married</td>\n",
              "      <td>yes</td>\n",
              "      <td>no</td>\n",
              "      <td>yes</td>\n",
              "      <td>no</td>\n",
              "      <td>unknown</td>\n",
              "      <td>16</td>\n",
              "      <td>NaN</td>\n",
              "      <td>332 sec</td>\n",
              "      <td>2</td>\n",
              "      <td>-1</td>\n",
              "      <td>0</td>\n",
              "      <td>unknown</td>\n",
              "      <td>no</td>\n",
              "      <td>technician</td>\n",
              "      <td>tertiary</td>\n",
              "    </tr>\n",
              "    <tr>\n",
              "      <th>11016</th>\n",
              "      <td>46.0</td>\n",
              "      <td>70000</td>\n",
              "      <td>741</td>\n",
              "      <td>married</td>\n",
              "      <td>yes</td>\n",
              "      <td>no</td>\n",
              "      <td>no</td>\n",
              "      <td>no</td>\n",
              "      <td>unknown</td>\n",
              "      <td>17</td>\n",
              "      <td>NaN</td>\n",
              "      <td>161 sec</td>\n",
              "      <td>3</td>\n",
              "      <td>-1</td>\n",
              "      <td>0</td>\n",
              "      <td>unknown</td>\n",
              "      <td>no</td>\n",
              "      <td>services</td>\n",
              "      <td>primary</td>\n",
              "    </tr>\n",
              "    <tr>\n",
              "      <th>11284</th>\n",
              "      <td>44.0</td>\n",
              "      <td>16000</td>\n",
              "      <td>1059</td>\n",
              "      <td>single</td>\n",
              "      <td>yes</td>\n",
              "      <td>no</td>\n",
              "      <td>no</td>\n",
              "      <td>no</td>\n",
              "      <td>unknown</td>\n",
              "      <td>18</td>\n",
              "      <td>NaN</td>\n",
              "      <td>2093 sec</td>\n",
              "      <td>1</td>\n",
              "      <td>-1</td>\n",
              "      <td>0</td>\n",
              "      <td>unknown</td>\n",
              "      <td>yes</td>\n",
              "      <td>housemaid</td>\n",
              "      <td>primary</td>\n",
              "    </tr>\n",
              "    <tr>\n",
              "      <th>11394</th>\n",
              "      <td>54.0</td>\n",
              "      <td>60000</td>\n",
              "      <td>415</td>\n",
              "      <td>married</td>\n",
              "      <td>yes</td>\n",
              "      <td>no</td>\n",
              "      <td>yes</td>\n",
              "      <td>no</td>\n",
              "      <td>unknown</td>\n",
              "      <td>19</td>\n",
              "      <td>NaN</td>\n",
              "      <td>34 sec</td>\n",
              "      <td>31</td>\n",
              "      <td>-1</td>\n",
              "      <td>0</td>\n",
              "      <td>unknown</td>\n",
              "      <td>no</td>\n",
              "      <td>technician</td>\n",
              "      <td>secondary</td>\n",
              "    </tr>\n",
              "    <tr>\n",
              "      <th>14502</th>\n",
              "      <td>35.0</td>\n",
              "      <td>70000</td>\n",
              "      <td>819</td>\n",
              "      <td>married</td>\n",
              "      <td>yes</td>\n",
              "      <td>no</td>\n",
              "      <td>yes</td>\n",
              "      <td>no</td>\n",
              "      <td>telephone</td>\n",
              "      <td>14</td>\n",
              "      <td>NaN</td>\n",
              "      <td>1.7 min</td>\n",
              "      <td>14</td>\n",
              "      <td>-1</td>\n",
              "      <td>0</td>\n",
              "      <td>unknown</td>\n",
              "      <td>no</td>\n",
              "      <td>services</td>\n",
              "      <td>secondary</td>\n",
              "    </tr>\n",
              "    <tr>\n",
              "      <th>15795</th>\n",
              "      <td>38.0</td>\n",
              "      <td>20000</td>\n",
              "      <td>-41</td>\n",
              "      <td>married</td>\n",
              "      <td>yes</td>\n",
              "      <td>no</td>\n",
              "      <td>yes</td>\n",
              "      <td>no</td>\n",
              "      <td>cellular</td>\n",
              "      <td>21</td>\n",
              "      <td>NaN</td>\n",
              "      <td>1.13333333333333 min</td>\n",
              "      <td>10</td>\n",
              "      <td>-1</td>\n",
              "      <td>0</td>\n",
              "      <td>unknown</td>\n",
              "      <td>no</td>\n",
              "      <td>blue-collar</td>\n",
              "      <td>primary</td>\n",
              "    </tr>\n",
              "    <tr>\n",
              "      <th>16023</th>\n",
              "      <td>35.0</td>\n",
              "      <td>60000</td>\n",
              "      <td>328</td>\n",
              "      <td>married</td>\n",
              "      <td>yes</td>\n",
              "      <td>no</td>\n",
              "      <td>yes</td>\n",
              "      <td>no</td>\n",
              "      <td>cellular</td>\n",
              "      <td>22</td>\n",
              "      <td>NaN</td>\n",
              "      <td>10.9 min</td>\n",
              "      <td>2</td>\n",
              "      <td>-1</td>\n",
              "      <td>0</td>\n",
              "      <td>unknown</td>\n",
              "      <td>yes</td>\n",
              "      <td>technician</td>\n",
              "      <td>tertiary</td>\n",
              "    </tr>\n",
              "    <tr>\n",
              "      <th>16850</th>\n",
              "      <td>45.0</td>\n",
              "      <td>55000</td>\n",
              "      <td>25</td>\n",
              "      <td>married</td>\n",
              "      <td>yes</td>\n",
              "      <td>no</td>\n",
              "      <td>no</td>\n",
              "      <td>yes</td>\n",
              "      <td>cellular</td>\n",
              "      <td>25</td>\n",
              "      <td>NaN</td>\n",
              "      <td>1.91666666666667 min</td>\n",
              "      <td>3</td>\n",
              "      <td>-1</td>\n",
              "      <td>0</td>\n",
              "      <td>unknown</td>\n",
              "      <td>no</td>\n",
              "      <td>retired</td>\n",
              "      <td>primary</td>\n",
              "    </tr>\n",
              "    <tr>\n",
              "      <th>17568</th>\n",
              "      <td>56.0</td>\n",
              "      <td>70000</td>\n",
              "      <td>0</td>\n",
              "      <td>married</td>\n",
              "      <td>no</td>\n",
              "      <td>no</td>\n",
              "      <td>no</td>\n",
              "      <td>no</td>\n",
              "      <td>cellular</td>\n",
              "      <td>29</td>\n",
              "      <td>NaN</td>\n",
              "      <td>1.38333333333333 min</td>\n",
              "      <td>2</td>\n",
              "      <td>-1</td>\n",
              "      <td>0</td>\n",
              "      <td>unknown</td>\n",
              "      <td>no</td>\n",
              "      <td>services</td>\n",
              "      <td>unknown</td>\n",
              "    </tr>\n",
              "    <tr>\n",
              "      <th>18431</th>\n",
              "      <td>42.0</td>\n",
              "      <td>70000</td>\n",
              "      <td>247</td>\n",
              "      <td>single</td>\n",
              "      <td>yes</td>\n",
              "      <td>no</td>\n",
              "      <td>yes</td>\n",
              "      <td>no</td>\n",
              "      <td>cellular</td>\n",
              "      <td>31</td>\n",
              "      <td>NaN</td>\n",
              "      <td>1.9 min</td>\n",
              "      <td>2</td>\n",
              "      <td>-1</td>\n",
              "      <td>0</td>\n",
              "      <td>unknown</td>\n",
              "      <td>no</td>\n",
              "      <td>services</td>\n",
              "      <td>secondary</td>\n",
              "    </tr>\n",
              "    <tr>\n",
              "      <th>18942</th>\n",
              "      <td>49.0</td>\n",
              "      <td>50000</td>\n",
              "      <td>949</td>\n",
              "      <td>married</td>\n",
              "      <td>yes</td>\n",
              "      <td>no</td>\n",
              "      <td>no</td>\n",
              "      <td>no</td>\n",
              "      <td>cellular</td>\n",
              "      <td>4</td>\n",
              "      <td>NaN</td>\n",
              "      <td>1.51666666666667 min</td>\n",
              "      <td>1</td>\n",
              "      <td>-1</td>\n",
              "      <td>0</td>\n",
              "      <td>unknown</td>\n",
              "      <td>no</td>\n",
              "      <td>admin.</td>\n",
              "      <td>secondary</td>\n",
              "    </tr>\n",
              "    <tr>\n",
              "      <th>19118</th>\n",
              "      <td>38.0</td>\n",
              "      <td>50000</td>\n",
              "      <td>1980</td>\n",
              "      <td>married</td>\n",
              "      <td>yes</td>\n",
              "      <td>no</td>\n",
              "      <td>no</td>\n",
              "      <td>no</td>\n",
              "      <td>cellular</td>\n",
              "      <td>5</td>\n",
              "      <td>NaN</td>\n",
              "      <td>2.93333333333333 min</td>\n",
              "      <td>2</td>\n",
              "      <td>-1</td>\n",
              "      <td>0</td>\n",
              "      <td>unknown</td>\n",
              "      <td>no</td>\n",
              "      <td>admin.</td>\n",
              "      <td>tertiary</td>\n",
              "    </tr>\n",
              "    <tr>\n",
              "      <th>19769</th>\n",
              "      <td>36.0</td>\n",
              "      <td>100000</td>\n",
              "      <td>162</td>\n",
              "      <td>married</td>\n",
              "      <td>yes</td>\n",
              "      <td>no</td>\n",
              "      <td>yes</td>\n",
              "      <td>no</td>\n",
              "      <td>cellular</td>\n",
              "      <td>8</td>\n",
              "      <td>NaN</td>\n",
              "      <td>1.25 min</td>\n",
              "      <td>2</td>\n",
              "      <td>-1</td>\n",
              "      <td>0</td>\n",
              "      <td>unknown</td>\n",
              "      <td>no</td>\n",
              "      <td>management</td>\n",
              "      <td>tertiary</td>\n",
              "    </tr>\n",
              "    <tr>\n",
              "      <th>21777</th>\n",
              "      <td>56.0</td>\n",
              "      <td>16000</td>\n",
              "      <td>605</td>\n",
              "      <td>married</td>\n",
              "      <td>yes</td>\n",
              "      <td>no</td>\n",
              "      <td>no</td>\n",
              "      <td>no</td>\n",
              "      <td>cellular</td>\n",
              "      <td>19</td>\n",
              "      <td>NaN</td>\n",
              "      <td>3.45 min</td>\n",
              "      <td>6</td>\n",
              "      <td>-1</td>\n",
              "      <td>0</td>\n",
              "      <td>unknown</td>\n",
              "      <td>no</td>\n",
              "      <td>housemaid</td>\n",
              "      <td>primary</td>\n",
              "    </tr>\n",
              "    <tr>\n",
              "      <th>21962</th>\n",
              "      <td>36.0</td>\n",
              "      <td>60000</td>\n",
              "      <td>1044</td>\n",
              "      <td>single</td>\n",
              "      <td>yes</td>\n",
              "      <td>no</td>\n",
              "      <td>yes</td>\n",
              "      <td>no</td>\n",
              "      <td>cellular</td>\n",
              "      <td>20</td>\n",
              "      <td>NaN</td>\n",
              "      <td>0.25 min</td>\n",
              "      <td>19</td>\n",
              "      <td>-1</td>\n",
              "      <td>0</td>\n",
              "      <td>unknown</td>\n",
              "      <td>no</td>\n",
              "      <td>technician</td>\n",
              "      <td>secondary</td>\n",
              "    </tr>\n",
              "    <tr>\n",
              "      <th>23897</th>\n",
              "      <td>46.0</td>\n",
              "      <td>20000</td>\n",
              "      <td>123</td>\n",
              "      <td>married</td>\n",
              "      <td>yes</td>\n",
              "      <td>no</td>\n",
              "      <td>no</td>\n",
              "      <td>no</td>\n",
              "      <td>cellular</td>\n",
              "      <td>29</td>\n",
              "      <td>NaN</td>\n",
              "      <td>2.8 min</td>\n",
              "      <td>2</td>\n",
              "      <td>-1</td>\n",
              "      <td>0</td>\n",
              "      <td>unknown</td>\n",
              "      <td>no</td>\n",
              "      <td>blue-collar</td>\n",
              "      <td>primary</td>\n",
              "    </tr>\n",
              "    <tr>\n",
              "      <th>25658</th>\n",
              "      <td>35.0</td>\n",
              "      <td>60000</td>\n",
              "      <td>8647</td>\n",
              "      <td>married</td>\n",
              "      <td>yes</td>\n",
              "      <td>no</td>\n",
              "      <td>no</td>\n",
              "      <td>no</td>\n",
              "      <td>cellular</td>\n",
              "      <td>19</td>\n",
              "      <td>NaN</td>\n",
              "      <td>2.33333333333333 min</td>\n",
              "      <td>2</td>\n",
              "      <td>-1</td>\n",
              "      <td>0</td>\n",
              "      <td>unknown</td>\n",
              "      <td>no</td>\n",
              "      <td>self-employed</td>\n",
              "      <td>tertiary</td>\n",
              "    </tr>\n",
              "    <tr>\n",
              "      <th>27480</th>\n",
              "      <td>31.0</td>\n",
              "      <td>100000</td>\n",
              "      <td>3283</td>\n",
              "      <td>single</td>\n",
              "      <td>no</td>\n",
              "      <td>no</td>\n",
              "      <td>no</td>\n",
              "      <td>no</td>\n",
              "      <td>cellular</td>\n",
              "      <td>21</td>\n",
              "      <td>NaN</td>\n",
              "      <td>6.28333333333333 min</td>\n",
              "      <td>1</td>\n",
              "      <td>-1</td>\n",
              "      <td>0</td>\n",
              "      <td>unknown</td>\n",
              "      <td>no</td>\n",
              "      <td>management</td>\n",
              "      <td>tertiary</td>\n",
              "    </tr>\n",
              "    <tr>\n",
              "      <th>28693</th>\n",
              "      <td>26.0</td>\n",
              "      <td>16000</td>\n",
              "      <td>543</td>\n",
              "      <td>married</td>\n",
              "      <td>yes</td>\n",
              "      <td>no</td>\n",
              "      <td>no</td>\n",
              "      <td>no</td>\n",
              "      <td>cellular</td>\n",
              "      <td>30</td>\n",
              "      <td>NaN</td>\n",
              "      <td>2.81666666666667 min</td>\n",
              "      <td>3</td>\n",
              "      <td>-1</td>\n",
              "      <td>0</td>\n",
              "      <td>unknown</td>\n",
              "      <td>no</td>\n",
              "      <td>housemaid</td>\n",
              "      <td>tertiary</td>\n",
              "    </tr>\n",
              "    <tr>\n",
              "      <th>30740</th>\n",
              "      <td>32.0</td>\n",
              "      <td>100000</td>\n",
              "      <td>2770</td>\n",
              "      <td>single</td>\n",
              "      <td>no</td>\n",
              "      <td>no</td>\n",
              "      <td>no</td>\n",
              "      <td>no</td>\n",
              "      <td>telephone</td>\n",
              "      <td>6</td>\n",
              "      <td>NaN</td>\n",
              "      <td>0.733333333333333 min</td>\n",
              "      <td>9</td>\n",
              "      <td>-1</td>\n",
              "      <td>0</td>\n",
              "      <td>unknown</td>\n",
              "      <td>no</td>\n",
              "      <td>management</td>\n",
              "      <td>tertiary</td>\n",
              "    </tr>\n",
              "    <tr>\n",
              "      <th>31551</th>\n",
              "      <td>54.0</td>\n",
              "      <td>55000</td>\n",
              "      <td>136</td>\n",
              "      <td>married</td>\n",
              "      <td>yes</td>\n",
              "      <td>no</td>\n",
              "      <td>yes</td>\n",
              "      <td>no</td>\n",
              "      <td>cellular</td>\n",
              "      <td>3</td>\n",
              "      <td>NaN</td>\n",
              "      <td>5.86666666666667 min</td>\n",
              "      <td>1</td>\n",
              "      <td>332</td>\n",
              "      <td>2</td>\n",
              "      <td>failure</td>\n",
              "      <td>no</td>\n",
              "      <td>retired</td>\n",
              "      <td>primary</td>\n",
              "    </tr>\n",
              "    <tr>\n",
              "      <th>35773</th>\n",
              "      <td>52.0</td>\n",
              "      <td>20000</td>\n",
              "      <td>33</td>\n",
              "      <td>married</td>\n",
              "      <td>no</td>\n",
              "      <td>no</td>\n",
              "      <td>no</td>\n",
              "      <td>no</td>\n",
              "      <td>telephone</td>\n",
              "      <td>8</td>\n",
              "      <td>NaN</td>\n",
              "      <td>5.01666666666667 min</td>\n",
              "      <td>1</td>\n",
              "      <td>-1</td>\n",
              "      <td>0</td>\n",
              "      <td>unknown</td>\n",
              "      <td>no</td>\n",
              "      <td>blue-collar</td>\n",
              "      <td>unknown</td>\n",
              "    </tr>\n",
              "    <tr>\n",
              "      <th>37194</th>\n",
              "      <td>36.0</td>\n",
              "      <td>20000</td>\n",
              "      <td>1969</td>\n",
              "      <td>married</td>\n",
              "      <td>yes</td>\n",
              "      <td>no</td>\n",
              "      <td>yes</td>\n",
              "      <td>yes</td>\n",
              "      <td>cellular</td>\n",
              "      <td>13</td>\n",
              "      <td>NaN</td>\n",
              "      <td>1.45 min</td>\n",
              "      <td>1</td>\n",
              "      <td>-1</td>\n",
              "      <td>0</td>\n",
              "      <td>unknown</td>\n",
              "      <td>no</td>\n",
              "      <td>blue-collar</td>\n",
              "      <td>secondary</td>\n",
              "    </tr>\n",
              "    <tr>\n",
              "      <th>37819</th>\n",
              "      <td>34.0</td>\n",
              "      <td>20000</td>\n",
              "      <td>237</td>\n",
              "      <td>married</td>\n",
              "      <td>yes</td>\n",
              "      <td>no</td>\n",
              "      <td>yes</td>\n",
              "      <td>no</td>\n",
              "      <td>cellular</td>\n",
              "      <td>14</td>\n",
              "      <td>NaN</td>\n",
              "      <td>1.91666666666667 min</td>\n",
              "      <td>3</td>\n",
              "      <td>-1</td>\n",
              "      <td>0</td>\n",
              "      <td>unknown</td>\n",
              "      <td>no</td>\n",
              "      <td>blue-collar</td>\n",
              "      <td>secondary</td>\n",
              "    </tr>\n",
              "    <tr>\n",
              "      <th>38158</th>\n",
              "      <td>34.0</td>\n",
              "      <td>60000</td>\n",
              "      <td>1317</td>\n",
              "      <td>divorced</td>\n",
              "      <td>no</td>\n",
              "      <td>no</td>\n",
              "      <td>yes</td>\n",
              "      <td>no</td>\n",
              "      <td>cellular</td>\n",
              "      <td>15</td>\n",
              "      <td>NaN</td>\n",
              "      <td>3.98333333333333 min</td>\n",
              "      <td>1</td>\n",
              "      <td>-1</td>\n",
              "      <td>0</td>\n",
              "      <td>unknown</td>\n",
              "      <td>no</td>\n",
              "      <td>technician</td>\n",
              "      <td>tertiary</td>\n",
              "    </tr>\n",
              "    <tr>\n",
              "      <th>39188</th>\n",
              "      <td>30.0</td>\n",
              "      <td>60000</td>\n",
              "      <td>778</td>\n",
              "      <td>single</td>\n",
              "      <td>yes</td>\n",
              "      <td>no</td>\n",
              "      <td>yes</td>\n",
              "      <td>no</td>\n",
              "      <td>cellular</td>\n",
              "      <td>18</td>\n",
              "      <td>NaN</td>\n",
              "      <td>0.366666666666667 min</td>\n",
              "      <td>2</td>\n",
              "      <td>346</td>\n",
              "      <td>2</td>\n",
              "      <td>failure</td>\n",
              "      <td>no</td>\n",
              "      <td>technician</td>\n",
              "      <td>secondary</td>\n",
              "    </tr>\n",
              "    <tr>\n",
              "      <th>41090</th>\n",
              "      <td>35.0</td>\n",
              "      <td>100000</td>\n",
              "      <td>7218</td>\n",
              "      <td>single</td>\n",
              "      <td>no</td>\n",
              "      <td>no</td>\n",
              "      <td>no</td>\n",
              "      <td>no</td>\n",
              "      <td>cellular</td>\n",
              "      <td>14</td>\n",
              "      <td>NaN</td>\n",
              "      <td>3.73333333333333 min</td>\n",
              "      <td>3</td>\n",
              "      <td>-1</td>\n",
              "      <td>0</td>\n",
              "      <td>unknown</td>\n",
              "      <td>no</td>\n",
              "      <td>management</td>\n",
              "      <td>tertiary</td>\n",
              "    </tr>\n",
              "    <tr>\n",
              "      <th>41434</th>\n",
              "      <td>43.0</td>\n",
              "      <td>100000</td>\n",
              "      <td>13450</td>\n",
              "      <td>married</td>\n",
              "      <td>yes</td>\n",
              "      <td>no</td>\n",
              "      <td>yes</td>\n",
              "      <td>no</td>\n",
              "      <td>cellular</td>\n",
              "      <td>4</td>\n",
              "      <td>NaN</td>\n",
              "      <td>2.13333333333333 min</td>\n",
              "      <td>1</td>\n",
              "      <td>-1</td>\n",
              "      <td>0</td>\n",
              "      <td>unknown</td>\n",
              "      <td>no</td>\n",
              "      <td>management</td>\n",
              "      <td>tertiary</td>\n",
              "    </tr>\n",
              "    <tr>\n",
              "      <th>41606</th>\n",
              "      <td>25.0</td>\n",
              "      <td>100000</td>\n",
              "      <td>808</td>\n",
              "      <td>single</td>\n",
              "      <td>no</td>\n",
              "      <td>no</td>\n",
              "      <td>no</td>\n",
              "      <td>no</td>\n",
              "      <td>cellular</td>\n",
              "      <td>18</td>\n",
              "      <td>NaN</td>\n",
              "      <td>4.45 min</td>\n",
              "      <td>2</td>\n",
              "      <td>114</td>\n",
              "      <td>2</td>\n",
              "      <td>failure</td>\n",
              "      <td>yes</td>\n",
              "      <td>management</td>\n",
              "      <td>tertiary</td>\n",
              "    </tr>\n",
              "    <tr>\n",
              "      <th>43001</th>\n",
              "      <td>35.0</td>\n",
              "      <td>60000</td>\n",
              "      <td>353</td>\n",
              "      <td>single</td>\n",
              "      <td>no</td>\n",
              "      <td>no</td>\n",
              "      <td>no</td>\n",
              "      <td>no</td>\n",
              "      <td>cellular</td>\n",
              "      <td>11</td>\n",
              "      <td>NaN</td>\n",
              "      <td>5.86666666666667 min</td>\n",
              "      <td>1</td>\n",
              "      <td>183</td>\n",
              "      <td>1</td>\n",
              "      <td>success</td>\n",
              "      <td>yes</td>\n",
              "      <td>self-employed</td>\n",
              "      <td>tertiary</td>\n",
              "    </tr>\n",
              "    <tr>\n",
              "      <th>43021</th>\n",
              "      <td>52.0</td>\n",
              "      <td>100000</td>\n",
              "      <td>4675</td>\n",
              "      <td>married</td>\n",
              "      <td>yes</td>\n",
              "      <td>no</td>\n",
              "      <td>no</td>\n",
              "      <td>no</td>\n",
              "      <td>cellular</td>\n",
              "      <td>12</td>\n",
              "      <td>NaN</td>\n",
              "      <td>3.01666666666667 min</td>\n",
              "      <td>3</td>\n",
              "      <td>-1</td>\n",
              "      <td>0</td>\n",
              "      <td>unknown</td>\n",
              "      <td>yes</td>\n",
              "      <td>management</td>\n",
              "      <td>tertiary</td>\n",
              "    </tr>\n",
              "    <tr>\n",
              "      <th>43323</th>\n",
              "      <td>54.0</td>\n",
              "      <td>70000</td>\n",
              "      <td>0</td>\n",
              "      <td>divorced</td>\n",
              "      <td>yes</td>\n",
              "      <td>no</td>\n",
              "      <td>no</td>\n",
              "      <td>no</td>\n",
              "      <td>cellular</td>\n",
              "      <td>18</td>\n",
              "      <td>NaN</td>\n",
              "      <td>6.03333333333333 min</td>\n",
              "      <td>1</td>\n",
              "      <td>290</td>\n",
              "      <td>3</td>\n",
              "      <td>success</td>\n",
              "      <td>yes</td>\n",
              "      <td>services</td>\n",
              "      <td>secondary</td>\n",
              "    </tr>\n",
              "    <tr>\n",
              "      <th>44131</th>\n",
              "      <td>27.0</td>\n",
              "      <td>100000</td>\n",
              "      <td>843</td>\n",
              "      <td>single</td>\n",
              "      <td>yes</td>\n",
              "      <td>no</td>\n",
              "      <td>no</td>\n",
              "      <td>no</td>\n",
              "      <td>cellular</td>\n",
              "      <td>12</td>\n",
              "      <td>NaN</td>\n",
              "      <td>2.05 min</td>\n",
              "      <td>2</td>\n",
              "      <td>185</td>\n",
              "      <td>1</td>\n",
              "      <td>success</td>\n",
              "      <td>no</td>\n",
              "      <td>management</td>\n",
              "      <td>secondary</td>\n",
              "    </tr>\n",
              "    <tr>\n",
              "      <th>44732</th>\n",
              "      <td>23.0</td>\n",
              "      <td>4000</td>\n",
              "      <td>508</td>\n",
              "      <td>single</td>\n",
              "      <td>no</td>\n",
              "      <td>no</td>\n",
              "      <td>no</td>\n",
              "      <td>no</td>\n",
              "      <td>cellular</td>\n",
              "      <td>8</td>\n",
              "      <td>NaN</td>\n",
              "      <td>3.5 min</td>\n",
              "      <td>1</td>\n",
              "      <td>92</td>\n",
              "      <td>1</td>\n",
              "      <td>failure</td>\n",
              "      <td>no</td>\n",
              "      <td>student</td>\n",
              "      <td>tertiary</td>\n",
              "    </tr>\n",
              "  </tbody>\n",
              "</table>\n",
              "</div>\n",
              "    <div class=\"colab-df-buttons\">\n",
              "\n",
              "  <div class=\"colab-df-container\">\n",
              "    <button class=\"colab-df-convert\" onclick=\"convertToInteractive('df-a0a6b63a-fd13-4727-98be-fdf3d00ab0cb')\"\n",
              "            title=\"Convert this dataframe to an interactive table.\"\n",
              "            style=\"display:none;\">\n",
              "\n",
              "  <svg xmlns=\"http://www.w3.org/2000/svg\" height=\"24px\" viewBox=\"0 -960 960 960\">\n",
              "    <path d=\"M120-120v-720h720v720H120Zm60-500h600v-160H180v160Zm220 220h160v-160H400v160Zm0 220h160v-160H400v160ZM180-400h160v-160H180v160Zm440 0h160v-160H620v160ZM180-180h160v-160H180v160Zm440 0h160v-160H620v160Z\"/>\n",
              "  </svg>\n",
              "    </button>\n",
              "\n",
              "  <style>\n",
              "    .colab-df-container {\n",
              "      display:flex;\n",
              "      gap: 12px;\n",
              "    }\n",
              "\n",
              "    .colab-df-convert {\n",
              "      background-color: #E8F0FE;\n",
              "      border: none;\n",
              "      border-radius: 50%;\n",
              "      cursor: pointer;\n",
              "      display: none;\n",
              "      fill: #1967D2;\n",
              "      height: 32px;\n",
              "      padding: 0 0 0 0;\n",
              "      width: 32px;\n",
              "    }\n",
              "\n",
              "    .colab-df-convert:hover {\n",
              "      background-color: #E2EBFA;\n",
              "      box-shadow: 0px 1px 2px rgba(60, 64, 67, 0.3), 0px 1px 3px 1px rgba(60, 64, 67, 0.15);\n",
              "      fill: #174EA6;\n",
              "    }\n",
              "\n",
              "    .colab-df-buttons div {\n",
              "      margin-bottom: 4px;\n",
              "    }\n",
              "\n",
              "    [theme=dark] .colab-df-convert {\n",
              "      background-color: #3B4455;\n",
              "      fill: #D2E3FC;\n",
              "    }\n",
              "\n",
              "    [theme=dark] .colab-df-convert:hover {\n",
              "      background-color: #434B5C;\n",
              "      box-shadow: 0px 1px 3px 1px rgba(0, 0, 0, 0.15);\n",
              "      filter: drop-shadow(0px 1px 2px rgba(0, 0, 0, 0.3));\n",
              "      fill: #FFFFFF;\n",
              "    }\n",
              "  </style>\n",
              "\n",
              "    <script>\n",
              "      const buttonEl =\n",
              "        document.querySelector('#df-a0a6b63a-fd13-4727-98be-fdf3d00ab0cb button.colab-df-convert');\n",
              "      buttonEl.style.display =\n",
              "        google.colab.kernel.accessAllowed ? 'block' : 'none';\n",
              "\n",
              "      async function convertToInteractive(key) {\n",
              "        const element = document.querySelector('#df-a0a6b63a-fd13-4727-98be-fdf3d00ab0cb');\n",
              "        const dataTable =\n",
              "          await google.colab.kernel.invokeFunction('convertToInteractive',\n",
              "                                                    [key], {});\n",
              "        if (!dataTable) return;\n",
              "\n",
              "        const docLinkHtml = 'Like what you see? Visit the ' +\n",
              "          '<a target=\"_blank\" href=https://colab.research.google.com/notebooks/data_table.ipynb>data table notebook</a>'\n",
              "          + ' to learn more about interactive tables.';\n",
              "        element.innerHTML = '';\n",
              "        dataTable['output_type'] = 'display_data';\n",
              "        await google.colab.output.renderOutput(dataTable, element);\n",
              "        const docLink = document.createElement('div');\n",
              "        docLink.innerHTML = docLinkHtml;\n",
              "        element.appendChild(docLink);\n",
              "      }\n",
              "    </script>\n",
              "  </div>\n",
              "\n",
              "\n",
              "<div id=\"df-ee0f9007-eea9-4614-ab38-eecde00a5d20\">\n",
              "  <button class=\"colab-df-quickchart\" onclick=\"quickchart('df-ee0f9007-eea9-4614-ab38-eecde00a5d20')\"\n",
              "            title=\"Suggest charts.\"\n",
              "            style=\"display:none;\">\n",
              "\n",
              "<svg xmlns=\"http://www.w3.org/2000/svg\" height=\"24px\"viewBox=\"0 0 24 24\"\n",
              "     width=\"24px\">\n",
              "    <g>\n",
              "        <path d=\"M19 3H5c-1.1 0-2 .9-2 2v14c0 1.1.9 2 2 2h14c1.1 0 2-.9 2-2V5c0-1.1-.9-2-2-2zM9 17H7v-7h2v7zm4 0h-2V7h2v10zm4 0h-2v-4h2v4z\"/>\n",
              "    </g>\n",
              "</svg>\n",
              "  </button>\n",
              "\n",
              "<style>\n",
              "  .colab-df-quickchart {\n",
              "    background-color: #E8F0FE;\n",
              "    border: none;\n",
              "    border-radius: 50%;\n",
              "    cursor: pointer;\n",
              "    display: none;\n",
              "    fill: #1967D2;\n",
              "    height: 32px;\n",
              "    padding: 0 0 0 0;\n",
              "    width: 32px;\n",
              "  }\n",
              "\n",
              "  .colab-df-quickchart:hover {\n",
              "    background-color: #E2EBFA;\n",
              "    box-shadow: 0px 1px 2px rgba(60, 64, 67, 0.3), 0px 1px 3px 1px rgba(60, 64, 67, 0.15);\n",
              "    fill: #174EA6;\n",
              "  }\n",
              "\n",
              "  [theme=dark] .colab-df-quickchart {\n",
              "    background-color: #3B4455;\n",
              "    fill: #D2E3FC;\n",
              "  }\n",
              "\n",
              "  [theme=dark] .colab-df-quickchart:hover {\n",
              "    background-color: #434B5C;\n",
              "    box-shadow: 0px 1px 3px 1px rgba(0, 0, 0, 0.15);\n",
              "    filter: drop-shadow(0px 1px 2px rgba(0, 0, 0, 0.3));\n",
              "    fill: #FFFFFF;\n",
              "  }\n",
              "</style>\n",
              "\n",
              "  <script>\n",
              "    async function quickchart(key) {\n",
              "      const charts = await google.colab.kernel.invokeFunction(\n",
              "          'suggestCharts', [key], {});\n",
              "    }\n",
              "    (() => {\n",
              "      let quickchartButtonEl =\n",
              "        document.querySelector('#df-ee0f9007-eea9-4614-ab38-eecde00a5d20 button');\n",
              "      quickchartButtonEl.style.display =\n",
              "        google.colab.kernel.accessAllowed ? 'block' : 'none';\n",
              "    })();\n",
              "  </script>\n",
              "</div>\n",
              "    </div>\n",
              "  </div>\n"
            ]
          },
          "metadata": {},
          "execution_count": 20
        }
      ],
      "source": [
        "# Highlighting those records which are floats\n",
        "\n",
        "bank[bank.month.apply(lambda x : isinstance(x,float))== True]"
      ]
    },
    {
      "cell_type": "markdown",
      "metadata": {
        "id": "jbXAJWmX80ZE"
      },
      "source": [
        "### Impute/Remove missing values"
      ]
    },
    {
      "cell_type": "code",
      "execution_count": 21,
      "metadata": {
        "id": "qD7izDed80ZE",
        "outputId": "4421f3b3-a2c3-477e-f463-1f3b82766adf",
        "colab": {
          "base_uri": "https://localhost:8080/"
        }
      },
      "outputs": [
        {
          "output_type": "execute_result",
          "data": {
            "text/plain": [
              "age          20\n",
              "salary        0\n",
              "balance       0\n",
              "marital       0\n",
              "targeted      0\n",
              "default       0\n",
              "housing       0\n",
              "loan          0\n",
              "contact       0\n",
              "day           0\n",
              "month        50\n",
              "duration      0\n",
              "campaign      0\n",
              "pdays         0\n",
              "previous      0\n",
              "poutcome      0\n",
              "response     30\n",
              "job           0\n",
              "education     0\n",
              "dtype: int64"
            ]
          },
          "metadata": {},
          "execution_count": 21
        }
      ],
      "source": [
        "# Checking the missing values\n",
        "bank.isnull().sum()"
      ]
    },
    {
      "cell_type": "markdown",
      "metadata": {
        "id": "t2iHxXAC80ZF"
      },
      "source": [
        "#### handling missing values in age column."
      ]
    },
    {
      "cell_type": "code",
      "execution_count": 22,
      "metadata": {
        "id": "zwdrnsWL80ZF",
        "outputId": "5dd1cef8-da18-4789-e9af-79617ad76cf6",
        "colab": {
          "base_uri": "https://localhost:8080/"
        }
      },
      "outputs": [
        {
          "output_type": "execute_result",
          "data": {
            "text/plain": [
              "20"
            ]
          },
          "metadata": {},
          "execution_count": 22
        }
      ],
      "source": [
        "#count the missing values in age column.\n",
        "bank.age.isnull().sum()"
      ]
    },
    {
      "cell_type": "code",
      "execution_count": 23,
      "metadata": {
        "id": "trBSOtGs80ZF",
        "outputId": "3f462b8e-50a8-48c0-e680-97f524468816",
        "colab": {
          "base_uri": "https://localhost:8080/"
        }
      },
      "outputs": [
        {
          "output_type": "execute_result",
          "data": {
            "text/plain": [
              "(45211, 19)"
            ]
          },
          "metadata": {},
          "execution_count": 23
        }
      ],
      "source": [
        "#pring the shape of dataframe inp0\n",
        "bank.shape"
      ]
    },
    {
      "cell_type": "code",
      "execution_count": 24,
      "metadata": {
        "id": "UIJRwCT180ZF",
        "outputId": "330b6c42-cd7d-4b3a-e6c5-ead79608cd2c",
        "colab": {
          "base_uri": "https://localhost:8080/"
        }
      },
      "outputs": [
        {
          "output_type": "execute_result",
          "data": {
            "text/plain": [
              "0.04423702196368141"
            ]
          },
          "metadata": {},
          "execution_count": 24
        }
      ],
      "source": [
        "#calculate the percentage of missing values in age column.\n",
        "float(100*20/45211)"
      ]
    },
    {
      "cell_type": "markdown",
      "metadata": {
        "id": "bDSjyzlL80ZL"
      },
      "source": [
        "Drop the records with age missing."
      ]
    },
    {
      "cell_type": "code",
      "execution_count": 25,
      "metadata": {
        "id": "T7qGiz7Q80ZL"
      },
      "outputs": [],
      "source": [
        "#drop the records with age missing in bank and copy in bank1 dataframe\n",
        "\n",
        "bank1 = bank[~bank.age.isnull()].copy()"
      ]
    },
    {
      "cell_type": "code",
      "execution_count": null,
      "metadata": {
        "id": "-XVJ1zHF80ZL",
        "outputId": "7cda1398-c83d-4db7-9f24-0c86f7ced246"
      },
      "outputs": [
        {
          "data": {
            "text/plain": [
              "(45191, 19)"
            ]
          },
          "execution_count": 22,
          "metadata": {},
          "output_type": "execute_result"
        }
      ],
      "source": [
        "bank1.shape"
      ]
    },
    {
      "cell_type": "code",
      "execution_count": 26,
      "metadata": {
        "id": "14uwmmoi80ZL",
        "outputId": "9cd666d5-36c6-4d30-d102-36fb65e6a088",
        "colab": {
          "base_uri": "https://localhost:8080/"
        }
      },
      "outputs": [
        {
          "output_type": "execute_result",
          "data": {
            "text/plain": [
              "0"
            ]
          },
          "metadata": {},
          "execution_count": 26
        }
      ],
      "source": [
        "# check for the missing values in age\n",
        "bank1.age.isnull().sum()"
      ]
    },
    {
      "cell_type": "markdown",
      "metadata": {
        "id": "6rr5F5bB80ZL"
      },
      "source": [
        "#### handling missing values in month column"
      ]
    },
    {
      "cell_type": "code",
      "execution_count": 27,
      "metadata": {
        "id": "HEx_7eor80ZL",
        "outputId": "9fe04eed-d3fa-4e2b-8432-70cf047a8b4d",
        "colab": {
          "base_uri": "https://localhost:8080/"
        }
      },
      "outputs": [
        {
          "output_type": "execute_result",
          "data": {
            "text/plain": [
              "50"
            ]
          },
          "metadata": {},
          "execution_count": 27
        }
      ],
      "source": [
        "#count the missing values in month column in bank1.\n",
        "bank1.month.isnull().sum()"
      ]
    },
    {
      "cell_type": "code",
      "execution_count": 28,
      "metadata": {
        "id": "TJUYIBjA80ZL",
        "outputId": "e3a6eb1b-855c-459d-d7a0-e1a6e6dfa879",
        "colab": {
          "base_uri": "https://localhost:8080/"
        }
      },
      "outputs": [
        {
          "output_type": "execute_result",
          "data": {
            "text/plain": [
              "may, 2017    0.304380\n",
              "jul, 2017    0.152522\n",
              "aug, 2017    0.138123\n",
              "jun, 2017    0.118141\n",
              "nov, 2017    0.087880\n",
              "apr, 2017    0.064908\n",
              "feb, 2017    0.058616\n",
              "jan, 2017    0.031058\n",
              "oct, 2017    0.016327\n",
              "sep, 2017    0.012760\n",
              "mar, 2017    0.010545\n",
              "dec, 2017    0.004741\n",
              "Name: month, dtype: float64"
            ]
          },
          "metadata": {},
          "execution_count": 28
        }
      ],
      "source": [
        "#print the percentage of each month in the data frame bank1.\n",
        "bank1.month.value_counts(normalize = True)"
      ]
    },
    {
      "cell_type": "code",
      "execution_count": 46,
      "metadata": {
        "id": "AC5iNbiY80ZM",
        "outputId": "3a07d18d-ac42-4092-ab52-711c6a6e0779",
        "colab": {
          "base_uri": "https://localhost:8080/",
          "height": 35
        }
      },
      "outputs": [
        {
          "output_type": "execute_result",
          "data": {
            "text/plain": [
              "'may, 2017'"
            ],
            "application/vnd.google.colaboratory.intrinsic+json": {
              "type": "string"
            }
          },
          "metadata": {},
          "execution_count": 46
        }
      ],
      "source": [
        "#find the mode of month in bank1\n",
        "month_mode = bank1.month.mode()[0]\n",
        "month_mode"
      ]
    },
    {
      "cell_type": "code",
      "execution_count": 47,
      "metadata": {
        "id": "nB-i59WO80ZM",
        "outputId": "ed98409c-b7b4-423a-caf3-d432bf49c35d",
        "colab": {
          "base_uri": "https://localhost:8080/"
        }
      },
      "outputs": [
        {
          "output_type": "execute_result",
          "data": {
            "text/plain": [
              "may, 2017    0.305149\n",
              "jul, 2017    0.152353\n",
              "aug, 2017    0.137970\n",
              "jun, 2017    0.118010\n",
              "nov, 2017    0.087783\n",
              "apr, 2017    0.064836\n",
              "feb, 2017    0.058551\n",
              "jan, 2017    0.031024\n",
              "oct, 2017    0.016309\n",
              "sep, 2017    0.012746\n",
              "mar, 2017    0.010533\n",
              "dec, 2017    0.004735\n",
              "Name: month, dtype: float64"
            ]
          },
          "metadata": {},
          "execution_count": 47
        }
      ],
      "source": [
        "# fill the missing values with mode value of month in bank1.\n",
        "bank1.month.fillna(month_mode , inplace = True)\n",
        "bank1.month.value_counts(normalize= True)"
      ]
    },
    {
      "cell_type": "code",
      "execution_count": 30,
      "metadata": {
        "id": "gm3uIj3B80ZM",
        "outputId": "ee5a15d0-369c-4c30-9b29-3d5c7bebb398",
        "colab": {
          "base_uri": "https://localhost:8080/"
        }
      },
      "outputs": [
        {
          "output_type": "execute_result",
          "data": {
            "text/plain": [
              "50"
            ]
          },
          "metadata": {},
          "execution_count": 30
        }
      ],
      "source": [
        "#let's see the null values in the month column.\n",
        "bank1.month.isnull().sum()"
      ]
    },
    {
      "cell_type": "markdown",
      "metadata": {
        "id": "3BEIfaqT80ZM"
      },
      "source": [
        "#### handling missing values in response column"
      ]
    },
    {
      "cell_type": "code",
      "execution_count": 31,
      "metadata": {
        "id": "QjBjor7C80ZM",
        "outputId": "f9d96e5a-1281-46fe-d00e-c6029e378a55",
        "colab": {
          "base_uri": "https://localhost:8080/"
        }
      },
      "outputs": [
        {
          "output_type": "execute_result",
          "data": {
            "text/plain": [
              "30"
            ]
          },
          "metadata": {},
          "execution_count": 31
        }
      ],
      "source": [
        "#count the missing values in response column in bank1.\n",
        "bank1.response.isnull().sum()"
      ]
    },
    {
      "cell_type": "code",
      "execution_count": null,
      "metadata": {
        "id": "LpJGPA3m80ZM",
        "outputId": "5fdc6431-945c-488c-aada-e0f19d3e4402"
      },
      "outputs": [
        {
          "data": {
            "text/plain": [
              "(45191, 19)"
            ]
          },
          "execution_count": 30,
          "metadata": {},
          "output_type": "execute_result"
        }
      ],
      "source": [
        "bank1.shape"
      ]
    },
    {
      "cell_type": "code",
      "execution_count": 32,
      "metadata": {
        "id": "e-XMORt980ZM",
        "outputId": "3bef7105-9f33-4cb1-cc47-432850069e44",
        "colab": {
          "base_uri": "https://localhost:8080/"
        }
      },
      "outputs": [
        {
          "output_type": "execute_result",
          "data": {
            "text/plain": [
              "0.06638489964816004"
            ]
          },
          "metadata": {},
          "execution_count": 32
        }
      ],
      "source": [
        "#calculate the percentage of missing values in response column.\n",
        "float(100*30/45191)"
      ]
    },
    {
      "cell_type": "code",
      "execution_count": null,
      "metadata": {
        "id": "vmQjFUH780ZM"
      },
      "outputs": [],
      "source": []
    },
    {
      "cell_type": "markdown",
      "metadata": {
        "id": "VcV57M9X80ZM"
      },
      "source": [
        "Target variable is better of not imputed.\n",
        "- Drop the records with missing values."
      ]
    },
    {
      "cell_type": "code",
      "execution_count": 33,
      "metadata": {
        "id": "6Bc3BxnK80ZM",
        "outputId": "84c0de96-07e3-4ffe-cb70-a4d9376eb19d",
        "colab": {
          "base_uri": "https://localhost:8080/",
          "height": 313
        }
      },
      "outputs": [
        {
          "output_type": "execute_result",
          "data": {
            "text/plain": [
              "    age  salary  balance  marital targeted default housing loan  contact  day  \\\n",
              "0  58.0  100000     2143  married      yes      no     yes   no  unknown    5   \n",
              "1  44.0   60000       29   single      yes      no     yes   no  unknown    5   \n",
              "2  33.0  120000        2  married      yes      no     yes  yes  unknown    5   \n",
              "3  47.0   20000     1506  married       no      no     yes   no  unknown    5   \n",
              "4  33.0       0        1   single       no      no      no   no  unknown    5   \n",
              "\n",
              "       month duration  campaign  pdays  previous poutcome response  \\\n",
              "0  may, 2017  261 sec         1     -1         0  unknown       no   \n",
              "1  may, 2017  151 sec         1     -1         0  unknown       no   \n",
              "2  may, 2017   76 sec         1     -1         0  unknown       no   \n",
              "3  may, 2017   92 sec         1     -1         0  unknown       no   \n",
              "4  may, 2017  198 sec         1     -1         0  unknown       no   \n",
              "\n",
              "            job  education  \n",
              "0    management   tertiary  \n",
              "1    technician  secondary  \n",
              "2  entrepreneur  secondary  \n",
              "3   blue-collar    unknown  \n",
              "4       unknown    unknown  "
            ],
            "text/html": [
              "\n",
              "  <div id=\"df-7f0cf260-c5b5-48ba-964d-9602519c9ef3\" class=\"colab-df-container\">\n",
              "    <div>\n",
              "<style scoped>\n",
              "    .dataframe tbody tr th:only-of-type {\n",
              "        vertical-align: middle;\n",
              "    }\n",
              "\n",
              "    .dataframe tbody tr th {\n",
              "        vertical-align: top;\n",
              "    }\n",
              "\n",
              "    .dataframe thead th {\n",
              "        text-align: right;\n",
              "    }\n",
              "</style>\n",
              "<table border=\"1\" class=\"dataframe\">\n",
              "  <thead>\n",
              "    <tr style=\"text-align: right;\">\n",
              "      <th></th>\n",
              "      <th>age</th>\n",
              "      <th>salary</th>\n",
              "      <th>balance</th>\n",
              "      <th>marital</th>\n",
              "      <th>targeted</th>\n",
              "      <th>default</th>\n",
              "      <th>housing</th>\n",
              "      <th>loan</th>\n",
              "      <th>contact</th>\n",
              "      <th>day</th>\n",
              "      <th>month</th>\n",
              "      <th>duration</th>\n",
              "      <th>campaign</th>\n",
              "      <th>pdays</th>\n",
              "      <th>previous</th>\n",
              "      <th>poutcome</th>\n",
              "      <th>response</th>\n",
              "      <th>job</th>\n",
              "      <th>education</th>\n",
              "    </tr>\n",
              "  </thead>\n",
              "  <tbody>\n",
              "    <tr>\n",
              "      <th>0</th>\n",
              "      <td>58.0</td>\n",
              "      <td>100000</td>\n",
              "      <td>2143</td>\n",
              "      <td>married</td>\n",
              "      <td>yes</td>\n",
              "      <td>no</td>\n",
              "      <td>yes</td>\n",
              "      <td>no</td>\n",
              "      <td>unknown</td>\n",
              "      <td>5</td>\n",
              "      <td>may, 2017</td>\n",
              "      <td>261 sec</td>\n",
              "      <td>1</td>\n",
              "      <td>-1</td>\n",
              "      <td>0</td>\n",
              "      <td>unknown</td>\n",
              "      <td>no</td>\n",
              "      <td>management</td>\n",
              "      <td>tertiary</td>\n",
              "    </tr>\n",
              "    <tr>\n",
              "      <th>1</th>\n",
              "      <td>44.0</td>\n",
              "      <td>60000</td>\n",
              "      <td>29</td>\n",
              "      <td>single</td>\n",
              "      <td>yes</td>\n",
              "      <td>no</td>\n",
              "      <td>yes</td>\n",
              "      <td>no</td>\n",
              "      <td>unknown</td>\n",
              "      <td>5</td>\n",
              "      <td>may, 2017</td>\n",
              "      <td>151 sec</td>\n",
              "      <td>1</td>\n",
              "      <td>-1</td>\n",
              "      <td>0</td>\n",
              "      <td>unknown</td>\n",
              "      <td>no</td>\n",
              "      <td>technician</td>\n",
              "      <td>secondary</td>\n",
              "    </tr>\n",
              "    <tr>\n",
              "      <th>2</th>\n",
              "      <td>33.0</td>\n",
              "      <td>120000</td>\n",
              "      <td>2</td>\n",
              "      <td>married</td>\n",
              "      <td>yes</td>\n",
              "      <td>no</td>\n",
              "      <td>yes</td>\n",
              "      <td>yes</td>\n",
              "      <td>unknown</td>\n",
              "      <td>5</td>\n",
              "      <td>may, 2017</td>\n",
              "      <td>76 sec</td>\n",
              "      <td>1</td>\n",
              "      <td>-1</td>\n",
              "      <td>0</td>\n",
              "      <td>unknown</td>\n",
              "      <td>no</td>\n",
              "      <td>entrepreneur</td>\n",
              "      <td>secondary</td>\n",
              "    </tr>\n",
              "    <tr>\n",
              "      <th>3</th>\n",
              "      <td>47.0</td>\n",
              "      <td>20000</td>\n",
              "      <td>1506</td>\n",
              "      <td>married</td>\n",
              "      <td>no</td>\n",
              "      <td>no</td>\n",
              "      <td>yes</td>\n",
              "      <td>no</td>\n",
              "      <td>unknown</td>\n",
              "      <td>5</td>\n",
              "      <td>may, 2017</td>\n",
              "      <td>92 sec</td>\n",
              "      <td>1</td>\n",
              "      <td>-1</td>\n",
              "      <td>0</td>\n",
              "      <td>unknown</td>\n",
              "      <td>no</td>\n",
              "      <td>blue-collar</td>\n",
              "      <td>unknown</td>\n",
              "    </tr>\n",
              "    <tr>\n",
              "      <th>4</th>\n",
              "      <td>33.0</td>\n",
              "      <td>0</td>\n",
              "      <td>1</td>\n",
              "      <td>single</td>\n",
              "      <td>no</td>\n",
              "      <td>no</td>\n",
              "      <td>no</td>\n",
              "      <td>no</td>\n",
              "      <td>unknown</td>\n",
              "      <td>5</td>\n",
              "      <td>may, 2017</td>\n",
              "      <td>198 sec</td>\n",
              "      <td>1</td>\n",
              "      <td>-1</td>\n",
              "      <td>0</td>\n",
              "      <td>unknown</td>\n",
              "      <td>no</td>\n",
              "      <td>unknown</td>\n",
              "      <td>unknown</td>\n",
              "    </tr>\n",
              "  </tbody>\n",
              "</table>\n",
              "</div>\n",
              "    <div class=\"colab-df-buttons\">\n",
              "\n",
              "  <div class=\"colab-df-container\">\n",
              "    <button class=\"colab-df-convert\" onclick=\"convertToInteractive('df-7f0cf260-c5b5-48ba-964d-9602519c9ef3')\"\n",
              "            title=\"Convert this dataframe to an interactive table.\"\n",
              "            style=\"display:none;\">\n",
              "\n",
              "  <svg xmlns=\"http://www.w3.org/2000/svg\" height=\"24px\" viewBox=\"0 -960 960 960\">\n",
              "    <path d=\"M120-120v-720h720v720H120Zm60-500h600v-160H180v160Zm220 220h160v-160H400v160Zm0 220h160v-160H400v160ZM180-400h160v-160H180v160Zm440 0h160v-160H620v160ZM180-180h160v-160H180v160Zm440 0h160v-160H620v160Z\"/>\n",
              "  </svg>\n",
              "    </button>\n",
              "\n",
              "  <style>\n",
              "    .colab-df-container {\n",
              "      display:flex;\n",
              "      gap: 12px;\n",
              "    }\n",
              "\n",
              "    .colab-df-convert {\n",
              "      background-color: #E8F0FE;\n",
              "      border: none;\n",
              "      border-radius: 50%;\n",
              "      cursor: pointer;\n",
              "      display: none;\n",
              "      fill: #1967D2;\n",
              "      height: 32px;\n",
              "      padding: 0 0 0 0;\n",
              "      width: 32px;\n",
              "    }\n",
              "\n",
              "    .colab-df-convert:hover {\n",
              "      background-color: #E2EBFA;\n",
              "      box-shadow: 0px 1px 2px rgba(60, 64, 67, 0.3), 0px 1px 3px 1px rgba(60, 64, 67, 0.15);\n",
              "      fill: #174EA6;\n",
              "    }\n",
              "\n",
              "    .colab-df-buttons div {\n",
              "      margin-bottom: 4px;\n",
              "    }\n",
              "\n",
              "    [theme=dark] .colab-df-convert {\n",
              "      background-color: #3B4455;\n",
              "      fill: #D2E3FC;\n",
              "    }\n",
              "\n",
              "    [theme=dark] .colab-df-convert:hover {\n",
              "      background-color: #434B5C;\n",
              "      box-shadow: 0px 1px 3px 1px rgba(0, 0, 0, 0.15);\n",
              "      filter: drop-shadow(0px 1px 2px rgba(0, 0, 0, 0.3));\n",
              "      fill: #FFFFFF;\n",
              "    }\n",
              "  </style>\n",
              "\n",
              "    <script>\n",
              "      const buttonEl =\n",
              "        document.querySelector('#df-7f0cf260-c5b5-48ba-964d-9602519c9ef3 button.colab-df-convert');\n",
              "      buttonEl.style.display =\n",
              "        google.colab.kernel.accessAllowed ? 'block' : 'none';\n",
              "\n",
              "      async function convertToInteractive(key) {\n",
              "        const element = document.querySelector('#df-7f0cf260-c5b5-48ba-964d-9602519c9ef3');\n",
              "        const dataTable =\n",
              "          await google.colab.kernel.invokeFunction('convertToInteractive',\n",
              "                                                    [key], {});\n",
              "        if (!dataTable) return;\n",
              "\n",
              "        const docLinkHtml = 'Like what you see? Visit the ' +\n",
              "          '<a target=\"_blank\" href=https://colab.research.google.com/notebooks/data_table.ipynb>data table notebook</a>'\n",
              "          + ' to learn more about interactive tables.';\n",
              "        element.innerHTML = '';\n",
              "        dataTable['output_type'] = 'display_data';\n",
              "        await google.colab.output.renderOutput(dataTable, element);\n",
              "        const docLink = document.createElement('div');\n",
              "        docLink.innerHTML = docLinkHtml;\n",
              "        element.appendChild(docLink);\n",
              "      }\n",
              "    </script>\n",
              "  </div>\n",
              "\n",
              "\n",
              "<div id=\"df-49318d53-b39b-4dac-8263-709bc631908e\">\n",
              "  <button class=\"colab-df-quickchart\" onclick=\"quickchart('df-49318d53-b39b-4dac-8263-709bc631908e')\"\n",
              "            title=\"Suggest charts.\"\n",
              "            style=\"display:none;\">\n",
              "\n",
              "<svg xmlns=\"http://www.w3.org/2000/svg\" height=\"24px\"viewBox=\"0 0 24 24\"\n",
              "     width=\"24px\">\n",
              "    <g>\n",
              "        <path d=\"M19 3H5c-1.1 0-2 .9-2 2v14c0 1.1.9 2 2 2h14c1.1 0 2-.9 2-2V5c0-1.1-.9-2-2-2zM9 17H7v-7h2v7zm4 0h-2V7h2v10zm4 0h-2v-4h2v4z\"/>\n",
              "    </g>\n",
              "</svg>\n",
              "  </button>\n",
              "\n",
              "<style>\n",
              "  .colab-df-quickchart {\n",
              "    background-color: #E8F0FE;\n",
              "    border: none;\n",
              "    border-radius: 50%;\n",
              "    cursor: pointer;\n",
              "    display: none;\n",
              "    fill: #1967D2;\n",
              "    height: 32px;\n",
              "    padding: 0 0 0 0;\n",
              "    width: 32px;\n",
              "  }\n",
              "\n",
              "  .colab-df-quickchart:hover {\n",
              "    background-color: #E2EBFA;\n",
              "    box-shadow: 0px 1px 2px rgba(60, 64, 67, 0.3), 0px 1px 3px 1px rgba(60, 64, 67, 0.15);\n",
              "    fill: #174EA6;\n",
              "  }\n",
              "\n",
              "  [theme=dark] .colab-df-quickchart {\n",
              "    background-color: #3B4455;\n",
              "    fill: #D2E3FC;\n",
              "  }\n",
              "\n",
              "  [theme=dark] .colab-df-quickchart:hover {\n",
              "    background-color: #434B5C;\n",
              "    box-shadow: 0px 1px 3px 1px rgba(0, 0, 0, 0.15);\n",
              "    filter: drop-shadow(0px 1px 2px rgba(0, 0, 0, 0.3));\n",
              "    fill: #FFFFFF;\n",
              "  }\n",
              "</style>\n",
              "\n",
              "  <script>\n",
              "    async function quickchart(key) {\n",
              "      const charts = await google.colab.kernel.invokeFunction(\n",
              "          'suggestCharts', [key], {});\n",
              "    }\n",
              "    (() => {\n",
              "      let quickchartButtonEl =\n",
              "        document.querySelector('#df-49318d53-b39b-4dac-8263-709bc631908e button');\n",
              "      quickchartButtonEl.style.display =\n",
              "        google.colab.kernel.accessAllowed ? 'block' : 'none';\n",
              "    })();\n",
              "  </script>\n",
              "</div>\n",
              "    </div>\n",
              "  </div>\n"
            ]
          },
          "metadata": {},
          "execution_count": 33
        }
      ],
      "source": [
        "#drop the records with response missings in bank1.\n",
        "bank2 = bank1[~bank.response.isnull()]\n",
        "bank1.head()"
      ]
    },
    {
      "cell_type": "code",
      "execution_count": 34,
      "metadata": {
        "id": "mMDarph580ZM",
        "outputId": "7444835b-06fc-4fd8-f2ba-8a328f75617f",
        "colab": {
          "base_uri": "https://localhost:8080/"
        }
      },
      "outputs": [
        {
          "output_type": "execute_result",
          "data": {
            "text/plain": [
              "(45161, 19)"
            ]
          },
          "metadata": {},
          "execution_count": 34
        }
      ],
      "source": [
        "bank2.shape\n"
      ]
    },
    {
      "cell_type": "code",
      "execution_count": 35,
      "metadata": {
        "id": "iz5QY9Y280ZM",
        "outputId": "872085e3-86e4-4a1c-8ee0-3a4c37ffcb46",
        "colab": {
          "base_uri": "https://localhost:8080/"
        }
      },
      "outputs": [
        {
          "output_type": "execute_result",
          "data": {
            "text/plain": [
              "age           0\n",
              "salary        0\n",
              "balance       0\n",
              "marital       0\n",
              "targeted      0\n",
              "default       0\n",
              "housing       0\n",
              "loan          0\n",
              "contact       0\n",
              "day           0\n",
              "month        50\n",
              "duration      0\n",
              "campaign      0\n",
              "pdays         0\n",
              "previous      0\n",
              "poutcome      0\n",
              "response      0\n",
              "job           0\n",
              "education     0\n",
              "dtype: int64"
            ]
          },
          "metadata": {},
          "execution_count": 35
        }
      ],
      "source": [
        "#calculate the missing values in each column of data frame: bank2.\n",
        "bank2.isnull().sum()"
      ]
    },
    {
      "cell_type": "markdown",
      "metadata": {
        "id": "zxRzC0x980ZN"
      },
      "source": [
        "#### handling pdays column."
      ]
    },
    {
      "cell_type": "code",
      "execution_count": 36,
      "metadata": {
        "id": "XKCHa9lx80ZN",
        "outputId": "4fdf42c6-5471-4759-ac18-47a746003a7e",
        "colab": {
          "base_uri": "https://localhost:8080/"
        }
      },
      "outputs": [
        {
          "output_type": "execute_result",
          "data": {
            "text/plain": [
              "count    45161.000000\n",
              "mean        40.182015\n",
              "std        100.079372\n",
              "min         -1.000000\n",
              "25%         -1.000000\n",
              "50%         -1.000000\n",
              "75%         -1.000000\n",
              "max        871.000000\n",
              "Name: pdays, dtype: float64"
            ]
          },
          "metadata": {},
          "execution_count": 36
        }
      ],
      "source": [
        "#describe the pdays column of bank2.\n",
        "bank2.pdays.describe()"
      ]
    },
    {
      "cell_type": "markdown",
      "metadata": {
        "id": "Q08hrl0r80ZN"
      },
      "source": [
        "-1 indicates the missing values.\n",
        "Missing value does not always be present as null.\n",
        "\n"
      ]
    },
    {
      "cell_type": "code",
      "execution_count": 37,
      "metadata": {
        "id": "rrO9U9o280ZN",
        "outputId": "73e84f77-00ee-49ce-d9c6-d7b80dc47f7e",
        "colab": {
          "base_uri": "https://localhost:8080/"
        }
      },
      "outputs": [
        {
          "output_type": "execute_result",
          "data": {
            "text/plain": [
              "count    8246.000000\n",
              "mean      224.542202\n",
              "std       115.210792\n",
              "min         1.000000\n",
              "25%       133.000000\n",
              "50%       195.000000\n",
              "75%       327.000000\n",
              "max       871.000000\n",
              "Name: pdays, dtype: float64"
            ]
          },
          "metadata": {},
          "execution_count": 37
        }
      ],
      "source": [
        "#describe the pdays column with considering the -1 values. filling it with nan\n",
        "bank2.loc[bank2.pdays<0 , \"pdays\"] = np.NaN\n",
        "bank2.pdays.describe()"
      ]
    },
    {
      "cell_type": "markdown",
      "metadata": {
        "id": "UbPd5aGy80ZN"
      },
      "source": []
    },
    {
      "cell_type": "markdown",
      "metadata": {
        "id": "kr7BI5Jm80ZN"
      },
      "source": [
        "### Handling Outliers"
      ]
    },
    {
      "cell_type": "markdown",
      "metadata": {
        "id": "yskKEGzz80ZN"
      },
      "source": [
        "#### Age variable"
      ]
    },
    {
      "cell_type": "code",
      "execution_count": 38,
      "metadata": {
        "id": "mE8QRvqR80ZN",
        "outputId": "397dc523-71b8-4e05-987e-d07c8d4aa7c2",
        "colab": {
          "base_uri": "https://localhost:8080/"
        }
      },
      "outputs": [
        {
          "output_type": "execute_result",
          "data": {
            "text/plain": [
              "count    45161.000000\n",
              "mean        40.935763\n",
              "std         10.618790\n",
              "min         18.000000\n",
              "25%         33.000000\n",
              "50%         39.000000\n",
              "75%         48.000000\n",
              "max         95.000000\n",
              "Name: age, dtype: float64"
            ]
          },
          "metadata": {},
          "execution_count": 38
        }
      ],
      "source": [
        "#describe the age variable in bank2.\n",
        "bank2.age.describe()"
      ]
    },
    {
      "cell_type": "code",
      "execution_count": 40,
      "metadata": {
        "id": "nbhDBVqt80ZN",
        "colab": {
          "base_uri": "https://localhost:8080/",
          "height": 501
        },
        "outputId": "07a4c389-0ba9-48f3-eaf6-15766e003570"
      },
      "outputs": [
        {
          "output_type": "execute_result",
          "data": {
            "text/plain": [
              "(array([ 1336., 11733., 12909.,  8007.,  7058.,  3310.,   375.,   303.,\n",
              "          116.,    14.]),\n",
              " array([18. , 25.7, 33.4, 41.1, 48.8, 56.5, 64.2, 71.9, 79.6, 87.3, 95. ]),\n",
              " <BarContainer object of 10 artists>)"
            ]
          },
          "metadata": {},
          "execution_count": 40
        },
        {
          "output_type": "display_data",
          "data": {
            "text/plain": [
              "<Figure size 640x480 with 1 Axes>"
            ],
            "image/png": "[encoded data removed]"
          },
          "metadata": {}
        }
      ],
      "source": [
        "#plot the histogram of age variable.\n",
        "plt.hist(bank2.age)"
      ]
    },
    {
      "cell_type": "code",
      "execution_count": 41,
      "metadata": {
        "id": "rit5c7xK80ZN",
        "colab": {
          "base_uri": "https://localhost:8080/",
          "height": 448
        },
        "outputId": "55ef4e2d-bacf-424b-eb87-d922d9002e79"
      },
      "outputs": [
        {
          "output_type": "execute_result",
          "data": {
            "text/plain": [
              "<Axes: >"
            ]
          },
          "metadata": {},
          "execution_count": 41
        },
        {
          "output_type": "display_data",
          "data": {
            "text/plain": [
              "<Figure size 640x480 with 1 Axes>"
            ],
            "image/png": "[encoded data removed]"
          },
          "metadata": {}
        }
      ],
      "source": [
        "#plot the boxplot of age variable.\n",
        "sns.boxplot(bank2.age)"
      ]
    },
    {
      "cell_type": "markdown",
      "metadata": {
        "id": "8E-AjEJW80ZN"
      },
      "source": [
        "#### Salary variable"
      ]
    },
    {
      "cell_type": "code",
      "execution_count": 42,
      "metadata": {
        "id": "_Vas5hsF80ZN",
        "outputId": "ebf32446-0938-485a-df46-a24988001237",
        "colab": {
          "base_uri": "https://localhost:8080/"
        }
      },
      "outputs": [
        {
          "output_type": "execute_result",
          "data": {
            "text/plain": [
              "count     45161.000000\n",
              "mean      57004.849317\n",
              "std       32087.698810\n",
              "min           0.000000\n",
              "25%       20000.000000\n",
              "50%       60000.000000\n",
              "75%       70000.000000\n",
              "max      120000.000000\n",
              "Name: salary, dtype: float64"
            ]
          },
          "metadata": {},
          "execution_count": 42
        }
      ],
      "source": [
        "#describe the salary variable of inp1.\n",
        "bank2.salary.describe()"
      ]
    },
    {
      "cell_type": "code",
      "execution_count": 43,
      "metadata": {
        "id": "dWbBqObr80ZN",
        "colab": {
          "base_uri": "https://localhost:8080/",
          "height": 448
        },
        "outputId": "c67faf4a-3f56-4bda-ca32-30cb6a4aa18d"
      },
      "outputs": [
        {
          "output_type": "execute_result",
          "data": {
            "text/plain": [
              "<Axes: >"
            ]
          },
          "metadata": {},
          "execution_count": 43
        },
        {
          "output_type": "display_data",
          "data": {
            "text/plain": [
              "<Figure size 640x480 with 1 Axes>"
            ],
            "image/png": "[encoded data removed]"
          },
          "metadata": {}
        }
      ],
      "source": [
        "#plot the boxplot of salary variable.\n",
        "sns.boxplot(bank2.age)"
      ]
    },
    {
      "cell_type": "markdown",
      "metadata": {
        "id": "HBbozN3m80ZN"
      },
      "source": [
        "#### Balance variable"
      ]
    },
    {
      "cell_type": "code",
      "execution_count": 44,
      "metadata": {
        "id": "cVlSTzkD80ZO",
        "outputId": "ca9a410c-d836-4733-c88e-c6bd35aa85e2",
        "colab": {
          "base_uri": "https://localhost:8080/"
        }
      },
      "outputs": [
        {
          "output_type": "execute_result",
          "data": {
            "text/plain": [
              "count     45161.000000\n",
              "mean       1362.850690\n",
              "std        3045.939589\n",
              "min       -8019.000000\n",
              "25%          72.000000\n",
              "50%         448.000000\n",
              "75%        1428.000000\n",
              "max      102127.000000\n",
              "Name: balance, dtype: float64"
            ]
          },
          "metadata": {},
          "execution_count": 44
        }
      ],
      "source": [
        "#describe the balance variable of inp1.\n",
        "bank2.balance.describe()"
      ]
    },
    {
      "cell_type": "markdown",
      "metadata": {
        "id": "4LwhXzAZ80ZO"
      },
      "source": [
        "## Univariate Analysis"
      ]
    },
    {
      "cell_type": "markdown",
      "metadata": {
        "id": "7XIhgdA480ZO"
      },
      "source": [
        "### Categorical unordered univariate analysis"
      ]
    },
    {
      "cell_type": "markdown",
      "metadata": {
        "id": "n7ytjUTB80ZO"
      },
      "source": [
        "#### Marital status"
      ]
    },
    {
      "cell_type": "code",
      "execution_count": null,
      "metadata": {
        "id": "kuSg6rRn80ZO",
        "outputId": "5a48a0f3-33b8-4014-c9b9-768db9b10dce"
      },
      "outputs": [
        {
          "data": {
            "text/plain": [
              "married     27185\n",
              "single      12778\n",
              "divorced     5198\n",
              "Name: marital, dtype: int64"
            ]
          },
          "execution_count": 49,
          "metadata": {},
          "output_type": "execute_result"
        }
      ],
      "source": [
        "bank2.marital.value_counts()"
      ]
    },
    {
      "cell_type": "code",
      "execution_count": null,
      "metadata": {
        "id": "jsDZJhOd80ZP",
        "outputId": "f57f5b22-d291-4d1c-d9a5-d1c82ca8939e"
      },
      "outputs": [
        {
          "data": {
            "text/plain": [
              "married     0.601957\n",
              "single      0.282943\n",
              "divorced    0.115099\n",
              "Name: marital, dtype: float64"
            ]
          },
          "execution_count": 50,
          "metadata": {},
          "output_type": "execute_result"
        }
      ],
      "source": [
        "#calculate the percentage of each marital status category.\n",
        "bank2.marital.value_counts(normalize = True)"
      ]
    },
    {
      "cell_type": "code",
      "execution_count": null,
      "metadata": {
        "id": "ZR97yVfI80ZP",
        "outputId": "1e6bf1c8-a4bc-48f4-c088-3f6c4037bdc0"
      },
      "outputs": [
        {
          "data": {
            "image/png": "[encoded data removed]",
            "text/plain": [
              "<Figure size 432x288 with 1 Axes>"
            ]
          },
          "metadata": {
            "needs_background": "light"
          },
          "output_type": "display_data"
        }
      ],
      "source": [
        "#plot the bar graph of percentage marital status categories\n",
        "bank2.marital.value_counts(normalize = True).plot.barh()\n",
        "plt.show()"
      ]
    },
    {
      "cell_type": "markdown",
      "metadata": {
        "id": "_dQyqj7b80ZP"
      },
      "source": [
        "#### Job  "
      ]
    },
    {
      "cell_type": "code",
      "execution_count": null,
      "metadata": {
        "id": "Bh95nSEU80ZP",
        "outputId": "48bd23da-a0b0-4672-b24a-d3420d64e343"
      },
      "outputs": [
        {
          "data": {
            "text/plain": [
              "blue-collar      0.215274\n",
              "management       0.209273\n",
              "technician       0.168043\n",
              "admin.           0.114369\n",
              "services         0.091849\n",
              "retired          0.050087\n",
              "self-employed    0.034853\n",
              "entrepreneur     0.032860\n",
              "unemployed       0.028830\n",
              "housemaid        0.027413\n",
              "student          0.020770\n",
              "unknown          0.006377\n",
              "Name: job, dtype: float64"
            ]
          },
          "execution_count": 52,
          "metadata": {},
          "output_type": "execute_result"
        }
      ],
      "source": [
        "#calculate the percentage of each job status category.\n",
        "bank2.job.value_counts(normalize = True)"
      ]
    },
    {
      "cell_type": "code",
      "execution_count": null,
      "metadata": {
        "id": "5QsDBZZ680ZP",
        "outputId": "bc9321ca-e6c8-48a2-9f01-e8e33a7b2352"
      },
      "outputs": [
        {
          "data": {
            "image/png": "[encoded data removed]",
            "text/plain": [
              "<Figure size 432x288 with 1 Axes>"
            ]
          },
          "metadata": {
            "needs_background": "light"
          },
          "output_type": "display_data"
        }
      ],
      "source": [
        "#plot the bar graph of percentage job categories\n",
        "bank2.job.value_counts(normalize = True).plot.barh()\n",
        "plt.show()"
      ]
    },
    {
      "cell_type": "markdown",
      "metadata": {
        "id": "zg0MTE7580ZP"
      },
      "source": [
        "### Categorical ordered univariate analysis"
      ]
    },
    {
      "cell_type": "markdown",
      "metadata": {
        "id": "LMWmJs_m80ZP"
      },
      "source": [
        "#### Education"
      ]
    },
    {
      "cell_type": "code",
      "execution_count": null,
      "metadata": {
        "id": "rO6TukJl80ZP",
        "outputId": "754674c1-c75d-4cf7-aee7-2c2ff40dce77"
      },
      "outputs": [
        {
          "data": {
            "text/plain": [
              "secondary    0.513275\n",
              "tertiary     0.294192\n",
              "primary      0.151436\n",
              "unknown      0.041097\n",
              "Name: education, dtype: float64"
            ]
          },
          "execution_count": 54,
          "metadata": {},
          "output_type": "execute_result"
        }
      ],
      "source": [
        "#calculate the percentage of each education category.\n",
        "bank2.education.value_counts(normalize = True)"
      ]
    },
    {
      "cell_type": "code",
      "execution_count": null,
      "metadata": {
        "id": "s2pJK6dB80ZP",
        "outputId": "572031cf-2383-4995-9c66-edad0e91c800"
      },
      "outputs": [
        {
          "data": {
            "image/png": "[encoded data removed]",
            "text/plain": [
              "<Figure size 432x288 with 1 Axes>"
            ]
          },
          "metadata": {},
          "output_type": "display_data"
        }
      ],
      "source": [
        "#plot the pie chart of education categories\n",
        "bank2.education.value_counts(normalize = True).plot.pie()\n",
        "plt.show()"
      ]
    },
    {
      "cell_type": "markdown",
      "metadata": {
        "id": "dE7yUjcy80ZP"
      },
      "source": [
        "#### poutcome"
      ]
    },
    {
      "cell_type": "code",
      "execution_count": null,
      "metadata": {
        "id": "4tpN4kZL80ZP",
        "outputId": "c4fce890-6d03-4381-bfd8-52ca7b192a90"
      },
      "outputs": [
        {
          "data": {
            "text/plain": [
              "unknown    0.817520\n",
              "failure    0.108368\n",
              "other      0.040721\n",
              "success    0.033392\n",
              "Name: poutcome, dtype: float64"
            ]
          },
          "execution_count": 56,
          "metadata": {},
          "output_type": "execute_result"
        }
      ],
      "source": [
        "#calculate the percentage of each poutcome category.\n",
        "bank2.poutcome.value_counts(normalize = True)"
      ]
    },
    {
      "cell_type": "code",
      "execution_count": null,
      "metadata": {
        "id": "yhnxNGFP80ZP",
        "outputId": "c738a8a2-1db5-4e18-b035-83bec5493fca"
      },
      "outputs": [
        {
          "data": {
            "image/png": "[encoded data removed]",
            "text/plain": [
              "<Figure size 432x288 with 1 Axes>"
            ]
          },
          "metadata": {
            "needs_background": "light"
          },
          "output_type": "display_data"
        }
      ],
      "source": [
        "bank2.poutcome.value_counts(normalize = True).plot.bar()\n",
        "plt.show()"
      ]
    },
    {
      "cell_type": "code",
      "execution_count": null,
      "metadata": {
        "id": "bj72Ww3780ZP",
        "outputId": "8b8a2fef-9db1-4a6c-fb68-12b9a9478ea1"
      },
      "outputs": [
        {
          "data": {
            "image/png": "[encoded data removed]",
            "text/plain": [
              "<Figure size 432x288 with 1 Axes>"
            ]
          },
          "metadata": {
            "needs_background": "light"
          },
          "output_type": "display_data"
        }
      ],
      "source": [
        "# Except unknown\n",
        "bank2[~(bank2.poutcome==\"unknown\")].poutcome.value_counts(normalize = True).plot.barh()\n",
        "plt.show()"
      ]
    },
    {
      "cell_type": "markdown",
      "metadata": {
        "id": "9qska0Z480ZQ"
      },
      "source": [
        "#### Response the target variable"
      ]
    },
    {
      "cell_type": "code",
      "execution_count": null,
      "metadata": {
        "id": "uKPh8BuS80ZQ",
        "outputId": "30ce6087-8cd9-4135-f7c1-511055e75911"
      },
      "outputs": [
        {
          "data": {
            "text/plain": [
              "no     0.882974\n",
              "yes    0.117026\n",
              "Name: response, dtype: float64"
            ]
          },
          "execution_count": 59,
          "metadata": {},
          "output_type": "execute_result"
        }
      ],
      "source": [
        "#calculate the percentage of each response category.\n",
        "bank2.response.value_counts(normalize = True)"
      ]
    },
    {
      "cell_type": "code",
      "execution_count": null,
      "metadata": {
        "id": "_n_F4Z8e80ZQ",
        "outputId": "a2b7814b-b621-49d8-ff28-4057d672ce11"
      },
      "outputs": [
        {
          "data": {
            "image/png": "[encoded data removed]",
            "text/plain": [
              "<Figure size 432x288 with 1 Axes>"
            ]
          },
          "metadata": {},
          "output_type": "display_data"
        }
      ],
      "source": [
        "#plot the pie chart of response categories\n",
        "bank2.response.value_counts(normalize = True).plot.pie()\n",
        "plt.show()"
      ]
    },
    {
      "cell_type": "markdown",
      "metadata": {
        "id": "r4dIDth680ZQ"
      },
      "source": [
        "## Bivariate and Multivariate Analysis"
      ]
    },
    {
      "cell_type": "code",
      "execution_count": null,
      "metadata": {
        "id": "DfdyuLJ680ZQ",
        "outputId": "a62e627a-eb1b-4fb6-979c-6fbbf30c3576"
      },
      "outputs": [
        {
          "data": {
            "image/png": "[encoded data removed]",
            "text/plain": [
              "<Figure size 432x288 with 1 Axes>"
            ]
          },
          "metadata": {
            "needs_background": "light"
          },
          "output_type": "display_data"
        }
      ],
      "source": [
        "#plot the scatter plot of balance and salary variable in bank2\n",
        "bank2.plot.scatter(x = 'balance',y = 'salary')\n",
        "plt.show()"
      ]
    },
    {
      "cell_type": "code",
      "execution_count": null,
      "metadata": {
        "id": "VDbg0_wf80ZQ",
        "outputId": "682da8ee-7215-46f6-d4b9-891e5c04343e"
      },
      "outputs": [
        {
          "data": {
            "image/png": "[encoded data removed]",
            "text/plain": [
              "<Figure size 432x288 with 1 Axes>"
            ]
          },
          "metadata": {
            "needs_background": "light"
          },
          "output_type": "display_data"
        }
      ],
      "source": [
        "#plot the scatter plot of balance and age variable in bank2\n",
        "bank2.plot.scatter(x ='age', y= 'balance')\n",
        "plt.show()"
      ]
    },
    {
      "cell_type": "code",
      "execution_count": null,
      "metadata": {
        "id": "E0WOXGUN80ZQ",
        "outputId": "7f896a20-8e55-4a73-91fe-70d302625c80"
      },
      "outputs": [
        {
          "data": {
            "image/png": "[encoded data removed]",
            "text/plain": [
              "<Figure size 540x540 with 12 Axes>"
            ]
          },
          "metadata": {
            "needs_background": "light"
          },
          "output_type": "display_data"
        }
      ],
      "source": [
        "#plot the pair plot of salary, balance and age in bank2 dataframe.\n",
        "sns.pairplot( data= bank2, vars = ['salary', 'balance', 'age'])\n",
        "plt.show()"
      ]
    },
    {
      "cell_type": "markdown",
      "metadata": {
        "id": "7g9ZO8s680ZQ"
      },
      "source": [
        "#### Quantify using correlation values"
      ]
    },
    {
      "cell_type": "code",
      "execution_count": null,
      "metadata": {
        "id": "H_JjgaDt80ZQ",
        "outputId": "0f46163a-6345-4d3a-b487-85dd98885c7d"
      },
      "outputs": [
        {
          "data": {
            "text/html": [
              "<div>\n",
              "<style scoped>\n",
              "    .dataframe tbody tr th:only-of-type {\n",
              "        vertical-align: middle;\n",
              "    }\n",
              "\n",
              "    .dataframe tbody tr th {\n",
              "        vertical-align: top;\n",
              "    }\n",
              "\n",
              "    .dataframe thead th {\n",
              "        text-align: right;\n",
              "    }\n",
              "</style>\n",
              "<table border=\"1\" class=\"dataframe\">\n",
              "  <thead>\n",
              "    <tr style=\"text-align: right;\">\n",
              "      <th></th>\n",
              "      <th>age</th>\n",
              "      <th>salary</th>\n",
              "      <th>balance</th>\n",
              "    </tr>\n",
              "  </thead>\n",
              "  <tbody>\n",
              "    <tr>\n",
              "      <th>age</th>\n",
              "      <td>1.000000</td>\n",
              "      <td>0.024513</td>\n",
              "      <td>0.097710</td>\n",
              "    </tr>\n",
              "    <tr>\n",
              "      <th>salary</th>\n",
              "      <td>0.024513</td>\n",
              "      <td>1.000000</td>\n",
              "      <td>0.055489</td>\n",
              "    </tr>\n",
              "    <tr>\n",
              "      <th>balance</th>\n",
              "      <td>0.097710</td>\n",
              "      <td>0.055489</td>\n",
              "      <td>1.000000</td>\n",
              "    </tr>\n",
              "  </tbody>\n",
              "</table>\n",
              "</div>"
            ],
            "text/plain": [
              "              age    salary   balance\n",
              "age      1.000000  0.024513  0.097710\n",
              "salary   0.024513  1.000000  0.055489\n",
              "balance  0.097710  0.055489  1.000000"
            ]
          },
          "execution_count": 64,
          "metadata": {},
          "output_type": "execute_result"
        }
      ],
      "source": [
        "bank2[['age','salary','balance']].corr()"
      ]
    },
    {
      "cell_type": "markdown",
      "metadata": {
        "id": "NxdmBtqM80ZQ"
      },
      "source": [
        "#### Correlation heat map"
      ]
    },
    {
      "cell_type": "code",
      "execution_count": null,
      "metadata": {
        "id": "BVMRK52c80ZR",
        "outputId": "ead31e4f-a244-4288-94a0-218b621288e9"
      },
      "outputs": [
        {
          "data": {
            "image/png": "[encoded data removed]",
            "text/plain": [
              "<Figure size 432x288 with 2 Axes>"
            ]
          },
          "metadata": {
            "needs_background": "light"
          },
          "output_type": "display_data"
        }
      ],
      "source": [
        "#plot the correlation matrix of salary, balance and age in bank2 dataframe.\n",
        "sns.heatmap(bank2[['age','salary','balance']].corr(), annot = True , cmap = \"Reds\")\n",
        "plt.show()"
      ]
    },
    {
      "cell_type": "markdown",
      "metadata": {
        "id": "2MOwTChq80ZR"
      },
      "source": [
        "### Numerical categorical variable"
      ]
    },
    {
      "cell_type": "markdown",
      "metadata": {
        "id": "hkFcnUBj80ZR"
      },
      "source": [
        "#### Salary vs response"
      ]
    },
    {
      "cell_type": "code",
      "execution_count": null,
      "metadata": {
        "id": "XRTQ9q6x80ZR",
        "outputId": "073eaa3f-fd46-4c10-d625-ba4470144607"
      },
      "outputs": [
        {
          "data": {
            "text/plain": [
              "response\n",
              "no     56769.510482\n",
              "yes    58780.510880\n",
              "Name: salary, dtype: float64"
            ]
          },
          "execution_count": 66,
          "metadata": {},
          "output_type": "execute_result"
        }
      ],
      "source": [
        "#groupby the response to find the mean of the salary with response no & yes seperatly.\n",
        "bank2.groupby('response')['salary'].mean()"
      ]
    },
    {
      "cell_type": "code",
      "execution_count": null,
      "metadata": {
        "id": "f36OCTD080ZR",
        "outputId": "d8bea381-edda-4d30-e71a-6b12433ebc75"
      },
      "outputs": [
        {
          "data": {
            "text/plain": [
              "response\n",
              "no     60000\n",
              "yes    60000\n",
              "Name: salary, dtype: int64"
            ]
          },
          "execution_count": 67,
          "metadata": {},
          "output_type": "execute_result"
        }
      ],
      "source": [
        "#groupby the response to find the median of the salary with response no & yes seperatly.\n",
        "bank2.groupby('response')['salary'].median()"
      ]
    },
    {
      "cell_type": "code",
      "execution_count": null,
      "metadata": {
        "id": "xM-xv7aj80ZR",
        "outputId": "4e0be830-b002-418c-f628-7797babf3031"
      },
      "outputs": [
        {
          "data": {
            "image/png": "[encoded data removed]",
            "text/plain": [
              "<Figure size 432x288 with 1 Axes>"
            ]
          },
          "metadata": {
            "needs_background": "light"
          },
          "output_type": "display_data"
        }
      ],
      "source": [
        "#plot the box plot of salary for yes & no responses.\n",
        "sns.boxplot( data = bank2, x = 'response', y = 'salary' )\n",
        "plt.show()"
      ]
    },
    {
      "cell_type": "markdown",
      "metadata": {
        "id": "1byEjDOR80ZR"
      },
      "source": [
        "#### Balance vs response\n",
        "- We know that balance is highly skewed - has very high values!"
      ]
    },
    {
      "cell_type": "code",
      "execution_count": null,
      "metadata": {
        "id": "JhpR93pj80ZR",
        "outputId": "d2ed066e-d87f-4fd3-93be-18aa170974a3"
      },
      "outputs": [
        {
          "data": {
            "image/png": "[encoded data removed]",
            "text/plain": [
              "<Figure size 432x288 with 1 Axes>"
            ]
          },
          "metadata": {
            "needs_background": "light"
          },
          "output_type": "display_data"
        }
      ],
      "source": [
        "#plot the box plot of balance for yes & no responses.\n",
        "sns.boxplot( data = bank2, x = 'response', y = 'balance' )\n",
        "plt.show()\n",
        "\n"
      ]
    },
    {
      "cell_type": "code",
      "execution_count": null,
      "metadata": {
        "id": "PCURoSFb80ZR",
        "outputId": "374f4097-d764-48e3-a320-6426c2102599"
      },
      "outputs": [
        {
          "data": {
            "text/plain": [
              "response\n",
              "no     1304.292281\n",
              "yes    1804.681362\n",
              "Name: balance, dtype: float64"
            ]
          },
          "execution_count": 70,
          "metadata": {},
          "output_type": "execute_result"
        }
      ],
      "source": [
        "#groupby the response to find the mean of the balance with response no & yes seperatly.\n",
        "bank2.groupby('response')['balance'].mean()"
      ]
    },
    {
      "cell_type": "code",
      "execution_count": null,
      "metadata": {
        "id": "RwGNldzq80ZR",
        "outputId": "57b71e10-807c-4266-d00e-ee48a1d7a7bb"
      },
      "outputs": [
        {
          "data": {
            "text/plain": [
              "response\n",
              "no     417\n",
              "yes    733\n",
              "Name: balance, dtype: int64"
            ]
          },
          "execution_count": 71,
          "metadata": {},
          "output_type": "execute_result"
        }
      ],
      "source": [
        "#groupby the response to find the median of the balance with response no & yes seperatly.\n",
        "bank2.groupby('response')['balance'].median()"
      ]
    },
    {
      "cell_type": "markdown",
      "metadata": {
        "id": "RJ7bI6y580ZR"
      },
      "source": [
        "##### 75th percentile"
      ]
    },
    {
      "cell_type": "code",
      "execution_count": null,
      "metadata": {
        "id": "FtWQZh6e80ZR"
      },
      "outputs": [],
      "source": [
        "#function to find the 75th percentile.\n",
        "def p75(x):\n",
        "    return np.quantile(x, 0.75)"
      ]
    },
    {
      "cell_type": "code",
      "execution_count": null,
      "metadata": {
        "id": "ni4-7H3q80ZR",
        "outputId": "a8140c9b-59e0-44dd-ff92-33b69fab4a62"
      },
      "outputs": [
        {
          "data": {
            "text/html": [
              "<div>\n",
              "<style scoped>\n",
              "    .dataframe tbody tr th:only-of-type {\n",
              "        vertical-align: middle;\n",
              "    }\n",
              "\n",
              "    .dataframe tbody tr th {\n",
              "        vertical-align: top;\n",
              "    }\n",
              "\n",
              "    .dataframe thead th {\n",
              "        text-align: right;\n",
              "    }\n",
              "</style>\n",
              "<table border=\"1\" class=\"dataframe\">\n",
              "  <thead>\n",
              "    <tr style=\"text-align: right;\">\n",
              "      <th></th>\n",
              "      <th>mean</th>\n",
              "      <th>median</th>\n",
              "      <th>p75</th>\n",
              "    </tr>\n",
              "    <tr>\n",
              "      <th>response</th>\n",
              "      <th></th>\n",
              "      <th></th>\n",
              "      <th></th>\n",
              "    </tr>\n",
              "  </thead>\n",
              "  <tbody>\n",
              "    <tr>\n",
              "      <th>no</th>\n",
              "      <td>1304.292281</td>\n",
              "      <td>417</td>\n",
              "      <td>1345</td>\n",
              "    </tr>\n",
              "    <tr>\n",
              "      <th>yes</th>\n",
              "      <td>1804.681362</td>\n",
              "      <td>733</td>\n",
              "      <td>2159</td>\n",
              "    </tr>\n",
              "  </tbody>\n",
              "</table>\n",
              "</div>"
            ],
            "text/plain": [
              "                 mean  median   p75\n",
              "response                           \n",
              "no        1304.292281     417  1345\n",
              "yes       1804.681362     733  2159"
            ]
          },
          "execution_count": 73,
          "metadata": {},
          "output_type": "execute_result"
        }
      ],
      "source": [
        "#calculate the mean, median and 75th percentile of balance with response\n",
        "bank2.groupby('response')['balance'].aggregate(['mean','median',p75])"
      ]
    },
    {
      "cell_type": "code",
      "execution_count": null,
      "metadata": {
        "id": "xIhpX6Aa80ZR",
        "outputId": "8354415b-d5c9-49bc-e280-e628e09832cd"
      },
      "outputs": [
        {
          "data": {
            "image/png": "[encoded data removed]",
            "text/plain": [
              "<Figure size 432x288 with 1 Axes>"
            ]
          },
          "metadata": {
            "needs_background": "light"
          },
          "output_type": "display_data"
        }
      ],
      "source": [
        "#plot the bar graph of balance's mean an median with response.\n",
        "bank2.groupby('response')['balance'].aggregate(['mean','median',p75]).plot.bar()\n",
        "plt.show()"
      ]
    },
    {
      "cell_type": "markdown",
      "metadata": {
        "id": "m2j2_AAU80ZS"
      },
      "source": [
        "#### Education vs salary"
      ]
    },
    {
      "cell_type": "code",
      "execution_count": null,
      "metadata": {
        "id": "oD6kYTIq80ZS",
        "outputId": "e3e6175c-30f5-41e0-9323-fbbbe46727ba"
      },
      "outputs": [
        {
          "data": {
            "text/plain": [
              "education\n",
              "primary      34232.343910\n",
              "secondary    49731.449525\n",
              "tertiary     82880.249887\n",
              "unknown      46529.633621\n",
              "Name: salary, dtype: float64"
            ]
          },
          "execution_count": 75,
          "metadata": {},
          "output_type": "execute_result"
        }
      ],
      "source": [
        "#groupby the education to find the mean of the salary education category.\n",
        "bank2.groupby('education')['salary'].mean()"
      ]
    },
    {
      "cell_type": "code",
      "execution_count": null,
      "metadata": {
        "id": "Xj6IO9q380ZS",
        "outputId": "6cfa1f27-b451-457b-f045-f3ff62653343"
      },
      "outputs": [
        {
          "data": {
            "text/plain": [
              "education\n",
              "primary       20000\n",
              "secondary     55000\n",
              "tertiary     100000\n",
              "unknown       50000\n",
              "Name: salary, dtype: int64"
            ]
          },
          "execution_count": 76,
          "metadata": {},
          "output_type": "execute_result"
        }
      ],
      "source": [
        "#groupby the education to find the median of the salary for each education category.\n",
        "bank2.groupby('education')['salary'].median()"
      ]
    },
    {
      "cell_type": "markdown",
      "metadata": {
        "id": "ZGp_CqA880ZS"
      },
      "source": [
        "#### Job vs salary"
      ]
    },
    {
      "cell_type": "code",
      "execution_count": null,
      "metadata": {
        "id": "RQtNvyrw80ZS",
        "outputId": "4ffe1c0e-9d97-4398-fe8c-0fa533edb61d"
      },
      "outputs": [
        {
          "data": {
            "text/plain": [
              "job\n",
              "admin.            50000\n",
              "blue-collar       20000\n",
              "entrepreneur     120000\n",
              "housemaid         16000\n",
              "management       100000\n",
              "retired           55000\n",
              "self-employed     60000\n",
              "services          70000\n",
              "student            4000\n",
              "technician        60000\n",
              "unemployed         8000\n",
              "unknown               0\n",
              "Name: salary, dtype: int64"
            ]
          },
          "execution_count": 77,
          "metadata": {},
          "output_type": "execute_result"
        }
      ],
      "source": [
        "#groupby the job to find the mean of the salary for each job category.\n",
        "bank2.groupby('job')['salary'].mean()"
      ]
    },
    {
      "cell_type": "markdown",
      "metadata": {
        "id": "hppx_5fv80ZS"
      },
      "source": [
        "### Categorical categorical variable"
      ]
    },
    {
      "cell_type": "code",
      "execution_count": null,
      "metadata": {
        "id": "86UDXY-n80ZS",
        "outputId": "ea4e42b8-0903-4cd3-bc1b-7f5d920cae62"
      },
      "outputs": [
        {
          "data": {
            "text/plain": [
              "0    39876\n",
              "1     5285\n",
              "Name: response_flag, dtype: int64"
            ]
          },
          "execution_count": 78,
          "metadata": {},
          "output_type": "execute_result"
        }
      ],
      "source": [
        "#create response_flag of numerical data type where response \"yes\"= 1, \"no\"= 0\n",
        "bank2['response_flag'] = np.where(bank2.response== 'yes', 1,0)\n",
        "bank2.response_flag.value_counts()"
      ]
    },
    {
      "cell_type": "code",
      "execution_count": null,
      "metadata": {
        "id": "-o6dhSzJ80ZS",
        "outputId": "135627d7-c0c3-4817-9b5a-63e766cd8f1e"
      },
      "outputs": [
        {
          "data": {
            "text/plain": [
              "no     39876\n",
              "yes     5285\n",
              "Name: response, dtype: int64"
            ]
          },
          "execution_count": 79,
          "metadata": {},
          "output_type": "execute_result"
        }
      ],
      "source": [
        "bank2.response.value_counts()"
      ]
    },
    {
      "cell_type": "code",
      "execution_count": null,
      "metadata": {
        "id": "aJq6GLe780ZS",
        "outputId": "ddf9c7a7-adce-4329-f605-1ba6ed52c147"
      },
      "outputs": [
        {
          "data": {
            "text/plain": [
              "no     0.882974\n",
              "yes    0.117026\n",
              "Name: response, dtype: float64"
            ]
          },
          "execution_count": 80,
          "metadata": {},
          "output_type": "execute_result"
        }
      ],
      "source": [
        "bank2.response.value_counts(normalize = True)"
      ]
    },
    {
      "cell_type": "code",
      "execution_count": null,
      "metadata": {
        "id": "Uj12p72R80ZS",
        "outputId": "a545aaa0-9063-4a34-f530-9463d87f8276"
      },
      "outputs": [
        {
          "data": {
            "text/plain": [
              "0.1170257523084077"
            ]
          },
          "execution_count": 81,
          "metadata": {},
          "output_type": "execute_result"
        }
      ],
      "source": [
        "bank2.response_flag.mean()"
      ]
    },
    {
      "cell_type": "markdown",
      "metadata": {
        "id": "TYZtPnyY80ZS"
      },
      "source": [
        "#### Education vs response rate"
      ]
    },
    {
      "cell_type": "code",
      "execution_count": null,
      "metadata": {
        "id": "1HgsksIb80ZS",
        "outputId": "e9602e2f-c7ee-492c-ccd8-4bcb1677a7de"
      },
      "outputs": [
        {
          "data": {
            "text/plain": [
              "education\n",
              "primary      0.086416\n",
              "secondary    0.105608\n",
              "tertiary     0.150083\n",
              "unknown      0.135776\n",
              "Name: response_flag, dtype: float64"
            ]
          },
          "execution_count": 82,
          "metadata": {},
          "output_type": "execute_result"
        }
      ],
      "source": [
        "#calculate the mean of response_flag with different education categories.\n",
        "bank2.groupby('education')['response_flag'].mean()"
      ]
    },
    {
      "cell_type": "markdown",
      "metadata": {
        "id": "8VNJIbMX80ZS"
      },
      "source": [
        "#### Marital vs response rate"
      ]
    },
    {
      "cell_type": "code",
      "execution_count": null,
      "metadata": {
        "id": "WNGzETki80ZS",
        "outputId": "b833be3c-95a7-4501-8564-d94c7eff3333"
      },
      "outputs": [
        {
          "data": {
            "text/plain": [
              "marital\n",
              "divorced    0.119469\n",
              "married     0.101269\n",
              "single      0.149554\n",
              "Name: response_flag, dtype: float64"
            ]
          },
          "execution_count": 83,
          "metadata": {},
          "output_type": "execute_result"
        }
      ],
      "source": [
        "#calculate the mean of response_flag with different marital status categories.\n",
        "bank2.groupby('marital')['response_flag'].mean()"
      ]
    },
    {
      "cell_type": "code",
      "execution_count": null,
      "metadata": {
        "id": "HImcyF3o80ZT",
        "outputId": "08b57917-7a6d-4daf-aaa4-87198df2779e"
      },
      "outputs": [
        {
          "data": {
            "image/png": "[encoded data removed]",
            "text/plain": [
              "<Figure size 432x288 with 1 Axes>"
            ]
          },
          "metadata": {
            "needs_background": "light"
          },
          "output_type": "display_data"
        }
      ],
      "source": [
        "#plot the bar graph of marital status with average value of response_flag\n",
        "bank2.groupby('marital')['response_flag'].mean().plot.barh()\n",
        "plt.show()"
      ]
    },
    {
      "cell_type": "markdown",
      "metadata": {
        "id": "5i4m7f5u80ZT"
      },
      "source": [
        "#### Loans vs response rate"
      ]
    },
    {
      "cell_type": "code",
      "execution_count": null,
      "metadata": {
        "id": "cL27b4Rv80ZT",
        "outputId": "0d732414-d502-4831-a679-ef2167a22e5e"
      },
      "outputs": [
        {
          "data": {
            "image/png": "[encoded data removed]",
            "text/plain": [
              "<Figure size 432x288 with 1 Axes>"
            ]
          },
          "metadata": {
            "needs_background": "light"
          },
          "output_type": "display_data"
        }
      ],
      "source": [
        "#plot the bar graph of personal loan status with average value of response_flag\n",
        "bank2.groupby('loan')['response_flag'].mean().plot.barh()\n",
        "plt.show()"
      ]
    },
    {
      "cell_type": "markdown",
      "metadata": {
        "id": "T1sGrXyl80ZT"
      },
      "source": [
        "#### Housing loans vs response rate"
      ]
    },
    {
      "cell_type": "code",
      "execution_count": null,
      "metadata": {
        "id": "xg8E7z9T80ZT",
        "outputId": "9f788e1d-f97e-4ba0-caf1-15ca62da972a"
      },
      "outputs": [
        {
          "data": {
            "image/png": "[encoded data removed]",
            "text/plain": [
              "<Figure size 432x288 with 1 Axes>"
            ]
          },
          "metadata": {
            "needs_background": "light"
          },
          "output_type": "display_data"
        }
      ],
      "source": [
        "#plot the bar graph of housing loan status with average value of response_flag\n",
        "bank2.groupby('housing')['response_flag'].mean().plot.barh()\n",
        "plt.show()"
      ]
    },
    {
      "cell_type": "markdown",
      "metadata": {
        "id": "HcXqWJTS80ZT"
      },
      "source": [
        "#### Age vs response"
      ]
    },
    {
      "cell_type": "code",
      "execution_count": null,
      "metadata": {
        "id": "-W4mG5u280ZT",
        "outputId": "29088311-36d0-4eb2-830c-396da33be4fa"
      },
      "outputs": [
        {
          "data": {
            "image/png": "[encoded data removed]",
            "text/plain": [
              "<Figure size 432x288 with 1 Axes>"
            ]
          },
          "metadata": {
            "needs_background": "light"
          },
          "output_type": "display_data"
        }
      ],
      "source": [
        "#plot the boxplot of age with response_flag\n",
        "sns.boxplot(data = bank2, x = 'response', y = 'age')\n",
        "plt.show()"
      ]
    },
    {
      "cell_type": "markdown",
      "metadata": {
        "id": "461CyKIm80ZT"
      },
      "source": [
        "##### Making buckets from age columns"
      ]
    },
    {
      "cell_type": "code",
      "execution_count": null,
      "metadata": {
        "id": "ArnY2QvG80ZT"
      },
      "outputs": [],
      "source": [
        "#create the buckets of <30, 30-40, 40-50 50-60 and 60+ from age column.\n",
        "bank2['age_group'] = pd.cut(bank2.age, [0,30,40,50,60,9999], labels = ['<30','30-40','40-50','50-60','60+'])"
      ]
    },
    {
      "cell_type": "code",
      "execution_count": null,
      "metadata": {
        "id": "VoCAQp5P80ZT",
        "outputId": "2109e961-ec1a-4e21-ef7e-dfd14261b21d"
      },
      "outputs": [
        {
          "data": {
            "text/plain": [
              "0    58\n",
              "1    44\n",
              "2    33\n",
              "3    47\n",
              "4    33\n",
              "Name: age, dtype: int32"
            ]
          },
          "execution_count": 89,
          "metadata": {},
          "output_type": "execute_result"
        }
      ],
      "source": [
        "bank2.age.head()"
      ]
    },
    {
      "cell_type": "code",
      "execution_count": null,
      "metadata": {
        "id": "31Q-gRvP80ZT",
        "outputId": "54b655a1-5388-48da-8d85-33b3f19c41a1"
      },
      "outputs": [
        {
          "data": {
            "text/plain": [
              "30-40    0.391090\n",
              "40-50    0.248688\n",
              "50-60    0.178406\n",
              "<30      0.155555\n",
              "60+      0.026262\n",
              "Name: age_group, dtype: float64"
            ]
          },
          "execution_count": 90,
          "metadata": {},
          "output_type": "execute_result"
        }
      ],
      "source": [
        "bank2.age_group.value_counts(normalize = True)"
      ]
    },
    {
      "cell_type": "code",
      "execution_count": null,
      "metadata": {
        "id": "rfKB7IyO80ZT",
        "outputId": "0615d4e3-2228-413f-e9d7-8a63fd33b5d2"
      },
      "outputs": [
        {
          "data": {
            "image/png": "[encoded data removed]",
            "text/plain": [
              "<Figure size 720x288 with 2 Axes>"
            ]
          },
          "metadata": {
            "needs_background": "light"
          },
          "output_type": "display_data"
        }
      ],
      "source": [
        "#plot the percentage of each buckets and average values of response_flag in each buckets. plot in subplots.\n",
        "plt.figure(figsize = [10,4])\n",
        "plt.subplot(1,2,1)\n",
        "bank2.age_group.value_counts(normalize = True).plot.bar()\n",
        "plt.subplot(1,2,2)\n",
        "bank2.groupby(['age_group'])['response_flag'].mean().plot.bar()\n",
        "plt.show()"
      ]
    },
    {
      "cell_type": "code",
      "execution_count": null,
      "metadata": {
        "id": "pu7xqq2-80ZT",
        "outputId": "b3650db3-723d-4bcc-edc9-1980aa8e2c28"
      },
      "outputs": [
        {
          "data": {
            "image/png": "[encoded data removed]",
            "text/plain": [
              "<Figure size 432x288 with 1 Axes>"
            ]
          },
          "metadata": {
            "needs_background": "light"
          },
          "output_type": "display_data"
        }
      ],
      "source": [
        "#plot the bar graph of job categories with response_flag mean value.\n",
        "bank2.groupby(['job'])['response_flag'].mean().plot.bar()\n",
        "plt.show()"
      ]
    },
    {
      "cell_type": "markdown",
      "metadata": {
        "id": "brC6ptKU80ZT"
      },
      "source": [
        "### Multivariate analysis"
      ]
    },
    {
      "cell_type": "markdown",
      "metadata": {
        "id": "qUt9ihJm80ZT"
      },
      "source": [
        "#### Education vs marital vs response"
      ]
    },
    {
      "cell_type": "code",
      "execution_count": null,
      "metadata": {
        "id": "RqaUhhqj80ZU",
        "outputId": "fd90e9dd-6f3d-4341-b8e0-0559053347b4"
      },
      "outputs": [
        {
          "data": {
            "text/html": [
              "<div>\n",
              "<style scoped>\n",
              "    .dataframe tbody tr th:only-of-type {\n",
              "        vertical-align: middle;\n",
              "    }\n",
              "\n",
              "    .dataframe tbody tr th {\n",
              "        vertical-align: top;\n",
              "    }\n",
              "\n",
              "    .dataframe thead th {\n",
              "        text-align: right;\n",
              "    }\n",
              "</style>\n",
              "<table border=\"1\" class=\"dataframe\">\n",
              "  <thead>\n",
              "    <tr style=\"text-align: right;\">\n",
              "      <th>marital</th>\n",
              "      <th>divorced</th>\n",
              "      <th>married</th>\n",
              "      <th>single</th>\n",
              "    </tr>\n",
              "    <tr>\n",
              "      <th>education</th>\n",
              "      <th></th>\n",
              "      <th></th>\n",
              "      <th></th>\n",
              "    </tr>\n",
              "  </thead>\n",
              "  <tbody>\n",
              "    <tr>\n",
              "      <th>primary</th>\n",
              "      <td>0.138852</td>\n",
              "      <td>0.075601</td>\n",
              "      <td>0.106808</td>\n",
              "    </tr>\n",
              "    <tr>\n",
              "      <th>secondary</th>\n",
              "      <td>0.103559</td>\n",
              "      <td>0.094650</td>\n",
              "      <td>0.129271</td>\n",
              "    </tr>\n",
              "    <tr>\n",
              "      <th>tertiary</th>\n",
              "      <td>0.137415</td>\n",
              "      <td>0.129835</td>\n",
              "      <td>0.183737</td>\n",
              "    </tr>\n",
              "    <tr>\n",
              "      <th>unknown</th>\n",
              "      <td>0.142012</td>\n",
              "      <td>0.122519</td>\n",
              "      <td>0.162879</td>\n",
              "    </tr>\n",
              "  </tbody>\n",
              "</table>\n",
              "</div>"
            ],
            "text/plain": [
              "marital    divorced   married    single\n",
              "education                              \n",
              "primary    0.138852  0.075601  0.106808\n",
              "secondary  0.103559  0.094650  0.129271\n",
              "tertiary   0.137415  0.129835  0.183737\n",
              "unknown    0.142012  0.122519  0.162879"
            ]
          },
          "execution_count": 93,
          "metadata": {},
          "output_type": "execute_result"
        }
      ],
      "source": [
        "res = pd.pivot_table (data = bank2 , index = 'education', columns= 'marital', values='response_flag')\n",
        "res"
      ]
    },
    {
      "cell_type": "code",
      "execution_count": null,
      "metadata": {
        "id": "2qShD3CQ80ZU",
        "outputId": "cea033a5-a1cb-43f4-e5ad-1bd9bc39c461"
      },
      "outputs": [
        {
          "data": {
            "image/png": "[encoded data removed]",
            "text/plain": [
              "<Figure size 432x288 with 2 Axes>"
            ]
          },
          "metadata": {
            "needs_background": "light"
          },
          "output_type": "display_data"
        }
      ],
      "source": [
        "#create heat map of education vs marital vs response_flag\n",
        "sns.heatmap(res, annot = True)\n",
        "plt.show()"
      ]
    },
    {
      "cell_type": "code",
      "execution_count": null,
      "metadata": {
        "id": "c69z1FBE80ZU",
        "outputId": "4134cb4d-d195-4b4a-f4d3-22021a065574"
      },
      "outputs": [
        {
          "data": {
            "image/png": "[encoded data removed]",
            "text/plain": [
              "<Figure size 432x288 with 2 Axes>"
            ]
          },
          "metadata": {
            "needs_background": "light"
          },
          "output_type": "display_data"
        }
      ],
      "source": [
        "sns.heatmap(res, annot = True, cmap = 'RdYlGn')\n",
        "plt.show()"
      ]
    },
    {
      "cell_type": "markdown",
      "metadata": {
        "id": "aKB7kBmE80ZU"
      },
      "source": [
        "#### Job vs marital vs response"
      ]
    },
    {
      "cell_type": "code",
      "execution_count": null,
      "metadata": {
        "id": "sT9ZWGO380ZU",
        "outputId": "6d46f948-471a-46b8-d0c3-93b8327a71ff"
      },
      "outputs": [
        {
          "data": {
            "text/html": [
              "<div>\n",
              "<style scoped>\n",
              "    .dataframe tbody tr th:only-of-type {\n",
              "        vertical-align: middle;\n",
              "    }\n",
              "\n",
              "    .dataframe tbody tr th {\n",
              "        vertical-align: top;\n",
              "    }\n",
              "\n",
              "    .dataframe thead th {\n",
              "        text-align: right;\n",
              "    }\n",
              "</style>\n",
              "<table border=\"1\" class=\"dataframe\">\n",
              "  <thead>\n",
              "    <tr style=\"text-align: right;\">\n",
              "      <th>marital</th>\n",
              "      <th>divorced</th>\n",
              "      <th>married</th>\n",
              "      <th>single</th>\n",
              "    </tr>\n",
              "    <tr>\n",
              "      <th>job</th>\n",
              "      <th></th>\n",
              "      <th></th>\n",
              "      <th></th>\n",
              "    </tr>\n",
              "  </thead>\n",
              "  <tbody>\n",
              "    <tr>\n",
              "      <th>admin.</th>\n",
              "      <td>0.120160</td>\n",
              "      <td>0.113383</td>\n",
              "      <td>0.136153</td>\n",
              "    </tr>\n",
              "    <tr>\n",
              "      <th>blue-collar</th>\n",
              "      <td>0.077644</td>\n",
              "      <td>0.062778</td>\n",
              "      <td>0.105760</td>\n",
              "    </tr>\n",
              "    <tr>\n",
              "      <th>entrepreneur</th>\n",
              "      <td>0.083799</td>\n",
              "      <td>0.075843</td>\n",
              "      <td>0.113924</td>\n",
              "    </tr>\n",
              "    <tr>\n",
              "      <th>housemaid</th>\n",
              "      <td>0.097826</td>\n",
              "      <td>0.072527</td>\n",
              "      <td>0.166667</td>\n",
              "    </tr>\n",
              "    <tr>\n",
              "      <th>management</th>\n",
              "      <td>0.127928</td>\n",
              "      <td>0.126228</td>\n",
              "      <td>0.162254</td>\n",
              "    </tr>\n",
              "    <tr>\n",
              "      <th>retired</th>\n",
              "      <td>0.283688</td>\n",
              "      <td>0.220682</td>\n",
              "      <td>0.120370</td>\n",
              "    </tr>\n",
              "    <tr>\n",
              "      <th>self-employed</th>\n",
              "      <td>0.158273</td>\n",
              "      <td>0.079637</td>\n",
              "      <td>0.191874</td>\n",
              "    </tr>\n",
              "    <tr>\n",
              "      <th>services</th>\n",
              "      <td>0.091241</td>\n",
              "      <td>0.074105</td>\n",
              "      <td>0.117696</td>\n",
              "    </tr>\n",
              "    <tr>\n",
              "      <th>student</th>\n",
              "      <td>0.166667</td>\n",
              "      <td>0.185185</td>\n",
              "      <td>0.293850</td>\n",
              "    </tr>\n",
              "    <tr>\n",
              "      <th>technician</th>\n",
              "      <td>0.083243</td>\n",
              "      <td>0.102767</td>\n",
              "      <td>0.132645</td>\n",
              "    </tr>\n",
              "    <tr>\n",
              "      <th>unemployed</th>\n",
              "      <td>0.157895</td>\n",
              "      <td>0.132695</td>\n",
              "      <td>0.195000</td>\n",
              "    </tr>\n",
              "    <tr>\n",
              "      <th>unknown</th>\n",
              "      <td>0.058824</td>\n",
              "      <td>0.103448</td>\n",
              "      <td>0.176471</td>\n",
              "    </tr>\n",
              "  </tbody>\n",
              "</table>\n",
              "</div>"
            ],
            "text/plain": [
              "marital        divorced   married    single\n",
              "job                                        \n",
              "admin.         0.120160  0.113383  0.136153\n",
              "blue-collar    0.077644  0.062778  0.105760\n",
              "entrepreneur   0.083799  0.075843  0.113924\n",
              "housemaid      0.097826  0.072527  0.166667\n",
              "management     0.127928  0.126228  0.162254\n",
              "retired        0.283688  0.220682  0.120370\n",
              "self-employed  0.158273  0.079637  0.191874\n",
              "services       0.091241  0.074105  0.117696\n",
              "student        0.166667  0.185185  0.293850\n",
              "technician     0.083243  0.102767  0.132645\n",
              "unemployed     0.157895  0.132695  0.195000\n",
              "unknown        0.058824  0.103448  0.176471"
            ]
          },
          "execution_count": 96,
          "metadata": {},
          "output_type": "execute_result"
        }
      ],
      "source": [
        "#create the heat map of Job vs marital vs response_flag.\n",
        "res1 = pd.pivot_table (data = bank2 , index = 'job', columns= 'marital', values='response_flag')\n",
        "res1"
      ]
    },
    {
      "cell_type": "code",
      "execution_count": null,
      "metadata": {
        "id": "iFnCsjnZ80ZU",
        "outputId": "a1fecec0-c5c9-44be-8584-799c521aff14"
      },
      "outputs": [
        {
          "data": {
            "image/png": "[encoded data removed]",
            "text/plain": [
              "<Figure size 432x288 with 2 Axes>"
            ]
          },
          "metadata": {
            "needs_background": "light"
          },
          "output_type": "display_data"
        }
      ],
      "source": [
        "sns.heatmap(res1, annot = True, cmap = 'RdYlGn',center = 0.117)\n",
        "plt.show()"
      ]
    },
    {
      "cell_type": "markdown",
      "metadata": {
        "id": "5QARY3sT80ZU"
      },
      "source": [
        "#### Education vs poutcome vs response"
      ]
    },
    {
      "cell_type": "code",
      "execution_count": null,
      "metadata": {
        "id": "A0gRa_6V80ZU",
        "outputId": "abc7e3a9-f3ee-4d6e-aad2-801f2b35dd8e"
      },
      "outputs": [
        {
          "data": {
            "text/html": [
              "<div>\n",
              "<style scoped>\n",
              "    .dataframe tbody tr th:only-of-type {\n",
              "        vertical-align: middle;\n",
              "    }\n",
              "\n",
              "    .dataframe tbody tr th {\n",
              "        vertical-align: top;\n",
              "    }\n",
              "\n",
              "    .dataframe thead th {\n",
              "        text-align: right;\n",
              "    }\n",
              "</style>\n",
              "<table border=\"1\" class=\"dataframe\">\n",
              "  <thead>\n",
              "    <tr style=\"text-align: right;\">\n",
              "      <th>poutcome</th>\n",
              "      <th>failure</th>\n",
              "      <th>other</th>\n",
              "      <th>success</th>\n",
              "      <th>unknown</th>\n",
              "    </tr>\n",
              "    <tr>\n",
              "      <th>education</th>\n",
              "      <th></th>\n",
              "      <th></th>\n",
              "      <th></th>\n",
              "      <th></th>\n",
              "    </tr>\n",
              "  </thead>\n",
              "  <tbody>\n",
              "    <tr>\n",
              "      <th>primary</th>\n",
              "      <td>0.088785</td>\n",
              "      <td>0.143443</td>\n",
              "      <td>0.609023</td>\n",
              "      <td>0.071821</td>\n",
              "    </tr>\n",
              "    <tr>\n",
              "      <th>secondary</th>\n",
              "      <td>0.109007</td>\n",
              "      <td>0.140831</td>\n",
              "      <td>0.641902</td>\n",
              "      <td>0.084244</td>\n",
              "    </tr>\n",
              "    <tr>\n",
              "      <th>tertiary</th>\n",
              "      <td>0.168683</td>\n",
              "      <td>0.220994</td>\n",
              "      <td>0.657005</td>\n",
              "      <td>0.114256</td>\n",
              "    </tr>\n",
              "    <tr>\n",
              "      <th>unknown</th>\n",
              "      <td>0.158192</td>\n",
              "      <td>0.200000</td>\n",
              "      <td>0.679012</td>\n",
              "      <td>0.101761</td>\n",
              "    </tr>\n",
              "  </tbody>\n",
              "</table>\n",
              "</div>"
            ],
            "text/plain": [
              "poutcome    failure     other   success   unknown\n",
              "education                                        \n",
              "primary    0.088785  0.143443  0.609023  0.071821\n",
              "secondary  0.109007  0.140831  0.641902  0.084244\n",
              "tertiary   0.168683  0.220994  0.657005  0.114256\n",
              "unknown    0.158192  0.200000  0.679012  0.101761"
            ]
          },
          "execution_count": 98,
          "metadata": {},
          "output_type": "execute_result"
        }
      ],
      "source": [
        "#create the heat map of education vs poutcome vs response_flag.\n",
        "res2 = pd.pivot_table (data = bank2 , index = 'education', columns= 'poutcome', values='response_flag')\n",
        "res2"
      ]
    },
    {
      "cell_type": "code",
      "execution_count": null,
      "metadata": {
        "id": "xmAA0S5E80ZU",
        "outputId": "76780737-9854-4ec9-e0e5-a77fdf41f845"
      },
      "outputs": [
        {
          "data": {
            "image/png": "[encoded data removed]",
            "text/plain": [
              "<Figure size 432x288 with 2 Axes>"
            ]
          },
          "metadata": {
            "needs_background": "light"
          },
          "output_type": "display_data"
        }
      ],
      "source": [
        "sns.heatmap(res2, annot = True, cmap = 'RdYlGn', center= 0.117)\n",
        "plt.show()"
      ]
    },
    {
      "cell_type": "code",
      "execution_count": null,
      "metadata": {
        "id": "tDYvmxyv80ZU",
        "outputId": "488bda91-974c-4850-d081-8b0b58fbecc5"
      },
      "outputs": [
        {
          "data": {
            "text/plain": [
              "0.2307785593014795"
            ]
          },
          "execution_count": 100,
          "metadata": {},
          "output_type": "execute_result"
        }
      ],
      "source": [
        "bank2[bank2.pdays>0].response_flag.mean()"
      ]
    },
    {
      "cell_type": "code",
      "execution_count": null,
      "metadata": {
        "id": "QG6CEnul80ZU",
        "outputId": "2a79b220-025e-4b50-ec79-ba79d6fafeb3"
      },
      "outputs": [
        {
          "data": {
            "image/png": "[encoded data removed]",
            "text/plain": [
              "<Figure size 432x288 with 2 Axes>"
            ]
          },
          "metadata": {
            "needs_background": "light"
          },
          "output_type": "display_data"
        }
      ],
      "source": [
        "res2 = pd.pivot_table (data = bank2 , index = 'education', columns= 'poutcome', values='response_flag')\n",
        "sns.heatmap(res2, annot = True, cmap = 'RdYlGn', center= 0.2308)\n",
        "plt.show()"
      ]
    },
    {
      "cell_type": "code",
      "execution_count": null,
      "metadata": {
        "id": "1w-_27ax80ZU"
      },
      "outputs": [],
      "source": []
    },
    {
      "cell_type": "code",
      "execution_count": null,
      "metadata": {
        "id": "WBwVB80o80ZU"
      },
      "outputs": [],
      "source": []
    },
    {
      "cell_type": "code",
      "execution_count": null,
      "metadata": {
        "id": "GD2Ov6Ou80ZU"
      },
      "outputs": [],
      "source": []
    },
    {
      "cell_type": "code",
      "execution_count": null,
      "metadata": {
        "id": "x3QKGZzB80ZX"
      },
      "outputs": [],
      "source": []
    }
  ],
  "metadata": {
    "language_info": {
      "name": "python"
    },
    "colab": {
      "provenance": []
    },
    "kernelspec": {
      "name": "python3",
      "display_name": "Python 3"
    }
  },
  "nbformat": 4,
  "nbformat_minor": 0
}